{
  "nbformat": 4,
  "nbformat_minor": 0,
  "metadata": {
    "colab": {
      "provenance": [],
      "authorship_tag": "ABX9TyN7UMZx1gZRHsmqUNfr+XFL",
      "include_colab_link": true
    },
    "kernelspec": {
      "name": "python3",
      "display_name": "Python 3"
    },
    "language_info": {
      "name": "python"
    }
  },
  "cells": [
    {
      "cell_type": "markdown",
      "metadata": {
        "id": "view-in-github",
        "colab_type": "text"
      },
      "source": [
        "<a href=\"https://colab.research.google.com/github/diogenesjusto/FIAP/blob/master/Gradua%C3%A7%C3%A3o/2024/20240319_RegressaoLinear_2a_Aula.ipynb\" target=\"_parent\"><img src=\"https://colab.research.google.com/assets/colab-badge.svg\" alt=\"Open In Colab\"/></a>"
      ]
    },
    {
      "cell_type": "code",
      "source": [
        "# Carga de bibliotecas\n",
        "import pandas as pd\n",
        "import numpy as np\n",
        "from sklearn.linear_model import LinearRegression\n",
        "from sklearn.metrics import mean_absolute_error as MAE"
      ],
      "metadata": {
        "id": "AjLvr7X3_zeG"
      },
      "execution_count": 39,
      "outputs": []
    },
    {
      "cell_type": "code",
      "execution_count": 3,
      "metadata": {
        "id": "9k9W9ua5_CaR"
      },
      "outputs": [],
      "source": [
        "# Carga de dados\n",
        "df = pd.read_csv(\"https://raw.githubusercontent.com/diogenesjusto/FIAP/master/SHIFT/Data/pib.csv\")"
      ]
    },
    {
      "cell_type": "code",
      "source": [
        "# Separação de treino e teste\n",
        "treino = df.iloc[0:126]\n",
        "teste = df.iloc[126:138]"
      ],
      "metadata": {
        "id": "Xk37x0uxAQFW"
      },
      "execution_count": 10,
      "outputs": []
    },
    {
      "cell_type": "code",
      "source": [
        "# Regressão\n",
        "Y_treino = treino.iloc[:,[2]]\n",
        "X = ['BRL']\n",
        "X_treino = treino.loc[:,X]\n",
        "mod = LinearRegression()\n",
        "mod.fit(X_treino, Y_treino)\n",
        "# Análise de coeficientes\n",
        "print(mod.coef_)\n",
        "print(mod.intercept_)"
      ],
      "metadata": {
        "colab": {
          "base_uri": "https://localhost:8080/"
        },
        "id": "De7qW86tApBr",
        "outputId": "7847d14c-5156-4db1-f877-6060705d3cb9"
      },
      "execution_count": 19,
      "outputs": [
        {
          "output_type": "stream",
          "name": "stdout",
          "text": [
            "[[0.64930687]]\n",
            "[51.97004633]\n"
          ]
        }
      ]
    },
    {
      "cell_type": "markdown",
      "source": [
        "#Modelo PIB, BRL\n",
        "Y = AX + B\n",
        "\n",
        "PIB = A*BRL + B\n",
        "\n",
        "PIB = 0,64*BRL + 51,97"
      ],
      "metadata": {
        "id": "is6EdVMOCQZ6"
      }
    },
    {
      "cell_type": "code",
      "source": [
        "# Calculando 1a previsão NA MÃO\n",
        "PIBJUL14 = 0.64*150.55 + 51.97\n",
        "\n",
        "# VALOR DA PREVISÃO PIB PARA JULHO DE 2014\n",
        "print(PIBJUL14)\n",
        "\n",
        "# VALOR REAL DO PIB EM JULHO DE 2014\n",
        "teste.PIB.head(1)\n",
        "\n",
        "# ERRO DE PREVISÃO (VALOR REAL - VALOR PREVISTO)\n",
        "148.32 - 154.34"
      ],
      "metadata": {
        "colab": {
          "base_uri": "https://localhost:8080/"
        },
        "id": "EXxKUQpfB5-3",
        "outputId": "7f155c23-cae0-4fea-be3a-daba8def49af"
      },
      "execution_count": 26,
      "outputs": [
        {
          "output_type": "stream",
          "name": "stdout",
          "text": [
            "148.322\n"
          ]
        },
        {
          "output_type": "execute_result",
          "data": {
            "text/plain": [
              "-6.02000000000001"
            ]
          },
          "metadata": {},
          "execution_count": 26
        }
      ]
    },
    {
      "cell_type": "code",
      "source": [
        "# Cálculo de erro com python\n",
        "X_teste = teste.loc[:,X]\n",
        "Y_prev = mod.predict(X_teste)\n",
        "Y_real = teste.loc[:,['PIB']]\n",
        "Erro = Y_prev - Y_real\n",
        "\n",
        "# Erro de previsão\n",
        "print(MAE(Y_real, Y_prev))\n"
      ],
      "metadata": {
        "colab": {
          "base_uri": "https://localhost:8080/"
        },
        "id": "B1oX4x6TER-Z",
        "outputId": "ac7320c5-8184-4345-967d-b32c7860beb0"
      },
      "execution_count": 40,
      "outputs": [
        {
          "output_type": "stream",
          "name": "stdout",
          "text": [
            "5.294479600275532\n"
          ]
        }
      ]
    }
  ]
}