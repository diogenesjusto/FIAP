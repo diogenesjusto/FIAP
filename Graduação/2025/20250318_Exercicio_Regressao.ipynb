{
  "nbformat": 4,
  "nbformat_minor": 0,
  "metadata": {
    "colab": {
      "provenance": [],
      "authorship_tag": "ABX9TyNxSmdf5mgLH38LsbWc09ax",
      "include_colab_link": true
    },
    "kernelspec": {
      "name": "python3",
      "display_name": "Python 3"
    },
    "language_info": {
      "name": "python"
    }
  },
  "cells": [
    {
      "cell_type": "markdown",
      "metadata": {
        "id": "view-in-github",
        "colab_type": "text"
      },
      "source": [
        "<a href=\"https://colab.research.google.com/github/diogenesjusto/FIAP/blob/master/Gradua%C3%A7%C3%A3o/2025/20250318_Exercicio_Regressao.ipynb\" target=\"_parent\"><img src=\"https://colab.research.google.com/assets/colab-badge.svg\" alt=\"Open In Colab\"/></a>"
      ]
    },
    {
      "cell_type": "code",
      "execution_count": null,
      "metadata": {
        "id": "4_6K1r2b38p9"
      },
      "outputs": [],
      "source": [
        "import pandas as pd\n",
        "from sklearn.linear_model import LinearRegression\n",
        "# biblioteca com métricas de erro de previsão. Escolhemos a mse\n",
        "from sklearn.metrics import mean_squared_error\n",
        "\n",
        "# Carga de dados\n",
        "df = pd.read_csv(\"https://raw.githubusercontent.com/diogenesjusto/FIAP/master/SHIFT/Data/pib.csv\")\n",
        "\n",
        "# Separação de treino e teste\n",
        "treino = df.iloc[0:126]\n",
        "teste = df.iloc[126:138]\n",
        "\n",
        "# Regressão\n",
        "Y_treino = treino.iloc[:,[2]]  # PIB\n",
        "X = ['PRL', 'RJL']              # Variável a ser \"analisada\"\n",
        "X_treino = treino.loc[:,X]\n",
        "mod = LinearRegression()\n",
        "mod.fit(X_treino, Y_treino)\n",
        "# Análise de R2\n",
        "print('R2')\n",
        "print(mod.score(X_treino, Y_treino))\n",
        "\n",
        "# Coeficientes Angulares da reta de regressão\n",
        "print('Coef. Angular')\n",
        "print(mod.coef_)\n",
        "\n",
        "# Coef. de intercepto\n",
        "print('Coef. Intercepto')\n",
        "print(mod.intercept_)\n",
        "\n",
        "# Erro de previsão\n",
        "X_teste = teste.loc[:,X]\n",
        "p = mod.predict(X_teste)\n",
        "mean_squared_error(teste.PIB, p)"
      ]
    }
  ]
}