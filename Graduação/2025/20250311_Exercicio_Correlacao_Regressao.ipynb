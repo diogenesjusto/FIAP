{
  "nbformat": 4,
  "nbformat_minor": 0,
  "metadata": {
    "colab": {
      "provenance": [],
      "authorship_tag": "ABX9TyPiAicyaNxX1irWuZVgC+RN",
      "include_colab_link": true
    },
    "kernelspec": {
      "name": "python3",
      "display_name": "Python 3"
    },
    "language_info": {
      "name": "python"
    }
  },
  "cells": [
    {
      "cell_type": "markdown",
      "metadata": {
        "id": "view-in-github",
        "colab_type": "text"
      },
      "source": [
        "<a href=\"https://colab.research.google.com/github/diogenesjusto/FIAP/blob/master/Gradua%C3%A7%C3%A3o/2025/20250311_Exercicio_Correlacao_Regressao.ipynb\" target=\"_parent\"><img src=\"https://colab.research.google.com/assets/colab-badge.svg\" alt=\"Open In Colab\"/></a>"
      ]
    },
    {
      "cell_type": "code",
      "execution_count": null,
      "metadata": {
        "id": "nxsmO0osyrrh"
      },
      "outputs": [],
      "source": [
        "# Carga de dados\n",
        "df = pd.read_csv(\"https://raw.githubusercontent.com/diogenesjusto/FIAP/master/SHIFT/Data/pib.csv\")\n",
        "\n",
        "# Separação de treino e teste\n",
        "treino = df.iloc[0:126]\n",
        "teste = df.iloc[126:138]\n",
        "\n",
        "# Regressão\n",
        "Y_treino = treino.iloc[:,[2]]  # PIB\n",
        "X = ['BRP','BRL']              # Variável a ser \"analisada\"\n",
        "X_treino = treino.loc[:,X]\n",
        "mod = LinearRegression()\n",
        "mod.fit(X_treino, Y_treino)\n",
        "# Análise de R2\n",
        "print(mod.score(X_treino, Y_treino))"
      ]
    }
  ]
}