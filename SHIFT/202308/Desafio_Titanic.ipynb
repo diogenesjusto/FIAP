{
  "nbformat": 4,
  "nbformat_minor": 0,
  "metadata": {
    "colab": {
      "provenance": [],
      "authorship_tag": "ABX9TyMOELtjW4yeWad7/61y3h9n",
      "include_colab_link": true
    },
    "kernelspec": {
      "name": "python3",
      "display_name": "Python 3"
    },
    "language_info": {
      "name": "python"
    }
  },
  "cells": [
    {
      "cell_type": "markdown",
      "metadata": {
        "id": "view-in-github",
        "colab_type": "text"
      },
      "source": [
        "<a href=\"https://colab.research.google.com/github/diogenesjusto/FIAP/blob/master/SHIFT/202308/Desafio_Titanic.ipynb\" target=\"_parent\"><img src=\"https://colab.research.google.com/assets/colab-badge.svg\" alt=\"Open In Colab\"/></a>"
      ]
    },
    {
      "cell_type": "markdown",
      "source": [
        "\n",
        "**Desafio Titanic: https://www.kaggle.com/competitions/titanic/overview**\n",
        "\n",
        "Galera,\n",
        "Ao se cadastrar no Kaggle, display name preencham com FSBDS*NúmeroDaMinhaTurma*_MeuNome. O script em Python abaixo \"escora\" ~0.65. Minha sugestão é vocês rodarem inicialmente o modelo do jeito que está para conhecer a \"sistemática\" do Kaggle.\n",
        "\n",
        "Ao se cadastrarem no Kaggle, incluam no campo \"Display name\" a tag \"FSBDS\" antes do nome de vocês, assim ó: FSBDS36_DiogenesJusto.\n",
        "\n",
        "Passo 1: Não é necessário baixar os arquivos train.csv e test.csv, já coloquei no github para facilitar o trabalho de vocês.\n",
        "padrão do Windows, na pasta Documentos\")\n",
        "Passo 2: Executem o script abaixo (copiar e colar no Colab) para ver se está tudo funcionando.\n",
        "Passo 3: Submetam o arquivo predict.csv.\n",
        "A partir daí é trabalhar os dados train e test e também selecionar variáveis diferentes para melhorar o escore de vocês:.\n"
      ],
      "metadata": {
        "id": "B1BvhAwjcQl5"
      }
    },
    {
      "cell_type": "code",
      "execution_count": 1,
      "metadata": {
        "id": "HIpkkgTaMwYS"
      },
      "outputs": [],
      "source": [
        "# Carga Bibliotecas e Dados\n",
        "import pandas as pd\n",
        "from sklearn.linear_model import LinearRegression\n",
        "\n",
        "train = pd.read_csv(\"https://raw.githubusercontent.com/diogenesjusto/FIAP/master/SHIFT/Data/titanic/train.csv\")\n",
        "test = pd.read_csv(\"https://raw.githubusercontent.com/diogenesjusto/FIAP/master/SHIFT/Data/titanic/test.csv\")"
      ]
    },
    {
      "cell_type": "code",
      "source": [
        "# Preparação/Modelo\n",
        "mod = LinearRegression()\n",
        "X = train.loc[:,['Embarked']]\n",
        "# Variável Embarked é tratada como Dummy (caso similar as meses do Pib), visto que é uma variável categórica\n",
        "X = pd.get_dummies(X)\n",
        "# DICA DE PYTHON (muitos perguntam): Se você desejar UNIR dois dataframes utilize o comando=> X = pd.concat([X, X], axis=1) <= no exemplo \"dentro\" dos sinais > e <, o dataframe X é \"duplicado\" lado a lado. Faça o teste\n",
        "Y = train.loc[:,['Survived']]\n",
        "mod.fit(X ,Y )\n",
        "\n",
        "X_test = test.loc[:,['Embarked']]\n",
        "X_test = pd.get_dummies(X_test)\n",
        "p = mod.predict(X_test)\n",
        "\n",
        "# As linhas abaixo só montam o arquivo de saída que será utilizado no Kaggle, com destaque para\n",
        "# como o resultado da variável p é um número entre 0 e 1, convertemos ele para 0 se for menor que 0.5 e para 1 se maior\n",
        "Survived_Predict = [1 if  i > 0.5 else 0 for i in p]\n",
        "df_pred = test.loc[:,['PassengerId']]\n",
        "df_pred['Survived'] = Survived_Predict\n",
        "\n",
        "from google.colab import files\n",
        "df_pred.to_csv('predict.csv', index=False)\n",
        "files.download('predict.csv')"
      ],
      "metadata": {
        "colab": {
          "base_uri": "https://localhost:8080/",
          "height": 17
        },
        "id": "i77qhB-vNJh_",
        "outputId": "504bb30f-8abb-49a6-bf94-0764cf9eeb27"
      },
      "execution_count": 3,
      "outputs": [
        {
          "output_type": "display_data",
          "data": {
            "text/plain": [
              "<IPython.core.display.Javascript object>"
            ],
            "application/javascript": [
              "\n",
              "    async function download(id, filename, size) {\n",
              "      if (!google.colab.kernel.accessAllowed) {\n",
              "        return;\n",
              "      }\n",
              "      const div = document.createElement('div');\n",
              "      const label = document.createElement('label');\n",
              "      label.textContent = `Downloading \"${filename}\": `;\n",
              "      div.appendChild(label);\n",
              "      const progress = document.createElement('progress');\n",
              "      progress.max = size;\n",
              "      div.appendChild(progress);\n",
              "      document.body.appendChild(div);\n",
              "\n",
              "      const buffers = [];\n",
              "      let downloaded = 0;\n",
              "\n",
              "      const channel = await google.colab.kernel.comms.open(id);\n",
              "      // Send a message to notify the kernel that we're ready.\n",
              "      channel.send({})\n",
              "\n",
              "      for await (const message of channel.messages) {\n",
              "        // Send a message to notify the kernel that we're ready.\n",
              "        channel.send({})\n",
              "        if (message.buffers) {\n",
              "          for (const buffer of message.buffers) {\n",
              "            buffers.push(buffer);\n",
              "            downloaded += buffer.byteLength;\n",
              "            progress.value = downloaded;\n",
              "          }\n",
              "        }\n",
              "      }\n",
              "      const blob = new Blob(buffers, {type: 'application/binary'});\n",
              "      const a = document.createElement('a');\n",
              "      a.href = window.URL.createObjectURL(blob);\n",
              "      a.download = filename;\n",
              "      div.appendChild(a);\n",
              "      a.click();\n",
              "      div.remove();\n",
              "    }\n",
              "  "
            ]
          },
          "metadata": {}
        },
        {
          "output_type": "display_data",
          "data": {
            "text/plain": [
              "<IPython.core.display.Javascript object>"
            ],
            "application/javascript": [
              "download(\"download_1b520f7b-e06b-4cc3-82b5-62dda951c1ab\", \"predict.csv\", 2839)"
            ]
          },
          "metadata": {}
        }
      ]
    }
  ]
}