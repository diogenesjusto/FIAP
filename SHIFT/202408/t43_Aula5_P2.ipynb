{
  "nbformat": 4,
  "nbformat_minor": 0,
  "metadata": {
    "colab": {
      "provenance": [],
      "authorship_tag": "ABX9TyPd3v4OX5aXL0qQG0QCvT0e",
      "include_colab_link": true
    },
    "kernelspec": {
      "name": "ir",
      "display_name": "R"
    },
    "language_info": {
      "name": "R"
    }
  },
  "cells": [
    {
      "cell_type": "markdown",
      "metadata": {
        "id": "view-in-github",
        "colab_type": "text"
      },
      "source": [
        "<a href=\"https://colab.research.google.com/github/diogenesjusto/FIAP/blob/master/SHIFT/202408/t43_Aula5_P2.ipynb\" target=\"_parent\"><img src=\"https://colab.research.google.com/assets/colab-badge.svg\" alt=\"Open In Colab\"/></a>"
      ]
    },
    {
      "cell_type": "code",
      "execution_count": 1,
      "metadata": {
        "colab": {
          "base_uri": "https://localhost:8080/"
        },
        "id": "_IiWPpESCS7h",
        "outputId": "2d8812ac-526b-4164-9136-32a0f2c8d80e"
      },
      "outputs": [
        {
          "output_type": "stream",
          "name": "stderr",
          "text": [
            "Installing package into ‘/usr/local/lib/R/site-library’\n",
            "(as ‘lib’ is unspecified)\n",
            "\n",
            "also installing the dependencies ‘TH.data’, ‘libcoin’, ‘matrixStats’, ‘multcomp’, ‘mvtnorm’, ‘modeltools’, ‘strucchange’, ‘coin’, ‘zoo’, ‘sandwich’\n",
            "\n",
            "\n"
          ]
        }
      ],
      "source": [
        "# Configurar menu Ambiente de Execução, alterar o tipo de ambiente de Python 3 para R\n",
        "\n",
        "# Instalação\n",
        "install.packages('party')"
      ]
    },
    {
      "cell_type": "code",
      "source": [
        "library(\"party\")"
      ],
      "metadata": {
        "colab": {
          "base_uri": "https://localhost:8080/"
        },
        "id": "Cb1kZqgkC9q7",
        "outputId": "5418e2e9-e306-4e04-cff4-863d7b482384"
      },
      "execution_count": 2,
      "outputs": [
        {
          "output_type": "stream",
          "name": "stderr",
          "text": [
            "Loading required package: grid\n",
            "\n",
            "Loading required package: mvtnorm\n",
            "\n",
            "Loading required package: modeltools\n",
            "\n",
            "Loading required package: stats4\n",
            "\n",
            "Loading required package: strucchange\n",
            "\n",
            "Loading required package: zoo\n",
            "\n",
            "\n",
            "Attaching package: ‘zoo’\n",
            "\n",
            "\n",
            "The following objects are masked from ‘package:base’:\n",
            "\n",
            "    as.Date, as.Date.numeric\n",
            "\n",
            "\n",
            "Loading required package: sandwich\n",
            "\n"
          ]
        }
      ]
    },
    {
      "cell_type": "code",
      "source": [
        "df = read.csv(\"https://raw.githubusercontent.com/diogenesjusto/FIAP/master/Gradua%C3%A7%C3%A3o/dados/dados_arvore_titanic.csv\")"
      ],
      "metadata": {
        "id": "3gJHdhQrDgxa"
      },
      "execution_count": 3,
      "outputs": []
    },
    {
      "cell_type": "code",
      "source": [
        "# ctree - comando da biblioteca party utilizado para construir uma árvore de (probabilidades) de decisão\n",
        "mod = ctree(Survived ~ as.factor(Sex)+Pclass, data=df)"
      ],
      "metadata": {
        "id": "yezMDAjrDpdQ"
      },
      "execution_count": 9,
      "outputs": []
    },
    {
      "cell_type": "code",
      "source": [
        "# Apresentação gráfica da árvore de decisão\n",
        "plot(mod, type=\"simple\")"
      ],
      "metadata": {
        "colab": {
          "base_uri": "https://localhost:8080/",
          "height": 437
        },
        "id": "sqGll8fzEN_O",
        "outputId": "5f25948e-8604-47cc-d6ce-20e73e22e043"
      },
      "execution_count": 10,
      "outputs": [
        {
          "output_type": "display_data",
          "data": {
            "text/plain": [
              "plot without title"
            ],
            "image/png": "[encoded data removed]"
          },
          "metadata": {
            "image/png": {
              "width": 420,
              "height": 420
            }
          }
        }
      ]
    }
  ]
}