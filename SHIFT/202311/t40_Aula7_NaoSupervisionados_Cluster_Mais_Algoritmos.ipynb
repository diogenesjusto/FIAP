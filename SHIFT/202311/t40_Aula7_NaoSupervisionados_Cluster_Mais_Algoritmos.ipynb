{
  "nbformat": 4,
  "nbformat_minor": 0,
  "metadata": {
    "colab": {
      "provenance": [],
      "authorship_tag": "ABX9TyN/W5QMGXk6H2tRGV+evXt5",
      "include_colab_link": true
    },
    "kernelspec": {
      "name": "python3",
      "display_name": "Python 3"
    },
    "language_info": {
      "name": "python"
    },
    "widgets": {
      "application/vnd.jupyter.widget-state+json": {
        "1cbf57c1b6e34d83b48d21d99446e151": {
          "model_module": "@jupyter-widgets/controls",
          "model_name": "HBoxModel",
          "model_module_version": "1.5.0",
          "state": {
            "_dom_classes": [],
            "_model_module": "@jupyter-widgets/controls",
            "_model_module_version": "1.5.0",
            "_model_name": "HBoxModel",
            "_view_count": null,
            "_view_module": "@jupyter-widgets/controls",
            "_view_module_version": "1.5.0",
            "_view_name": "HBoxView",
            "box_style": "",
            "children": [
              "IPY_MODEL_1b02625d0c814f3d81266251cd2ad468",
              "IPY_MODEL_e7c41b5894d24b8db033c32429809abd",
              "IPY_MODEL_716da147e3b3417ca098d69cb060054d"
            ],
            "layout": "IPY_MODEL_0bdd144e9cc14efab38d9273be4377cd"
          }
        },
        "1b02625d0c814f3d81266251cd2ad468": {
          "model_module": "@jupyter-widgets/controls",
          "model_name": "HTMLModel",
          "model_module_version": "1.5.0",
          "state": {
            "_dom_classes": [],
            "_model_module": "@jupyter-widgets/controls",
            "_model_module_version": "1.5.0",
            "_model_name": "HTMLModel",
            "_view_count": null,
            "_view_module": "@jupyter-widgets/controls",
            "_view_module_version": "1.5.0",
            "_view_name": "HTMLView",
            "description": "",
            "description_tooltip": null,
            "layout": "IPY_MODEL_6107a5dd21474f279415e16b6419cd24",
            "placeholder": "​",
            "style": "IPY_MODEL_b1467dec919a4d64a6fc2ef10a0ee85b",
            "value": "Processing: 100%"
          }
        },
        "e7c41b5894d24b8db033c32429809abd": {
          "model_module": "@jupyter-widgets/controls",
          "model_name": "FloatProgressModel",
          "model_module_version": "1.5.0",
          "state": {
            "_dom_classes": [],
            "_model_module": "@jupyter-widgets/controls",
            "_model_module_version": "1.5.0",
            "_model_name": "FloatProgressModel",
            "_view_count": null,
            "_view_module": "@jupyter-widgets/controls",
            "_view_module_version": "1.5.0",
            "_view_name": "ProgressView",
            "bar_style": "",
            "description": "",
            "description_tooltip": null,
            "layout": "IPY_MODEL_73283434f0a94d639d17a013f7a86d0b",
            "max": 65,
            "min": 0,
            "orientation": "horizontal",
            "style": "IPY_MODEL_526ee867f3e34932a99569dfed19002e",
            "value": 65
          }
        },
        "716da147e3b3417ca098d69cb060054d": {
          "model_module": "@jupyter-widgets/controls",
          "model_name": "HTMLModel",
          "model_module_version": "1.5.0",
          "state": {
            "_dom_classes": [],
            "_model_module": "@jupyter-widgets/controls",
            "_model_module_version": "1.5.0",
            "_model_name": "HTMLModel",
            "_view_count": null,
            "_view_module": "@jupyter-widgets/controls",
            "_view_module_version": "1.5.0",
            "_view_name": "HTMLView",
            "description": "",
            "description_tooltip": null,
            "layout": "IPY_MODEL_268d0cdb75004829ba29a192ce12a0b4",
            "placeholder": "​",
            "style": "IPY_MODEL_5afab1953757440ba34b9a8623af86b8",
            "value": " 65/65 [00:44&lt;00:00,  2.01it/s]"
          }
        },
        "0bdd144e9cc14efab38d9273be4377cd": {
          "model_module": "@jupyter-widgets/base",
          "model_name": "LayoutModel",
          "model_module_version": "1.2.0",
          "state": {
            "_model_module": "@jupyter-widgets/base",
            "_model_module_version": "1.2.0",
            "_model_name": "LayoutModel",
            "_view_count": null,
            "_view_module": "@jupyter-widgets/base",
            "_view_module_version": "1.2.0",
            "_view_name": "LayoutView",
            "align_content": null,
            "align_items": null,
            "align_self": null,
            "border": null,
            "bottom": null,
            "display": null,
            "flex": null,
            "flex_flow": null,
            "grid_area": null,
            "grid_auto_columns": null,
            "grid_auto_flow": null,
            "grid_auto_rows": null,
            "grid_column": null,
            "grid_gap": null,
            "grid_row": null,
            "grid_template_areas": null,
            "grid_template_columns": null,
            "grid_template_rows": null,
            "height": null,
            "justify_content": null,
            "justify_items": null,
            "left": null,
            "margin": null,
            "max_height": null,
            "max_width": null,
            "min_height": null,
            "min_width": null,
            "object_fit": null,
            "object_position": null,
            "order": null,
            "overflow": null,
            "overflow_x": null,
            "overflow_y": null,
            "padding": null,
            "right": null,
            "top": null,
            "visibility": "hidden",
            "width": null
          }
        },
        "6107a5dd21474f279415e16b6419cd24": {
          "model_module": "@jupyter-widgets/base",
          "model_name": "LayoutModel",
          "model_module_version": "1.2.0",
          "state": {
            "_model_module": "@jupyter-widgets/base",
            "_model_module_version": "1.2.0",
            "_model_name": "LayoutModel",
            "_view_count": null,
            "_view_module": "@jupyter-widgets/base",
            "_view_module_version": "1.2.0",
            "_view_name": "LayoutView",
            "align_content": null,
            "align_items": null,
            "align_self": null,
            "border": null,
            "bottom": null,
            "display": null,
            "flex": null,
            "flex_flow": null,
            "grid_area": null,
            "grid_auto_columns": null,
            "grid_auto_flow": null,
            "grid_auto_rows": null,
            "grid_column": null,
            "grid_gap": null,
            "grid_row": null,
            "grid_template_areas": null,
            "grid_template_columns": null,
            "grid_template_rows": null,
            "height": null,
            "justify_content": null,
            "justify_items": null,
            "left": null,
            "margin": null,
            "max_height": null,
            "max_width": null,
            "min_height": null,
            "min_width": null,
            "object_fit": null,
            "object_position": null,
            "order": null,
            "overflow": null,
            "overflow_x": null,
            "overflow_y": null,
            "padding": null,
            "right": null,
            "top": null,
            "visibility": null,
            "width": null
          }
        },
        "b1467dec919a4d64a6fc2ef10a0ee85b": {
          "model_module": "@jupyter-widgets/controls",
          "model_name": "DescriptionStyleModel",
          "model_module_version": "1.5.0",
          "state": {
            "_model_module": "@jupyter-widgets/controls",
            "_model_module_version": "1.5.0",
            "_model_name": "DescriptionStyleModel",
            "_view_count": null,
            "_view_module": "@jupyter-widgets/base",
            "_view_module_version": "1.2.0",
            "_view_name": "StyleView",
            "description_width": ""
          }
        },
        "73283434f0a94d639d17a013f7a86d0b": {
          "model_module": "@jupyter-widgets/base",
          "model_name": "LayoutModel",
          "model_module_version": "1.2.0",
          "state": {
            "_model_module": "@jupyter-widgets/base",
            "_model_module_version": "1.2.0",
            "_model_name": "LayoutModel",
            "_view_count": null,
            "_view_module": "@jupyter-widgets/base",
            "_view_module_version": "1.2.0",
            "_view_name": "LayoutView",
            "align_content": null,
            "align_items": null,
            "align_self": null,
            "border": null,
            "bottom": null,
            "display": null,
            "flex": null,
            "flex_flow": null,
            "grid_area": null,
            "grid_auto_columns": null,
            "grid_auto_flow": null,
            "grid_auto_rows": null,
            "grid_column": null,
            "grid_gap": null,
            "grid_row": null,
            "grid_template_areas": null,
            "grid_template_columns": null,
            "grid_template_rows": null,
            "height": null,
            "justify_content": null,
            "justify_items": null,
            "left": null,
            "margin": null,
            "max_height": null,
            "max_width": null,
            "min_height": null,
            "min_width": null,
            "object_fit": null,
            "object_position": null,
            "order": null,
            "overflow": null,
            "overflow_x": null,
            "overflow_y": null,
            "padding": null,
            "right": null,
            "top": null,
            "visibility": null,
            "width": null
          }
        },
        "526ee867f3e34932a99569dfed19002e": {
          "model_module": "@jupyter-widgets/controls",
          "model_name": "ProgressStyleModel",
          "model_module_version": "1.5.0",
          "state": {
            "_model_module": "@jupyter-widgets/controls",
            "_model_module_version": "1.5.0",
            "_model_name": "ProgressStyleModel",
            "_view_count": null,
            "_view_module": "@jupyter-widgets/base",
            "_view_module_version": "1.2.0",
            "_view_name": "StyleView",
            "bar_color": null,
            "description_width": ""
          }
        },
        "268d0cdb75004829ba29a192ce12a0b4": {
          "model_module": "@jupyter-widgets/base",
          "model_name": "LayoutModel",
          "model_module_version": "1.2.0",
          "state": {
            "_model_module": "@jupyter-widgets/base",
            "_model_module_version": "1.2.0",
            "_model_name": "LayoutModel",
            "_view_count": null,
            "_view_module": "@jupyter-widgets/base",
            "_view_module_version": "1.2.0",
            "_view_name": "LayoutView",
            "align_content": null,
            "align_items": null,
            "align_self": null,
            "border": null,
            "bottom": null,
            "display": null,
            "flex": null,
            "flex_flow": null,
            "grid_area": null,
            "grid_auto_columns": null,
            "grid_auto_flow": null,
            "grid_auto_rows": null,
            "grid_column": null,
            "grid_gap": null,
            "grid_row": null,
            "grid_template_areas": null,
            "grid_template_columns": null,
            "grid_template_rows": null,
            "height": null,
            "justify_content": null,
            "justify_items": null,
            "left": null,
            "margin": null,
            "max_height": null,
            "max_width": null,
            "min_height": null,
            "min_width": null,
            "object_fit": null,
            "object_position": null,
            "order": null,
            "overflow": null,
            "overflow_x": null,
            "overflow_y": null,
            "padding": null,
            "right": null,
            "top": null,
            "visibility": null,
            "width": null
          }
        },
        "5afab1953757440ba34b9a8623af86b8": {
          "model_module": "@jupyter-widgets/controls",
          "model_name": "DescriptionStyleModel",
          "model_module_version": "1.5.0",
          "state": {
            "_model_module": "@jupyter-widgets/controls",
            "_model_module_version": "1.5.0",
            "_model_name": "DescriptionStyleModel",
            "_view_count": null,
            "_view_module": "@jupyter-widgets/base",
            "_view_module_version": "1.2.0",
            "_view_name": "StyleView",
            "description_width": ""
          }
        },
        "65f3e4eaccce491cba3d1dbb93180d49": {
          "model_module": "@jupyter-widgets/controls",
          "model_name": "VBoxModel",
          "model_module_version": "1.5.0",
          "state": {
            "_dom_classes": [
              "widget-interact"
            ],
            "_model_module": "@jupyter-widgets/controls",
            "_model_module_version": "1.5.0",
            "_model_name": "VBoxModel",
            "_view_count": null,
            "_view_module": "@jupyter-widgets/controls",
            "_view_module_version": "1.5.0",
            "_view_name": "VBoxView",
            "box_style": "",
            "children": [
              "IPY_MODEL_bbfa938cc1e9408d90409c0eb342b407",
              "IPY_MODEL_29ed8fc42c894c11b52d2887f2e60e2f"
            ],
            "layout": "IPY_MODEL_9b774fd5481d4525a923123d105379ad"
          }
        },
        "bbfa938cc1e9408d90409c0eb342b407": {
          "model_module": "@jupyter-widgets/controls",
          "model_name": "ToggleButtonsModel",
          "model_module_version": "1.5.0",
          "state": {
            "_dom_classes": [],
            "_model_module": "@jupyter-widgets/controls",
            "_model_module_version": "1.5.0",
            "_model_name": "ToggleButtonsModel",
            "_options_labels": [
              "Pipeline Plot",
              "Hyperparameters",
              "AUC",
              "Confusion Matrix",
              "Threshold",
              "Precision Recall",
              "Prediction Error",
              "Class Report",
              "Feature Selection",
              "Learning Curve",
              "Manifold Learning",
              "Calibration Curve",
              "Validation Curve",
              "Dimensions",
              "Feature Importance",
              "Feature Importance (All)",
              "Decision Boundary",
              "Lift Chart",
              "Gain Chart",
              "Decision Tree",
              "KS Statistic Plot"
            ],
            "_view_count": null,
            "_view_module": "@jupyter-widgets/controls",
            "_view_module_version": "1.5.0",
            "_view_name": "ToggleButtonsView",
            "button_style": "",
            "description": "Plot Type:",
            "description_tooltip": null,
            "disabled": false,
            "icons": [
              ""
            ],
            "index": 14,
            "layout": "IPY_MODEL_e7ec86d6c6bf4e07bab78581dfde1a35",
            "style": "IPY_MODEL_19bdae872be146dd973d60a09481b031",
            "tooltips": []
          }
        },
        "29ed8fc42c894c11b52d2887f2e60e2f": {
          "model_module": "@jupyter-widgets/output",
          "model_name": "OutputModel",
          "model_module_version": "1.0.0",
          "state": {
            "_dom_classes": [],
            "_model_module": "@jupyter-widgets/output",
            "_model_module_version": "1.0.0",
            "_model_name": "OutputModel",
            "_view_count": null,
            "_view_module": "@jupyter-widgets/output",
            "_view_module_version": "1.0.0",
            "_view_name": "OutputView",
            "layout": "IPY_MODEL_57ba63678769491d922dd96e172baecf",
            "msg_id": "",
            "outputs": [
              {
                "output_type": "display_data",
                "data": {
                  "text/plain": "<Figure size 800x500 with 1 Axes>",
                  "image/png": "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\n"
                },
                "metadata": {}
              }
            ]
          }
        },
        "9b774fd5481d4525a923123d105379ad": {
          "model_module": "@jupyter-widgets/base",
          "model_name": "LayoutModel",
          "model_module_version": "1.2.0",
          "state": {
            "_model_module": "@jupyter-widgets/base",
            "_model_module_version": "1.2.0",
            "_model_name": "LayoutModel",
            "_view_count": null,
            "_view_module": "@jupyter-widgets/base",
            "_view_module_version": "1.2.0",
            "_view_name": "LayoutView",
            "align_content": null,
            "align_items": null,
            "align_self": null,
            "border": null,
            "bottom": null,
            "display": null,
            "flex": null,
            "flex_flow": null,
            "grid_area": null,
            "grid_auto_columns": null,
            "grid_auto_flow": null,
            "grid_auto_rows": null,
            "grid_column": null,
            "grid_gap": null,
            "grid_row": null,
            "grid_template_areas": null,
            "grid_template_columns": null,
            "grid_template_rows": null,
            "height": null,
            "justify_content": null,
            "justify_items": null,
            "left": null,
            "margin": null,
            "max_height": null,
            "max_width": null,
            "min_height": null,
            "min_width": null,
            "object_fit": null,
            "object_position": null,
            "order": null,
            "overflow": null,
            "overflow_x": null,
            "overflow_y": null,
            "padding": null,
            "right": null,
            "top": null,
            "visibility": null,
            "width": null
          }
        },
        "e7ec86d6c6bf4e07bab78581dfde1a35": {
          "model_module": "@jupyter-widgets/base",
          "model_name": "LayoutModel",
          "model_module_version": "1.2.0",
          "state": {
            "_model_module": "@jupyter-widgets/base",
            "_model_module_version": "1.2.0",
            "_model_name": "LayoutModel",
            "_view_count": null,
            "_view_module": "@jupyter-widgets/base",
            "_view_module_version": "1.2.0",
            "_view_name": "LayoutView",
            "align_content": null,
            "align_items": null,
            "align_self": null,
            "border": null,
            "bottom": null,
            "display": null,
            "flex": null,
            "flex_flow": null,
            "grid_area": null,
            "grid_auto_columns": null,
            "grid_auto_flow": null,
            "grid_auto_rows": null,
            "grid_column": null,
            "grid_gap": null,
            "grid_row": null,
            "grid_template_areas": null,
            "grid_template_columns": null,
            "grid_template_rows": null,
            "height": null,
            "justify_content": null,
            "justify_items": null,
            "left": null,
            "margin": null,
            "max_height": null,
            "max_width": null,
            "min_height": null,
            "min_width": null,
            "object_fit": null,
            "object_position": null,
            "order": null,
            "overflow": null,
            "overflow_x": null,
            "overflow_y": null,
            "padding": null,
            "right": null,
            "top": null,
            "visibility": null,
            "width": null
          }
        },
        "19bdae872be146dd973d60a09481b031": {
          "model_module": "@jupyter-widgets/controls",
          "model_name": "ToggleButtonsStyleModel",
          "model_module_version": "1.5.0",
          "state": {
            "_model_module": "@jupyter-widgets/controls",
            "_model_module_version": "1.5.0",
            "_model_name": "ToggleButtonsStyleModel",
            "_view_count": null,
            "_view_module": "@jupyter-widgets/base",
            "_view_module_version": "1.2.0",
            "_view_name": "StyleView",
            "button_width": "",
            "description_width": "",
            "font_weight": ""
          }
        },
        "57ba63678769491d922dd96e172baecf": {
          "model_module": "@jupyter-widgets/base",
          "model_name": "LayoutModel",
          "model_module_version": "1.2.0",
          "state": {
            "_model_module": "@jupyter-widgets/base",
            "_model_module_version": "1.2.0",
            "_model_name": "LayoutModel",
            "_view_count": null,
            "_view_module": "@jupyter-widgets/base",
            "_view_module_version": "1.2.0",
            "_view_name": "LayoutView",
            "align_content": null,
            "align_items": null,
            "align_self": null,
            "border": null,
            "bottom": null,
            "display": null,
            "flex": null,
            "flex_flow": null,
            "grid_area": null,
            "grid_auto_columns": null,
            "grid_auto_flow": null,
            "grid_auto_rows": null,
            "grid_column": null,
            "grid_gap": null,
            "grid_row": null,
            "grid_template_areas": null,
            "grid_template_columns": null,
            "grid_template_rows": null,
            "height": null,
            "justify_content": null,
            "justify_items": null,
            "left": null,
            "margin": null,
            "max_height": null,
            "max_width": null,
            "min_height": null,
            "min_width": null,
            "object_fit": null,
            "object_position": null,
            "order": null,
            "overflow": null,
            "overflow_x": null,
            "overflow_y": null,
            "padding": null,
            "right": null,
            "top": null,
            "visibility": null,
            "width": null
          }
        }
      }
    }
  },
  "cells": [
    {
      "cell_type": "markdown",
      "metadata": {
        "id": "view-in-github",
        "colab_type": "text"
      },
      "source": [
        "<a href=\"https://colab.research.google.com/github/diogenesjusto/FIAP/blob/master/SHIFT/202311/t40_Aula7_NaoSupervisionados_Cluster_Mais_Algoritmos.ipynb\" target=\"_parent\"><img src=\"https://colab.research.google.com/assets/colab-badge.svg\" alt=\"Open In Colab\"/></a>"
      ]
    },
    {
      "cell_type": "markdown",
      "source": [
        "# APRENDIZAGEM NÃO SUPERVISIONADA\n",
        "CLUSTERING - KMEANS"
      ],
      "metadata": {
        "id": "J80tm0FE52_L"
      }
    },
    {
      "cell_type": "code",
      "execution_count": 28,
      "metadata": {
        "id": "rKzScz77jCDN"
      },
      "outputs": [],
      "source": [
        "# Carga de bibliotecas\n",
        "import pandas as pd\n",
        "from sklearn.cluster import KMeans\n",
        "from sklearn.preprocessing import MinMaxScaler"
      ]
    },
    {
      "cell_type": "code",
      "source": [
        "df = pd.read_csv(\"https://raw.githubusercontent.com/diogenesjusto/FIAP-On-Line-Graduation/main/datasets/%20mtcars.csv\")"
      ],
      "metadata": {
        "id": "3gANVA30jRLB"
      },
      "execution_count": 5,
      "outputs": []
    },
    {
      "cell_type": "code",
      "source": [
        "df.plot.scatter(x='wt', y='mpg')"
      ],
      "metadata": {
        "colab": {
          "base_uri": "https://localhost:8080/",
          "height": 471
        },
        "id": "1zWbZI1ejqRx",
        "outputId": "52d43ea7-5166-4174-9355-c7e25bccddc6"
      },
      "execution_count": 6,
      "outputs": [
        {
          "output_type": "execute_result",
          "data": {
            "text/plain": [
              "<Axes: xlabel='wt', ylabel='mpg'>"
            ]
          },
          "metadata": {},
          "execution_count": 6
        },
        {
          "output_type": "display_data",
          "data": {
            "text/plain": [
              "<Figure size 640x480 with 1 Axes>"
            ],
            "image/png": "[encoded data removed]"
          },
          "metadata": {}
        }
      ]
    },
    {
      "cell_type": "code",
      "source": [
        "# Tratamento de dados - normalização/ajuste de escala min-max\n",
        "scaler = MinMaxScaler(feature_range=(0,1))\n",
        "df['mpg01'], df['wt01'] = scaler.fit_transform(df[['mpg']]), scaler.fit_transform(df[['wt']])"
      ],
      "metadata": {
        "id": "9W4Iwo09ugFH"
      },
      "execution_count": 35,
      "outputs": []
    },
    {
      "cell_type": "code",
      "source": [
        "# Execução do K-Means\n",
        "k = KMeans(n_clusters=4, random_state=1).fit(df[['mpg01', 'wt01']])\n",
        "df['cluster'] = k.labels_\n",
        "\n",
        "df.plot.scatter(x='wt', y='mpg', c='cluster', colormap='plasma')"
      ],
      "metadata": {
        "colab": {
          "base_uri": "https://localhost:8080/",
          "height": 527
        },
        "id": "zdkGh3WopKk9",
        "outputId": "804b4bf7-0f4e-4fcb-c1fa-d7ee7770f857"
      },
      "execution_count": 36,
      "outputs": [
        {
          "output_type": "stream",
          "name": "stderr",
          "text": [
            "/usr/local/lib/python3.10/dist-packages/sklearn/cluster/_kmeans.py:870: FutureWarning: The default value of `n_init` will change from 10 to 'auto' in 1.4. Set the value of `n_init` explicitly to suppress the warning\n",
            "  warnings.warn(\n"
          ]
        },
        {
          "output_type": "execute_result",
          "data": {
            "text/plain": [
              "<Axes: xlabel='wt', ylabel='mpg'>"
            ]
          },
          "metadata": {},
          "execution_count": 36
        },
        {
          "output_type": "display_data",
          "data": {
            "text/plain": [
              "<Figure size 640x480 with 2 Axes>"
            ],
            "image/png": "[encoded data removed]"
          },
          "metadata": {}
        }
      ]
    },
    {
      "cell_type": "markdown",
      "source": [
        "# APRENDIZAGEM SUPERVISIONADA\n",
        "OUTROS ALGORITMOS"
      ],
      "metadata": {
        "id": "FhmZqxx86AsF"
      }
    },
    {
      "cell_type": "code",
      "source": [
        "# 0. Carga de bibliotecas\n",
        "import pandas as pd\n",
        "from sklearn.model_selection import train_test_split\n",
        "from sklearn import tree\n",
        "from sklearn.ensemble import RandomForestClassifier\n",
        "from sklearn import svm\n",
        "\n",
        "from sklearn.metrics import accuracy_score\n",
        "from sklearn.metrics import precision_score\n",
        "from sklearn.metrics import recall_score"
      ],
      "metadata": {
        "id": "WDycW0kj6FEj"
      },
      "execution_count": 65,
      "outputs": []
    },
    {
      "cell_type": "code",
      "source": [
        "dfTit = pd.read_csv(\"https://raw.githubusercontent.com/diogenesjusto/FIAP/master/Gradua%C3%A7%C3%A3o/dados/dados_arvore_titanic.csv\")\n",
        "\n",
        "# Criação de variável Dummy Gênero\n",
        "dummy_sex = pd.get_dummies(dfTit[\"Sex\"])\n",
        "dfTit['SexFemale'] = dummy_sex['female']\n",
        "\n",
        "# Criação de variável Dummy Pclass\n",
        "dummy_pclass = pd.get_dummies(dfTit[\"Pclass\"], prefix='Classe')\n",
        "dfTit['Classe_1'] = dummy_pclass['Classe_1']\n",
        "dfTit['Classe_2'] = dummy_pclass['Classe_2']\n",
        "\n",
        "# Preenchimento de nulos para idades\n",
        "ageMed = dfTit['Age'].mean()\n",
        "dfTit['AgeNullTrat'] = dfTit['Age'].fillna(ageMed)\n",
        "\n",
        "# Separação de treino e teste\n",
        "x_treino, x_teste, y_treino, y_teste = train_test_split(dfTit[['SexFemale','Classe_1','Classe_2', 'AgeNullTrat']], dfTit['Survived'], test_size=0.25, random_state=1)\n",
        "\n",
        "# Modelo de Árvores de Decisão\n",
        "#modTit = tree.DecisionTreeClassifier()\n",
        "# Algoritmo RandomForest\n",
        "#modTit = RandomForestClassifier(random_state=1,n_estimators=1000)\n",
        "# Algoritmo SVM (SVC - support vector machines classifier)\n",
        "modTit = svm.SVC()\n",
        "\n",
        "modTit.fit(x_treino, y_treino)\n",
        "\n",
        "# Previsão em teste\n",
        "y_prev = modTit.predict(x_teste)\n",
        "\n",
        "# Métricas de avaliação de modelos classificadores (erro de previsão, loss function)\n",
        "print(accuracy_score(y_teste, y_prev))\n",
        "print(precision_score(y_teste, y_prev))\n",
        "print(recall_score(y_teste, y_prev))"
      ],
      "metadata": {
        "colab": {
          "base_uri": "https://localhost:8080/"
        },
        "id": "i9MrbonX6Zxk",
        "outputId": "7f1e07bf-62b8-417d-96da-da808245b65a"
      },
      "execution_count": 66,
      "outputs": [
        {
          "output_type": "stream",
          "name": "stdout",
          "text": [
            "0.5650224215246636\n",
            "0.42857142857142855\n",
            "0.06315789473684211\n"
          ]
        }
      ]
    },
    {
      "cell_type": "code",
      "source": [
        "print(modTit)"
      ],
      "metadata": {
        "colab": {
          "base_uri": "https://localhost:8080/"
        },
        "id": "ST1RyBXh6hnn",
        "outputId": "55ab3376-e9ff-4297-fa56-d5b36c8872f0"
      },
      "execution_count": 58,
      "outputs": [
        {
          "output_type": "stream",
          "name": "stdout",
          "text": [
            "RandomForestClassifier(random_state=1)\n"
          ]
        }
      ]
    },
    {
      "cell_type": "markdown",
      "source": [
        "# AUTO ML - Automation of Machine Learning"
      ],
      "metadata": {
        "id": "rX3cWQysDW7t"
      }
    },
    {
      "cell_type": "code",
      "source": [
        "# Instalar biblioteca pycaret\n",
        "!pip install pycaret"
      ],
      "metadata": {
        "colab": {
          "base_uri": "https://localhost:8080/",
          "height": 1000
        },
        "id": "8UdbTor8ECXT",
        "outputId": "c541d7d0-a1d6-4a03-f560-3e981a1e14f3"
      },
      "execution_count": 68,
      "outputs": [
        {
          "output_type": "stream",
          "name": "stdout",
          "text": [
            "Collecting pycaret\n",
            "  Downloading pycaret-3.2.0-py3-none-any.whl (484 kB)\n",
            "\u001b[2K     \u001b[90m━━━━━━━━━━━━━━━━━━━━━━━━━━━━━━━━━━━━━━━━\u001b[0m \u001b[32m484.7/484.7 kB\u001b[0m \u001b[31m5.4 MB/s\u001b[0m eta \u001b[36m0:00:00\u001b[0m\n",
            "\u001b[?25hCollecting category-encoders>=2.4.0 (from pycaret)\n",
            "  Downloading category_encoders-2.6.3-py2.py3-none-any.whl (81 kB)\n",
            "\u001b[2K     \u001b[90m━━━━━━━━━━━━━━━━━━━━━━━━━━━━━━━━━━━━━━━━\u001b[0m \u001b[32m81.9/81.9 kB\u001b[0m \u001b[31m9.2 MB/s\u001b[0m eta \u001b[36m0:00:00\u001b[0m\n",
            "\u001b[?25hRequirement already satisfied: cloudpickle in /usr/local/lib/python3.10/dist-packages (from pycaret) (2.2.1)\n",
            "Collecting deprecation>=2.1.0 (from pycaret)\n",
            "  Downloading deprecation-2.1.0-py2.py3-none-any.whl (11 kB)\n",
            "Requirement already satisfied: imbalanced-learn>=0.8.1 in /usr/local/lib/python3.10/dist-packages (from pycaret) (0.10.1)\n",
            "Requirement already satisfied: importlib-metadata>=4.12.0 in /usr/local/lib/python3.10/dist-packages (from pycaret) (7.0.0)\n",
            "Requirement already satisfied: ipython>=5.5.0 in /usr/local/lib/python3.10/dist-packages (from pycaret) (7.34.0)\n",
            "Requirement already satisfied: ipywidgets>=7.6.5 in /usr/local/lib/python3.10/dist-packages (from pycaret) (7.7.1)\n",
            "Requirement already satisfied: jinja2>=1.2 in /usr/local/lib/python3.10/dist-packages (from pycaret) (3.1.2)\n",
            "Requirement already satisfied: joblib>=1.2.0 in /usr/local/lib/python3.10/dist-packages (from pycaret) (1.3.2)\n",
            "Collecting kaleido>=0.2.1 (from pycaret)\n",
            "  Downloading kaleido-0.2.1-py2.py3-none-manylinux1_x86_64.whl (79.9 MB)\n",
            "\u001b[2K     \u001b[90m━━━━━━━━━━━━━━━━━━━━━━━━━━━━━━━━━━━━━━━━\u001b[0m \u001b[32m79.9/79.9 MB\u001b[0m \u001b[31m6.6 MB/s\u001b[0m eta \u001b[36m0:00:00\u001b[0m\n",
            "\u001b[?25hRequirement already satisfied: lightgbm>=3.0.0 in /usr/local/lib/python3.10/dist-packages (from pycaret) (4.1.0)\n",
            "Requirement already satisfied: markupsafe>=2.0.1 in /usr/local/lib/python3.10/dist-packages (from pycaret) (2.1.3)\n",
            "Collecting matplotlib<=3.6,>=3.3.0 (from pycaret)\n",
            "  Downloading matplotlib-3.6.0-cp310-cp310-manylinux_2_17_x86_64.manylinux2014_x86_64.whl (11.8 MB)\n",
            "\u001b[2K     \u001b[90m━━━━━━━━━━━━━━━━━━━━━━━━━━━━━━━━━━━━━━━━\u001b[0m \u001b[32m11.8/11.8 MB\u001b[0m \u001b[31m52.2 MB/s\u001b[0m eta \u001b[36m0:00:00\u001b[0m\n",
            "\u001b[?25hRequirement already satisfied: nbformat>=4.2.0 in /usr/local/lib/python3.10/dist-packages (from pycaret) (5.9.2)\n",
            "Requirement already satisfied: numba>=0.55.0 in /usr/local/lib/python3.10/dist-packages (from pycaret) (0.58.1)\n",
            "Requirement already satisfied: numpy<1.27,>=1.21 in /usr/local/lib/python3.10/dist-packages (from pycaret) (1.23.5)\n",
            "Requirement already satisfied: pandas<2.0.0,>=1.3.0 in /usr/local/lib/python3.10/dist-packages (from pycaret) (1.5.3)\n",
            "Collecting plotly-resampler>=0.8.3.1 (from pycaret)\n",
            "  Downloading plotly_resampler-0.9.1-py3-none-any.whl (73 kB)\n",
            "\u001b[2K     \u001b[90m━━━━━━━━━━━━━━━━━━━━━━━━━━━━━━━━━━━━━━━━\u001b[0m \u001b[32m73.4/73.4 kB\u001b[0m \u001b[31m7.2 MB/s\u001b[0m eta \u001b[36m0:00:00\u001b[0m\n",
            "\u001b[?25hRequirement already satisfied: plotly>=5.0.0 in /usr/local/lib/python3.10/dist-packages (from pycaret) (5.15.0)\n",
            "Collecting pmdarima!=1.8.1,<3.0.0,>=1.8.0 (from pycaret)\n",
            "  Downloading pmdarima-2.0.4-cp310-cp310-manylinux_2_17_x86_64.manylinux2014_x86_64.manylinux_2_28_x86_64.whl (2.1 MB)\n",
            "\u001b[2K     \u001b[90m━━━━━━━━━━━━━━━━━━━━━━━━━━━━━━━━━━━━━━━━\u001b[0m \u001b[32m2.1/2.1 MB\u001b[0m \u001b[31m78.5 MB/s\u001b[0m eta \u001b[36m0:00:00\u001b[0m\n",
            "\u001b[?25hRequirement already satisfied: psutil>=5.9.0 in /usr/local/lib/python3.10/dist-packages (from pycaret) (5.9.5)\n",
            "Collecting pyod>=1.0.8 (from pycaret)\n",
            "  Downloading pyod-1.1.2.tar.gz (160 kB)\n",
            "\u001b[2K     \u001b[90m━━━━━━━━━━━━━━━━━━━━━━━━━━━━━━━━━━━━━━━━\u001b[0m \u001b[32m160.5/160.5 kB\u001b[0m \u001b[31m17.5 MB/s\u001b[0m eta \u001b[36m0:00:00\u001b[0m\n",
            "\u001b[?25h  Preparing metadata (setup.py) ... \u001b[?25l\u001b[?25hdone\n",
            "Requirement already satisfied: requests>=2.27.1 in /usr/local/lib/python3.10/dist-packages (from pycaret) (2.31.0)\n",
            "Collecting schemdraw==0.15 (from pycaret)\n",
            "  Downloading schemdraw-0.15-py3-none-any.whl (106 kB)\n",
            "\u001b[2K     \u001b[90m━━━━━━━━━━━━━━━━━━━━━━━━━━━━━━━━━━━━━━━━\u001b[0m \u001b[32m106.8/106.8 kB\u001b[0m \u001b[31m12.1 MB/s\u001b[0m eta \u001b[36m0:00:00\u001b[0m\n",
            "\u001b[?25hRequirement already satisfied: scikit-learn<1.3.0,>=1.0 in /usr/local/lib/python3.10/dist-packages (from pycaret) (1.2.2)\n",
            "Collecting scikit-plot>=0.3.7 (from pycaret)\n",
            "  Downloading scikit_plot-0.3.7-py3-none-any.whl (33 kB)\n",
            "Collecting scipy~=1.10.1 (from pycaret)\n",
            "  Downloading scipy-1.10.1-cp310-cp310-manylinux_2_17_x86_64.manylinux2014_x86_64.whl (34.4 MB)\n",
            "\u001b[2K     \u001b[90m━━━━━━━━━━━━━━━━━━━━━━━━━━━━━━━━━━━━━━━━\u001b[0m \u001b[32m34.4/34.4 MB\u001b[0m \u001b[31m13.7 MB/s\u001b[0m eta \u001b[36m0:00:00\u001b[0m\n",
            "\u001b[?25hCollecting sktime!=0.17.1,!=0.17.2,!=0.18.0,<0.22.0,>=0.16.1 (from pycaret)\n",
            "  Downloading sktime-0.21.1-py3-none-any.whl (17.1 MB)\n",
            "\u001b[2K     \u001b[90m━━━━━━━━━━━━━━━━━━━━━━━━━━━━━━━━━━━━━━━━\u001b[0m \u001b[32m17.1/17.1 MB\u001b[0m \u001b[31m42.6 MB/s\u001b[0m eta \u001b[36m0:00:00\u001b[0m\n",
            "\u001b[?25hRequirement already satisfied: statsmodels>=0.12.1 in /usr/local/lib/python3.10/dist-packages (from pycaret) (0.14.0)\n",
            "Collecting tbats>=1.1.3 (from pycaret)\n",
            "  Downloading tbats-1.1.3-py3-none-any.whl (44 kB)\n",
            "\u001b[2K     \u001b[90m━━━━━━━━━━━━━━━━━━━━━━━━━━━━━━━━━━━━━━━━\u001b[0m \u001b[32m44.0/44.0 kB\u001b[0m \u001b[31m4.2 MB/s\u001b[0m eta \u001b[36m0:00:00\u001b[0m\n",
            "\u001b[?25hRequirement already satisfied: tqdm>=4.62.0 in /usr/local/lib/python3.10/dist-packages (from pycaret) (4.66.1)\n",
            "Requirement already satisfied: xxhash in /usr/local/lib/python3.10/dist-packages (from pycaret) (3.4.1)\n",
            "Requirement already satisfied: yellowbrick>=1.4 in /usr/local/lib/python3.10/dist-packages (from pycaret) (1.5)\n",
            "Collecting wurlitzer (from pycaret)\n",
            "  Downloading wurlitzer-3.0.3-py3-none-any.whl (7.3 kB)\n",
            "Requirement already satisfied: patsy>=0.5.1 in /usr/local/lib/python3.10/dist-packages (from category-encoders>=2.4.0->pycaret) (0.5.4)\n",
            "Requirement already satisfied: packaging in /usr/local/lib/python3.10/dist-packages (from deprecation>=2.1.0->pycaret) (23.2)\n",
            "Requirement already satisfied: threadpoolctl>=2.0.0 in /usr/local/lib/python3.10/dist-packages (from imbalanced-learn>=0.8.1->pycaret) (3.2.0)\n",
            "Requirement already satisfied: zipp>=0.5 in /usr/local/lib/python3.10/dist-packages (from importlib-metadata>=4.12.0->pycaret) (3.17.0)\n",
            "Requirement already satisfied: setuptools>=18.5 in /usr/local/lib/python3.10/dist-packages (from ipython>=5.5.0->pycaret) (67.7.2)\n",
            "Collecting jedi>=0.16 (from ipython>=5.5.0->pycaret)\n",
            "  Downloading jedi-0.19.1-py2.py3-none-any.whl (1.6 MB)\n",
            "\u001b[2K     \u001b[90m━━━━━━━━━━━━━━━━━━━━━━━━━━━━━━━━━━━━━━━━\u001b[0m \u001b[32m1.6/1.6 MB\u001b[0m \u001b[31m55.2 MB/s\u001b[0m eta \u001b[36m0:00:00\u001b[0m\n",
            "\u001b[?25hRequirement already satisfied: decorator in /usr/local/lib/python3.10/dist-packages (from ipython>=5.5.0->pycaret) (4.4.2)\n",
            "Requirement already satisfied: pickleshare in /usr/local/lib/python3.10/dist-packages (from ipython>=5.5.0->pycaret) (0.7.5)\n",
            "Requirement already satisfied: traitlets>=4.2 in /usr/local/lib/python3.10/dist-packages (from ipython>=5.5.0->pycaret) (5.7.1)\n",
            "Requirement already satisfied: prompt-toolkit!=3.0.0,!=3.0.1,<3.1.0,>=2.0.0 in /usr/local/lib/python3.10/dist-packages (from ipython>=5.5.0->pycaret) (3.0.42)\n",
            "Requirement already satisfied: pygments in /usr/local/lib/python3.10/dist-packages (from ipython>=5.5.0->pycaret) (2.16.1)\n",
            "Requirement already satisfied: backcall in /usr/local/lib/python3.10/dist-packages (from ipython>=5.5.0->pycaret) (0.2.0)\n",
            "Requirement already satisfied: matplotlib-inline in /usr/local/lib/python3.10/dist-packages (from ipython>=5.5.0->pycaret) (0.1.6)\n",
            "Requirement already satisfied: pexpect>4.3 in /usr/local/lib/python3.10/dist-packages (from ipython>=5.5.0->pycaret) (4.9.0)\n",
            "Requirement already satisfied: ipykernel>=4.5.1 in /usr/local/lib/python3.10/dist-packages (from ipywidgets>=7.6.5->pycaret) (5.5.6)\n",
            "Requirement already satisfied: ipython-genutils~=0.2.0 in /usr/local/lib/python3.10/dist-packages (from ipywidgets>=7.6.5->pycaret) (0.2.0)\n",
            "Requirement already satisfied: widgetsnbextension~=3.6.0 in /usr/local/lib/python3.10/dist-packages (from ipywidgets>=7.6.5->pycaret) (3.6.6)\n",
            "Requirement already satisfied: jupyterlab-widgets>=1.0.0 in /usr/local/lib/python3.10/dist-packages (from ipywidgets>=7.6.5->pycaret) (3.0.9)\n",
            "Requirement already satisfied: contourpy>=1.0.1 in /usr/local/lib/python3.10/dist-packages (from matplotlib<=3.6,>=3.3.0->pycaret) (1.2.0)\n",
            "Requirement already satisfied: cycler>=0.10 in /usr/local/lib/python3.10/dist-packages (from matplotlib<=3.6,>=3.3.0->pycaret) (0.12.1)\n",
            "Requirement already satisfied: fonttools>=4.22.0 in /usr/local/lib/python3.10/dist-packages (from matplotlib<=3.6,>=3.3.0->pycaret) (4.46.0)\n",
            "Requirement already satisfied: kiwisolver>=1.0.1 in /usr/local/lib/python3.10/dist-packages (from matplotlib<=3.6,>=3.3.0->pycaret) (1.4.5)\n",
            "Requirement already satisfied: pillow>=6.2.0 in /usr/local/lib/python3.10/dist-packages (from matplotlib<=3.6,>=3.3.0->pycaret) (9.4.0)\n",
            "Requirement already satisfied: pyparsing>=2.2.1 in /usr/local/lib/python3.10/dist-packages (from matplotlib<=3.6,>=3.3.0->pycaret) (3.1.1)\n",
            "Requirement already satisfied: python-dateutil>=2.7 in /usr/local/lib/python3.10/dist-packages (from matplotlib<=3.6,>=3.3.0->pycaret) (2.8.2)\n",
            "Requirement already satisfied: fastjsonschema in /usr/local/lib/python3.10/dist-packages (from nbformat>=4.2.0->pycaret) (2.19.0)\n",
            "Requirement already satisfied: jsonschema>=2.6 in /usr/local/lib/python3.10/dist-packages (from nbformat>=4.2.0->pycaret) (4.19.2)\n",
            "Requirement already satisfied: jupyter-core in /usr/local/lib/python3.10/dist-packages (from nbformat>=4.2.0->pycaret) (5.5.0)\n",
            "Requirement already satisfied: llvmlite<0.42,>=0.41.0dev0 in /usr/local/lib/python3.10/dist-packages (from numba>=0.55.0->pycaret) (0.41.1)\n",
            "Requirement already satisfied: pytz>=2020.1 in /usr/local/lib/python3.10/dist-packages (from pandas<2.0.0,>=1.3.0->pycaret) (2023.3.post1)\n",
            "Requirement already satisfied: tenacity>=6.2.0 in /usr/local/lib/python3.10/dist-packages (from plotly>=5.0.0->pycaret) (8.2.3)\n",
            "Collecting dash<3.0.0,>=2.11.0 (from plotly-resampler>=0.8.3.1->pycaret)\n",
            "  Downloading dash-2.14.2-py3-none-any.whl (10.2 MB)\n",
            "\u001b[2K     \u001b[90m━━━━━━━━━━━━━━━━━━━━━━━━━━━━━━━━━━━━━━━━\u001b[0m \u001b[32m10.2/10.2 MB\u001b[0m \u001b[31m46.0 MB/s\u001b[0m eta \u001b[36m0:00:00\u001b[0m\n",
            "\u001b[?25hCollecting orjson<4.0.0,>=3.8.0 (from plotly-resampler>=0.8.3.1->pycaret)\n",
            "  Downloading orjson-3.9.10-cp310-cp310-manylinux_2_17_x86_64.manylinux2014_x86_64.whl (138 kB)\n",
            "\u001b[2K     \u001b[90m━━━━━━━━━━━━━━━━━━━━━━━━━━━━━━━━━━━━━━━━\u001b[0m \u001b[32m138.7/138.7 kB\u001b[0m \u001b[31m14.1 MB/s\u001b[0m eta \u001b[36m0:00:00\u001b[0m\n",
            "\u001b[?25hCollecting trace-updater>=0.0.8 (from plotly-resampler>=0.8.3.1->pycaret)\n",
            "  Downloading trace_updater-0.0.9.1-py3-none-any.whl (185 kB)\n",
            "\u001b[2K     \u001b[90m━━━━━━━━━━━━━━━━━━━━━━━━━━━━━━━━━━━━━━━━\u001b[0m \u001b[32m185.2/185.2 kB\u001b[0m \u001b[31m19.1 MB/s\u001b[0m eta \u001b[36m0:00:00\u001b[0m\n",
            "\u001b[?25hCollecting tsdownsample==0.1.2 (from plotly-resampler>=0.8.3.1->pycaret)\n",
            "  Downloading tsdownsample-0.1.2-cp310-cp310-manylinux_2_17_x86_64.manylinux2014_x86_64.whl (2.3 MB)\n",
            "\u001b[2K     \u001b[90m━━━━━━━━━━━━━━━━━━━━━━━━━━━━━━━━━━━━━━━━\u001b[0m \u001b[32m2.3/2.3 MB\u001b[0m \u001b[31m65.3 MB/s\u001b[0m eta \u001b[36m0:00:00\u001b[0m\n",
            "\u001b[?25hRequirement already satisfied: Cython!=0.29.18,!=0.29.31,>=0.29 in /usr/local/lib/python3.10/dist-packages (from pmdarima!=1.8.1,<3.0.0,>=1.8.0->pycaret) (3.0.6)\n",
            "Requirement already satisfied: urllib3 in /usr/local/lib/python3.10/dist-packages (from pmdarima!=1.8.1,<3.0.0,>=1.8.0->pycaret) (2.0.7)\n",
            "Requirement already satisfied: six in /usr/local/lib/python3.10/dist-packages (from pyod>=1.0.8->pycaret) (1.16.0)\n",
            "Requirement already satisfied: charset-normalizer<4,>=2 in /usr/local/lib/python3.10/dist-packages (from requests>=2.27.1->pycaret) (3.3.2)\n",
            "Requirement already satisfied: idna<4,>=2.5 in /usr/local/lib/python3.10/dist-packages (from requests>=2.27.1->pycaret) (3.6)\n",
            "Requirement already satisfied: certifi>=2017.4.17 in /usr/local/lib/python3.10/dist-packages (from requests>=2.27.1->pycaret) (2023.11.17)\n",
            "Collecting deprecated>=1.2.13 (from sktime!=0.17.1,!=0.17.2,!=0.18.0,<0.22.0,>=0.16.1->pycaret)\n",
            "  Downloading Deprecated-1.2.14-py2.py3-none-any.whl (9.6 kB)\n",
            "Collecting scikit-base<0.6.0 (from sktime!=0.17.1,!=0.17.2,!=0.18.0,<0.22.0,>=0.16.1->pycaret)\n",
            "  Downloading scikit_base-0.5.2-py3-none-any.whl (118 kB)\n",
            "\u001b[2K     \u001b[90m━━━━━━━━━━━━━━━━━━━━━━━━━━━━━━━━━━━━━━━━\u001b[0m \u001b[32m119.0/119.0 kB\u001b[0m \u001b[31m13.0 MB/s\u001b[0m eta \u001b[36m0:00:00\u001b[0m\n",
            "\u001b[?25hRequirement already satisfied: Flask<3.1,>=1.0.4 in /usr/local/lib/python3.10/dist-packages (from dash<3.0.0,>=2.11.0->plotly-resampler>=0.8.3.1->pycaret) (2.2.5)\n",
            "Requirement already satisfied: Werkzeug<3.1 in /usr/local/lib/python3.10/dist-packages (from dash<3.0.0,>=2.11.0->plotly-resampler>=0.8.3.1->pycaret) (3.0.1)\n",
            "Collecting dash-html-components==2.0.0 (from dash<3.0.0,>=2.11.0->plotly-resampler>=0.8.3.1->pycaret)\n",
            "  Downloading dash_html_components-2.0.0-py3-none-any.whl (4.1 kB)\n",
            "Collecting dash-core-components==2.0.0 (from dash<3.0.0,>=2.11.0->plotly-resampler>=0.8.3.1->pycaret)\n",
            "  Downloading dash_core_components-2.0.0-py3-none-any.whl (3.8 kB)\n",
            "Collecting dash-table==5.0.0 (from dash<3.0.0,>=2.11.0->plotly-resampler>=0.8.3.1->pycaret)\n",
            "  Downloading dash_table-5.0.0-py3-none-any.whl (3.9 kB)\n",
            "Requirement already satisfied: typing-extensions>=4.1.1 in /usr/local/lib/python3.10/dist-packages (from dash<3.0.0,>=2.11.0->plotly-resampler>=0.8.3.1->pycaret) (4.5.0)\n",
            "Collecting retrying (from dash<3.0.0,>=2.11.0->plotly-resampler>=0.8.3.1->pycaret)\n",
            "  Downloading retrying-1.3.4-py3-none-any.whl (11 kB)\n",
            "Collecting ansi2html (from dash<3.0.0,>=2.11.0->plotly-resampler>=0.8.3.1->pycaret)\n",
            "  Downloading ansi2html-1.9.1-py3-none-any.whl (17 kB)\n",
            "Requirement already satisfied: nest-asyncio in /usr/local/lib/python3.10/dist-packages (from dash<3.0.0,>=2.11.0->plotly-resampler>=0.8.3.1->pycaret) (1.5.8)\n",
            "Requirement already satisfied: wrapt<2,>=1.10 in /usr/local/lib/python3.10/dist-packages (from deprecated>=1.2.13->sktime!=0.17.1,!=0.17.2,!=0.18.0,<0.22.0,>=0.16.1->pycaret) (1.14.1)\n",
            "Requirement already satisfied: jupyter-client in /usr/local/lib/python3.10/dist-packages (from ipykernel>=4.5.1->ipywidgets>=7.6.5->pycaret) (6.1.12)\n",
            "Requirement already satisfied: tornado>=4.2 in /usr/local/lib/python3.10/dist-packages (from ipykernel>=4.5.1->ipywidgets>=7.6.5->pycaret) (6.3.2)\n",
            "Requirement already satisfied: parso<0.9.0,>=0.8.3 in /usr/local/lib/python3.10/dist-packages (from jedi>=0.16->ipython>=5.5.0->pycaret) (0.8.3)\n",
            "Requirement already satisfied: attrs>=22.2.0 in /usr/local/lib/python3.10/dist-packages (from jsonschema>=2.6->nbformat>=4.2.0->pycaret) (23.1.0)\n",
            "Requirement already satisfied: jsonschema-specifications>=2023.03.6 in /usr/local/lib/python3.10/dist-packages (from jsonschema>=2.6->nbformat>=4.2.0->pycaret) (2023.11.2)\n",
            "Requirement already satisfied: referencing>=0.28.4 in /usr/local/lib/python3.10/dist-packages (from jsonschema>=2.6->nbformat>=4.2.0->pycaret) (0.32.0)\n",
            "Requirement already satisfied: rpds-py>=0.7.1 in /usr/local/lib/python3.10/dist-packages (from jsonschema>=2.6->nbformat>=4.2.0->pycaret) (0.13.2)\n",
            "Requirement already satisfied: ptyprocess>=0.5 in /usr/local/lib/python3.10/dist-packages (from pexpect>4.3->ipython>=5.5.0->pycaret) (0.7.0)\n",
            "Requirement already satisfied: wcwidth in /usr/local/lib/python3.10/dist-packages (from prompt-toolkit!=3.0.0,!=3.0.1,<3.1.0,>=2.0.0->ipython>=5.5.0->pycaret) (0.2.12)\n",
            "Requirement already satisfied: notebook>=4.4.1 in /usr/local/lib/python3.10/dist-packages (from widgetsnbextension~=3.6.0->ipywidgets>=7.6.5->pycaret) (6.5.5)\n",
            "Requirement already satisfied: platformdirs>=2.5 in /usr/local/lib/python3.10/dist-packages (from jupyter-core->nbformat>=4.2.0->pycaret) (4.1.0)\n",
            "Requirement already satisfied: itsdangerous>=2.0 in /usr/local/lib/python3.10/dist-packages (from Flask<3.1,>=1.0.4->dash<3.0.0,>=2.11.0->plotly-resampler>=0.8.3.1->pycaret) (2.1.2)\n",
            "Requirement already satisfied: click>=8.0 in /usr/local/lib/python3.10/dist-packages (from Flask<3.1,>=1.0.4->dash<3.0.0,>=2.11.0->plotly-resampler>=0.8.3.1->pycaret) (8.1.7)\n",
            "Requirement already satisfied: pyzmq<25,>=17 in /usr/local/lib/python3.10/dist-packages (from notebook>=4.4.1->widgetsnbextension~=3.6.0->ipywidgets>=7.6.5->pycaret) (23.2.1)\n",
            "Requirement already satisfied: argon2-cffi in /usr/local/lib/python3.10/dist-packages (from notebook>=4.4.1->widgetsnbextension~=3.6.0->ipywidgets>=7.6.5->pycaret) (23.1.0)\n",
            "Requirement already satisfied: nbconvert>=5 in /usr/local/lib/python3.10/dist-packages (from notebook>=4.4.1->widgetsnbextension~=3.6.0->ipywidgets>=7.6.5->pycaret) (6.5.4)\n",
            "Requirement already satisfied: Send2Trash>=1.8.0 in /usr/local/lib/python3.10/dist-packages (from notebook>=4.4.1->widgetsnbextension~=3.6.0->ipywidgets>=7.6.5->pycaret) (1.8.2)\n",
            "Requirement already satisfied: terminado>=0.8.3 in /usr/local/lib/python3.10/dist-packages (from notebook>=4.4.1->widgetsnbextension~=3.6.0->ipywidgets>=7.6.5->pycaret) (0.18.0)\n",
            "Requirement already satisfied: prometheus-client in /usr/local/lib/python3.10/dist-packages (from notebook>=4.4.1->widgetsnbextension~=3.6.0->ipywidgets>=7.6.5->pycaret) (0.19.0)\n",
            "Requirement already satisfied: nbclassic>=0.4.7 in /usr/local/lib/python3.10/dist-packages (from notebook>=4.4.1->widgetsnbextension~=3.6.0->ipywidgets>=7.6.5->pycaret) (1.0.0)\n",
            "Requirement already satisfied: jupyter-server>=1.8 in /usr/local/lib/python3.10/dist-packages (from nbclassic>=0.4.7->notebook>=4.4.1->widgetsnbextension~=3.6.0->ipywidgets>=7.6.5->pycaret) (1.24.0)\n",
            "Requirement already satisfied: notebook-shim>=0.2.3 in /usr/local/lib/python3.10/dist-packages (from nbclassic>=0.4.7->notebook>=4.4.1->widgetsnbextension~=3.6.0->ipywidgets>=7.6.5->pycaret) (0.2.3)\n",
            "Requirement already satisfied: lxml in /usr/local/lib/python3.10/dist-packages (from nbconvert>=5->notebook>=4.4.1->widgetsnbextension~=3.6.0->ipywidgets>=7.6.5->pycaret) (4.9.3)\n",
            "Requirement already satisfied: beautifulsoup4 in /usr/local/lib/python3.10/dist-packages (from nbconvert>=5->notebook>=4.4.1->widgetsnbextension~=3.6.0->ipywidgets>=7.6.5->pycaret) (4.11.2)\n",
            "Requirement already satisfied: bleach in /usr/local/lib/python3.10/dist-packages (from nbconvert>=5->notebook>=4.4.1->widgetsnbextension~=3.6.0->ipywidgets>=7.6.5->pycaret) (6.1.0)\n",
            "Requirement already satisfied: defusedxml in /usr/local/lib/python3.10/dist-packages (from nbconvert>=5->notebook>=4.4.1->widgetsnbextension~=3.6.0->ipywidgets>=7.6.5->pycaret) (0.7.1)\n",
            "Requirement already satisfied: entrypoints>=0.2.2 in /usr/local/lib/python3.10/dist-packages (from nbconvert>=5->notebook>=4.4.1->widgetsnbextension~=3.6.0->ipywidgets>=7.6.5->pycaret) (0.4)\n",
            "Requirement already satisfied: jupyterlab-pygments in /usr/local/lib/python3.10/dist-packages (from nbconvert>=5->notebook>=4.4.1->widgetsnbextension~=3.6.0->ipywidgets>=7.6.5->pycaret) (0.3.0)\n",
            "Requirement already satisfied: mistune<2,>=0.8.1 in /usr/local/lib/python3.10/dist-packages (from nbconvert>=5->notebook>=4.4.1->widgetsnbextension~=3.6.0->ipywidgets>=7.6.5->pycaret) (0.8.4)\n",
            "Requirement already satisfied: nbclient>=0.5.0 in /usr/local/lib/python3.10/dist-packages (from nbconvert>=5->notebook>=4.4.1->widgetsnbextension~=3.6.0->ipywidgets>=7.6.5->pycaret) (0.9.0)\n",
            "Requirement already satisfied: pandocfilters>=1.4.1 in /usr/local/lib/python3.10/dist-packages (from nbconvert>=5->notebook>=4.4.1->widgetsnbextension~=3.6.0->ipywidgets>=7.6.5->pycaret) (1.5.0)\n",
            "Requirement already satisfied: tinycss2 in /usr/local/lib/python3.10/dist-packages (from nbconvert>=5->notebook>=4.4.1->widgetsnbextension~=3.6.0->ipywidgets>=7.6.5->pycaret) (1.2.1)\n",
            "Requirement already satisfied: argon2-cffi-bindings in /usr/local/lib/python3.10/dist-packages (from argon2-cffi->notebook>=4.4.1->widgetsnbextension~=3.6.0->ipywidgets>=7.6.5->pycaret) (21.2.0)\n",
            "Requirement already satisfied: anyio<4,>=3.1.0 in /usr/local/lib/python3.10/dist-packages (from jupyter-server>=1.8->nbclassic>=0.4.7->notebook>=4.4.1->widgetsnbextension~=3.6.0->ipywidgets>=7.6.5->pycaret) (3.7.1)\n",
            "Requirement already satisfied: websocket-client in /usr/local/lib/python3.10/dist-packages (from jupyter-server>=1.8->nbclassic>=0.4.7->notebook>=4.4.1->widgetsnbextension~=3.6.0->ipywidgets>=7.6.5->pycaret) (1.7.0)\n",
            "Requirement already satisfied: cffi>=1.0.1 in /usr/local/lib/python3.10/dist-packages (from argon2-cffi-bindings->argon2-cffi->notebook>=4.4.1->widgetsnbextension~=3.6.0->ipywidgets>=7.6.5->pycaret) (1.16.0)\n",
            "Requirement already satisfied: soupsieve>1.2 in /usr/local/lib/python3.10/dist-packages (from beautifulsoup4->nbconvert>=5->notebook>=4.4.1->widgetsnbextension~=3.6.0->ipywidgets>=7.6.5->pycaret) (2.5)\n",
            "Requirement already satisfied: webencodings in /usr/local/lib/python3.10/dist-packages (from bleach->nbconvert>=5->notebook>=4.4.1->widgetsnbextension~=3.6.0->ipywidgets>=7.6.5->pycaret) (0.5.1)\n",
            "Requirement already satisfied: sniffio>=1.1 in /usr/local/lib/python3.10/dist-packages (from anyio<4,>=3.1.0->jupyter-server>=1.8->nbclassic>=0.4.7->notebook>=4.4.1->widgetsnbextension~=3.6.0->ipywidgets>=7.6.5->pycaret) (1.3.0)\n",
            "Requirement already satisfied: exceptiongroup in /usr/local/lib/python3.10/dist-packages (from anyio<4,>=3.1.0->jupyter-server>=1.8->nbclassic>=0.4.7->notebook>=4.4.1->widgetsnbextension~=3.6.0->ipywidgets>=7.6.5->pycaret) (1.2.0)\n",
            "Requirement already satisfied: pycparser in /usr/local/lib/python3.10/dist-packages (from cffi>=1.0.1->argon2-cffi-bindings->argon2-cffi->notebook>=4.4.1->widgetsnbextension~=3.6.0->ipywidgets>=7.6.5->pycaret) (2.21)\n",
            "Building wheels for collected packages: pyod\n",
            "  Building wheel for pyod (setup.py) ... \u001b[?25l\u001b[?25hdone\n",
            "  Created wheel for pyod: filename=pyod-1.1.2-py3-none-any.whl size=190292 sha256=84602c8efb3580dd205e93b77bb5635679840e0682eea3ece03940686bf2faaf\n",
            "  Stored in directory: /root/.cache/pip/wheels/81/1b/61/aa85b78c3c0c8871f4231e3f4a03bb23cecb7db829498380ee\n",
            "Successfully built pyod\n",
            "Installing collected packages: trace-updater, kaleido, dash-table, dash-html-components, dash-core-components, wurlitzer, tsdownsample, scipy, scikit-base, schemdraw, retrying, orjson, jedi, deprecation, deprecated, ansi2html, matplotlib, sktime, scikit-plot, pyod, dash, pmdarima, plotly-resampler, category-encoders, tbats, pycaret\n",
            "  Attempting uninstall: scipy\n",
            "    Found existing installation: scipy 1.11.4\n",
            "    Uninstalling scipy-1.11.4:\n",
            "      Successfully uninstalled scipy-1.11.4\n",
            "  Attempting uninstall: matplotlib\n",
            "    Found existing installation: matplotlib 3.7.1\n",
            "    Uninstalling matplotlib-3.7.1:\n",
            "      Successfully uninstalled matplotlib-3.7.1\n",
            "\u001b[31mERROR: pip's dependency resolver does not currently take into account all the packages that are installed. This behaviour is the source of the following dependency conflicts.\n",
            "lida 0.0.10 requires fastapi, which is not installed.\n",
            "lida 0.0.10 requires python-multipart, which is not installed.\n",
            "lida 0.0.10 requires uvicorn, which is not installed.\u001b[0m\u001b[31m\n",
            "\u001b[0mSuccessfully installed ansi2html-1.9.1 category-encoders-2.6.3 dash-2.14.2 dash-core-components-2.0.0 dash-html-components-2.0.0 dash-table-5.0.0 deprecated-1.2.14 deprecation-2.1.0 jedi-0.19.1 kaleido-0.2.1 matplotlib-3.6.0 orjson-3.9.10 plotly-resampler-0.9.1 pmdarima-2.0.4 pycaret-3.2.0 pyod-1.1.2 retrying-1.3.4 schemdraw-0.15 scikit-base-0.5.2 scikit-plot-0.3.7 scipy-1.10.1 sktime-0.21.1 tbats-1.1.3 trace-updater-0.0.9.1 tsdownsample-0.1.2 wurlitzer-3.0.3\n"
          ]
        },
        {
          "output_type": "display_data",
          "data": {
            "application/vnd.colab-display-data+json": {
              "pip_warning": {
                "packages": [
                  "matplotlib",
                  "mpl_toolkits"
                ]
              }
            }
          },
          "metadata": {}
        }
      ]
    },
    {
      "cell_type": "code",
      "source": [
        "# Importar biblioteca do pycaret\n",
        "from pycaret.classification import *\n",
        "import pandas as pd"
      ],
      "metadata": {
        "id": "C79RVDC1DWUF"
      },
      "execution_count": 3,
      "outputs": []
    },
    {
      "cell_type": "code",
      "source": [
        "# Carga de dados\n",
        "dfTit = pd.read_csv(\"https://raw.githubusercontent.com/diogenesjusto/FIAP/master/Gradua%C3%A7%C3%A3o/dados/dados_arvore_titanic.csv\")"
      ],
      "metadata": {
        "id": "-nKw9p08E4Wv"
      },
      "execution_count": 4,
      "outputs": []
    },
    {
      "cell_type": "code",
      "source": [
        "# Configuração do pycaret\n",
        "s = setup(dfTit, target='Survived')"
      ],
      "metadata": {
        "colab": {
          "base_uri": "https://localhost:8080/",
          "height": 802
        },
        "id": "dSLS09nFFBjN",
        "outputId": "1dc92331-c562-43f4-97f0-3ba682b75aa2"
      },
      "execution_count": 5,
      "outputs": [
        {
          "output_type": "display_data",
          "data": {
            "text/plain": [
              "<pandas.io.formats.style.Styler at 0x78aa684dfb20>"
            ],
            "text/html": [
              "<style type=\"text/css\">\n",
              "#T_6f9bc_row11_col1 {\n",
              "  background-color: lightgreen;\n",
              "}\n",
              "</style>\n",
              "<table id=\"T_6f9bc\" class=\"dataframe\">\n",
              "  <thead>\n",
              "    <tr>\n",
              "      <th class=\"blank level0\" >&nbsp;</th>\n",
              "      <th id=\"T_6f9bc_level0_col0\" class=\"col_heading level0 col0\" >Description</th>\n",
              "      <th id=\"T_6f9bc_level0_col1\" class=\"col_heading level0 col1\" >Value</th>\n",
              "    </tr>\n",
              "  </thead>\n",
              "  <tbody>\n",
              "    <tr>\n",
              "      <th id=\"T_6f9bc_level0_row0\" class=\"row_heading level0 row0\" >0</th>\n",
              "      <td id=\"T_6f9bc_row0_col0\" class=\"data row0 col0\" >Session id</td>\n",
              "      <td id=\"T_6f9bc_row0_col1\" class=\"data row0 col1\" >962</td>\n",
              "    </tr>\n",
              "    <tr>\n",
              "      <th id=\"T_6f9bc_level0_row1\" class=\"row_heading level0 row1\" >1</th>\n",
              "      <td id=\"T_6f9bc_row1_col0\" class=\"data row1 col0\" >Target</td>\n",
              "      <td id=\"T_6f9bc_row1_col1\" class=\"data row1 col1\" >Survived</td>\n",
              "    </tr>\n",
              "    <tr>\n",
              "      <th id=\"T_6f9bc_level0_row2\" class=\"row_heading level0 row2\" >2</th>\n",
              "      <td id=\"T_6f9bc_row2_col0\" class=\"data row2 col0\" >Target type</td>\n",
              "      <td id=\"T_6f9bc_row2_col1\" class=\"data row2 col1\" >Binary</td>\n",
              "    </tr>\n",
              "    <tr>\n",
              "      <th id=\"T_6f9bc_level0_row3\" class=\"row_heading level0 row3\" >3</th>\n",
              "      <td id=\"T_6f9bc_row3_col0\" class=\"data row3 col0\" >Original data shape</td>\n",
              "      <td id=\"T_6f9bc_row3_col1\" class=\"data row3 col1\" >(891, 12)</td>\n",
              "    </tr>\n",
              "    <tr>\n",
              "      <th id=\"T_6f9bc_level0_row4\" class=\"row_heading level0 row4\" >4</th>\n",
              "      <td id=\"T_6f9bc_row4_col0\" class=\"data row4 col0\" >Transformed data shape</td>\n",
              "      <td id=\"T_6f9bc_row4_col1\" class=\"data row4 col1\" >(891, 14)</td>\n",
              "    </tr>\n",
              "    <tr>\n",
              "      <th id=\"T_6f9bc_level0_row5\" class=\"row_heading level0 row5\" >5</th>\n",
              "      <td id=\"T_6f9bc_row5_col0\" class=\"data row5 col0\" >Transformed train set shape</td>\n",
              "      <td id=\"T_6f9bc_row5_col1\" class=\"data row5 col1\" >(623, 14)</td>\n",
              "    </tr>\n",
              "    <tr>\n",
              "      <th id=\"T_6f9bc_level0_row6\" class=\"row_heading level0 row6\" >6</th>\n",
              "      <td id=\"T_6f9bc_row6_col0\" class=\"data row6 col0\" >Transformed test set shape</td>\n",
              "      <td id=\"T_6f9bc_row6_col1\" class=\"data row6 col1\" >(268, 14)</td>\n",
              "    </tr>\n",
              "    <tr>\n",
              "      <th id=\"T_6f9bc_level0_row7\" class=\"row_heading level0 row7\" >7</th>\n",
              "      <td id=\"T_6f9bc_row7_col0\" class=\"data row7 col0\" >Ordinal features</td>\n",
              "      <td id=\"T_6f9bc_row7_col1\" class=\"data row7 col1\" >1</td>\n",
              "    </tr>\n",
              "    <tr>\n",
              "      <th id=\"T_6f9bc_level0_row8\" class=\"row_heading level0 row8\" >8</th>\n",
              "      <td id=\"T_6f9bc_row8_col0\" class=\"data row8 col0\" >Numeric features</td>\n",
              "      <td id=\"T_6f9bc_row8_col1\" class=\"data row8 col1\" >6</td>\n",
              "    </tr>\n",
              "    <tr>\n",
              "      <th id=\"T_6f9bc_level0_row9\" class=\"row_heading level0 row9\" >9</th>\n",
              "      <td id=\"T_6f9bc_row9_col0\" class=\"data row9 col0\" >Categorical features</td>\n",
              "      <td id=\"T_6f9bc_row9_col1\" class=\"data row9 col1\" >5</td>\n",
              "    </tr>\n",
              "    <tr>\n",
              "      <th id=\"T_6f9bc_level0_row10\" class=\"row_heading level0 row10\" >10</th>\n",
              "      <td id=\"T_6f9bc_row10_col0\" class=\"data row10 col0\" >Rows with missing values</td>\n",
              "      <td id=\"T_6f9bc_row10_col1\" class=\"data row10 col1\" >79.5%</td>\n",
              "    </tr>\n",
              "    <tr>\n",
              "      <th id=\"T_6f9bc_level0_row11\" class=\"row_heading level0 row11\" >11</th>\n",
              "      <td id=\"T_6f9bc_row11_col0\" class=\"data row11 col0\" >Preprocess</td>\n",
              "      <td id=\"T_6f9bc_row11_col1\" class=\"data row11 col1\" >True</td>\n",
              "    </tr>\n",
              "    <tr>\n",
              "      <th id=\"T_6f9bc_level0_row12\" class=\"row_heading level0 row12\" >12</th>\n",
              "      <td id=\"T_6f9bc_row12_col0\" class=\"data row12 col0\" >Imputation type</td>\n",
              "      <td id=\"T_6f9bc_row12_col1\" class=\"data row12 col1\" >simple</td>\n",
              "    </tr>\n",
              "    <tr>\n",
              "      <th id=\"T_6f9bc_level0_row13\" class=\"row_heading level0 row13\" >13</th>\n",
              "      <td id=\"T_6f9bc_row13_col0\" class=\"data row13 col0\" >Numeric imputation</td>\n",
              "      <td id=\"T_6f9bc_row13_col1\" class=\"data row13 col1\" >mean</td>\n",
              "    </tr>\n",
              "    <tr>\n",
              "      <th id=\"T_6f9bc_level0_row14\" class=\"row_heading level0 row14\" >14</th>\n",
              "      <td id=\"T_6f9bc_row14_col0\" class=\"data row14 col0\" >Categorical imputation</td>\n",
              "      <td id=\"T_6f9bc_row14_col1\" class=\"data row14 col1\" >mode</td>\n",
              "    </tr>\n",
              "    <tr>\n",
              "      <th id=\"T_6f9bc_level0_row15\" class=\"row_heading level0 row15\" >15</th>\n",
              "      <td id=\"T_6f9bc_row15_col0\" class=\"data row15 col0\" >Maximum one-hot encoding</td>\n",
              "      <td id=\"T_6f9bc_row15_col1\" class=\"data row15 col1\" >25</td>\n",
              "    </tr>\n",
              "    <tr>\n",
              "      <th id=\"T_6f9bc_level0_row16\" class=\"row_heading level0 row16\" >16</th>\n",
              "      <td id=\"T_6f9bc_row16_col0\" class=\"data row16 col0\" >Encoding method</td>\n",
              "      <td id=\"T_6f9bc_row16_col1\" class=\"data row16 col1\" >None</td>\n",
              "    </tr>\n",
              "    <tr>\n",
              "      <th id=\"T_6f9bc_level0_row17\" class=\"row_heading level0 row17\" >17</th>\n",
              "      <td id=\"T_6f9bc_row17_col0\" class=\"data row17 col0\" >Fold Generator</td>\n",
              "      <td id=\"T_6f9bc_row17_col1\" class=\"data row17 col1\" >StratifiedKFold</td>\n",
              "    </tr>\n",
              "    <tr>\n",
              "      <th id=\"T_6f9bc_level0_row18\" class=\"row_heading level0 row18\" >18</th>\n",
              "      <td id=\"T_6f9bc_row18_col0\" class=\"data row18 col0\" >Fold Number</td>\n",
              "      <td id=\"T_6f9bc_row18_col1\" class=\"data row18 col1\" >10</td>\n",
              "    </tr>\n",
              "    <tr>\n",
              "      <th id=\"T_6f9bc_level0_row19\" class=\"row_heading level0 row19\" >19</th>\n",
              "      <td id=\"T_6f9bc_row19_col0\" class=\"data row19 col0\" >CPU Jobs</td>\n",
              "      <td id=\"T_6f9bc_row19_col1\" class=\"data row19 col1\" >-1</td>\n",
              "    </tr>\n",
              "    <tr>\n",
              "      <th id=\"T_6f9bc_level0_row20\" class=\"row_heading level0 row20\" >20</th>\n",
              "      <td id=\"T_6f9bc_row20_col0\" class=\"data row20 col0\" >Use GPU</td>\n",
              "      <td id=\"T_6f9bc_row20_col1\" class=\"data row20 col1\" >False</td>\n",
              "    </tr>\n",
              "    <tr>\n",
              "      <th id=\"T_6f9bc_level0_row21\" class=\"row_heading level0 row21\" >21</th>\n",
              "      <td id=\"T_6f9bc_row21_col0\" class=\"data row21 col0\" >Log Experiment</td>\n",
              "      <td id=\"T_6f9bc_row21_col1\" class=\"data row21 col1\" >False</td>\n",
              "    </tr>\n",
              "    <tr>\n",
              "      <th id=\"T_6f9bc_level0_row22\" class=\"row_heading level0 row22\" >22</th>\n",
              "      <td id=\"T_6f9bc_row22_col0\" class=\"data row22 col0\" >Experiment Name</td>\n",
              "      <td id=\"T_6f9bc_row22_col1\" class=\"data row22 col1\" >clf-default-name</td>\n",
              "    </tr>\n",
              "    <tr>\n",
              "      <th id=\"T_6f9bc_level0_row23\" class=\"row_heading level0 row23\" >23</th>\n",
              "      <td id=\"T_6f9bc_row23_col0\" class=\"data row23 col0\" >USI</td>\n",
              "      <td id=\"T_6f9bc_row23_col1\" class=\"data row23 col1\" >ac0a</td>\n",
              "    </tr>\n",
              "  </tbody>\n",
              "</table>\n"
            ]
          },
          "metadata": {}
        }
      ]
    },
    {
      "cell_type": "code",
      "source": [
        "# Execução e comparação de modelos\n",
        "best = compare_models()"
      ],
      "metadata": {
        "colab": {
          "base_uri": "https://localhost:8080/",
          "height": 519,
          "referenced_widgets": [
            "1cbf57c1b6e34d83b48d21d99446e151",
            "1b02625d0c814f3d81266251cd2ad468",
            "e7c41b5894d24b8db033c32429809abd",
            "716da147e3b3417ca098d69cb060054d",
            "0bdd144e9cc14efab38d9273be4377cd",
            "6107a5dd21474f279415e16b6419cd24",
            "b1467dec919a4d64a6fc2ef10a0ee85b",
            "73283434f0a94d639d17a013f7a86d0b",
            "526ee867f3e34932a99569dfed19002e",
            "268d0cdb75004829ba29a192ce12a0b4",
            "5afab1953757440ba34b9a8623af86b8"
          ]
        },
        "id": "to42oSEwHDLm",
        "outputId": "5b80ae56-56cf-4a9a-b950-3f10cd3cad9e"
      },
      "execution_count": 6,
      "outputs": [
        {
          "output_type": "display_data",
          "data": {
            "text/plain": [
              "<IPython.core.display.HTML object>"
            ],
            "text/html": []
          },
          "metadata": {}
        },
        {
          "output_type": "display_data",
          "data": {
            "text/plain": [
              "<pandas.io.formats.style.Styler at 0x78aa650131f0>"
            ],
            "text/html": [
              "<style type=\"text/css\">\n",
              "#T_b478f th {\n",
              "  text-align: left;\n",
              "}\n",
              "#T_b478f_row0_col0, #T_b478f_row0_col4, #T_b478f_row1_col0, #T_b478f_row1_col1, #T_b478f_row1_col2, #T_b478f_row1_col3, #T_b478f_row1_col5, #T_b478f_row1_col6, #T_b478f_row1_col7, #T_b478f_row2_col0, #T_b478f_row2_col1, #T_b478f_row2_col2, #T_b478f_row2_col3, #T_b478f_row2_col4, #T_b478f_row2_col5, #T_b478f_row2_col6, #T_b478f_row2_col7, #T_b478f_row3_col0, #T_b478f_row3_col1, #T_b478f_row3_col2, #T_b478f_row3_col3, #T_b478f_row3_col4, #T_b478f_row3_col5, #T_b478f_row3_col6, #T_b478f_row3_col7, #T_b478f_row4_col0, #T_b478f_row4_col1, #T_b478f_row4_col2, #T_b478f_row4_col3, #T_b478f_row4_col4, #T_b478f_row4_col5, #T_b478f_row4_col6, #T_b478f_row4_col7, #T_b478f_row5_col0, #T_b478f_row5_col1, #T_b478f_row5_col2, #T_b478f_row5_col3, #T_b478f_row5_col4, #T_b478f_row5_col5, #T_b478f_row5_col6, #T_b478f_row5_col7, #T_b478f_row6_col0, #T_b478f_row6_col1, #T_b478f_row6_col2, #T_b478f_row6_col3, #T_b478f_row6_col4, #T_b478f_row6_col5, #T_b478f_row6_col6, #T_b478f_row6_col7, #T_b478f_row7_col0, #T_b478f_row7_col1, #T_b478f_row7_col2, #T_b478f_row7_col3, #T_b478f_row7_col4, #T_b478f_row7_col5, #T_b478f_row7_col6, #T_b478f_row7_col7, #T_b478f_row8_col0, #T_b478f_row8_col1, #T_b478f_row8_col2, #T_b478f_row8_col3, #T_b478f_row8_col4, #T_b478f_row8_col5, #T_b478f_row8_col6, #T_b478f_row8_col7, #T_b478f_row9_col0, #T_b478f_row9_col1, #T_b478f_row9_col2, #T_b478f_row9_col3, #T_b478f_row9_col4, #T_b478f_row9_col5, #T_b478f_row9_col6, #T_b478f_row9_col7, #T_b478f_row10_col0, #T_b478f_row10_col1, #T_b478f_row10_col2, #T_b478f_row10_col3, #T_b478f_row10_col4, #T_b478f_row10_col5, #T_b478f_row10_col6, #T_b478f_row10_col7, #T_b478f_row11_col0, #T_b478f_row11_col1, #T_b478f_row11_col2, #T_b478f_row11_col3, #T_b478f_row11_col4, #T_b478f_row11_col5, #T_b478f_row11_col6, #T_b478f_row11_col7, #T_b478f_row12_col0, #T_b478f_row12_col1, #T_b478f_row12_col2, #T_b478f_row12_col3, #T_b478f_row12_col4, #T_b478f_row12_col5, #T_b478f_row12_col6, #T_b478f_row12_col7, #T_b478f_row13_col0, #T_b478f_row13_col1, #T_b478f_row13_col2, #T_b478f_row13_col3, #T_b478f_row13_col4, #T_b478f_row13_col5, #T_b478f_row13_col6, #T_b478f_row13_col7, #T_b478f_row14_col0, #T_b478f_row14_col1, #T_b478f_row14_col2, #T_b478f_row14_col3, #T_b478f_row14_col4, #T_b478f_row14_col5, #T_b478f_row14_col6, #T_b478f_row14_col7 {\n",
              "  text-align: left;\n",
              "}\n",
              "#T_b478f_row0_col1, #T_b478f_row0_col2, #T_b478f_row0_col3, #T_b478f_row0_col5, #T_b478f_row0_col6, #T_b478f_row0_col7, #T_b478f_row1_col4 {\n",
              "  text-align: left;\n",
              "  background-color: yellow;\n",
              "}\n",
              "#T_b478f_row0_col8, #T_b478f_row2_col8, #T_b478f_row3_col8, #T_b478f_row4_col8, #T_b478f_row5_col8, #T_b478f_row6_col8, #T_b478f_row7_col8, #T_b478f_row8_col8, #T_b478f_row9_col8, #T_b478f_row10_col8, #T_b478f_row11_col8, #T_b478f_row12_col8, #T_b478f_row13_col8, #T_b478f_row14_col8 {\n",
              "  text-align: left;\n",
              "  background-color: lightgrey;\n",
              "}\n",
              "#T_b478f_row1_col8 {\n",
              "  text-align: left;\n",
              "  background-color: yellow;\n",
              "  background-color: lightgrey;\n",
              "}\n",
              "</style>\n",
              "<table id=\"T_b478f\" class=\"dataframe\">\n",
              "  <thead>\n",
              "    <tr>\n",
              "      <th class=\"blank level0\" >&nbsp;</th>\n",
              "      <th id=\"T_b478f_level0_col0\" class=\"col_heading level0 col0\" >Model</th>\n",
              "      <th id=\"T_b478f_level0_col1\" class=\"col_heading level0 col1\" >Accuracy</th>\n",
              "      <th id=\"T_b478f_level0_col2\" class=\"col_heading level0 col2\" >AUC</th>\n",
              "      <th id=\"T_b478f_level0_col3\" class=\"col_heading level0 col3\" >Recall</th>\n",
              "      <th id=\"T_b478f_level0_col4\" class=\"col_heading level0 col4\" >Prec.</th>\n",
              "      <th id=\"T_b478f_level0_col5\" class=\"col_heading level0 col5\" >F1</th>\n",
              "      <th id=\"T_b478f_level0_col6\" class=\"col_heading level0 col6\" >Kappa</th>\n",
              "      <th id=\"T_b478f_level0_col7\" class=\"col_heading level0 col7\" >MCC</th>\n",
              "      <th id=\"T_b478f_level0_col8\" class=\"col_heading level0 col8\" >TT (Sec)</th>\n",
              "    </tr>\n",
              "  </thead>\n",
              "  <tbody>\n",
              "    <tr>\n",
              "      <th id=\"T_b478f_level0_row0\" class=\"row_heading level0 row0\" >lr</th>\n",
              "      <td id=\"T_b478f_row0_col0\" class=\"data row0 col0\" >Logistic Regression</td>\n",
              "      <td id=\"T_b478f_row0_col1\" class=\"data row0 col1\" >0.8138</td>\n",
              "      <td id=\"T_b478f_row0_col2\" class=\"data row0 col2\" >0.8655</td>\n",
              "      <td id=\"T_b478f_row0_col3\" class=\"data row0 col3\" >0.6908</td>\n",
              "      <td id=\"T_b478f_row0_col4\" class=\"data row0 col4\" >0.8073</td>\n",
              "      <td id=\"T_b478f_row0_col5\" class=\"data row0 col5\" >0.7403</td>\n",
              "      <td id=\"T_b478f_row0_col6\" class=\"data row0 col6\" >0.5970</td>\n",
              "      <td id=\"T_b478f_row0_col7\" class=\"data row0 col7\" >0.6051</td>\n",
              "      <td id=\"T_b478f_row0_col8\" class=\"data row0 col8\" >0.9090</td>\n",
              "    </tr>\n",
              "    <tr>\n",
              "      <th id=\"T_b478f_level0_row1\" class=\"row_heading level0 row1\" >ridge</th>\n",
              "      <td id=\"T_b478f_row1_col0\" class=\"data row1 col0\" >Ridge Classifier</td>\n",
              "      <td id=\"T_b478f_row1_col1\" class=\"data row1 col1\" >0.7448</td>\n",
              "      <td id=\"T_b478f_row1_col2\" class=\"data row1 col2\" >0.0000</td>\n",
              "      <td id=\"T_b478f_row1_col3\" class=\"data row1 col3\" >0.4196</td>\n",
              "      <td id=\"T_b478f_row1_col4\" class=\"data row1 col4\" >0.8313</td>\n",
              "      <td id=\"T_b478f_row1_col5\" class=\"data row1 col5\" >0.5513</td>\n",
              "      <td id=\"T_b478f_row1_col6\" class=\"data row1 col6\" >0.4031</td>\n",
              "      <td id=\"T_b478f_row1_col7\" class=\"data row1 col7\" >0.4512</td>\n",
              "      <td id=\"T_b478f_row1_col8\" class=\"data row1 col8\" >0.1440</td>\n",
              "    </tr>\n",
              "    <tr>\n",
              "      <th id=\"T_b478f_level0_row2\" class=\"row_heading level0 row2\" >et</th>\n",
              "      <td id=\"T_b478f_row2_col0\" class=\"data row2 col0\" >Extra Trees Classifier</td>\n",
              "      <td id=\"T_b478f_row2_col1\" class=\"data row2 col1\" >0.7143</td>\n",
              "      <td id=\"T_b478f_row2_col2\" class=\"data row2 col2\" >0.7958</td>\n",
              "      <td id=\"T_b478f_row2_col3\" class=\"data row2 col3\" >0.3737</td>\n",
              "      <td id=\"T_b478f_row2_col4\" class=\"data row2 col4\" >0.7634</td>\n",
              "      <td id=\"T_b478f_row2_col5\" class=\"data row2 col5\" >0.4903</td>\n",
              "      <td id=\"T_b478f_row2_col6\" class=\"data row2 col6\" >0.3296</td>\n",
              "      <td id=\"T_b478f_row2_col7\" class=\"data row2 col7\" >0.3735</td>\n",
              "      <td id=\"T_b478f_row2_col8\" class=\"data row2 col8\" >0.2890</td>\n",
              "    </tr>\n",
              "    <tr>\n",
              "      <th id=\"T_b478f_level0_row3\" class=\"row_heading level0 row3\" >nb</th>\n",
              "      <td id=\"T_b478f_row3_col0\" class=\"data row3 col0\" >Naive Bayes</td>\n",
              "      <td id=\"T_b478f_row3_col1\" class=\"data row3 col1\" >0.6645</td>\n",
              "      <td id=\"T_b478f_row3_col2\" class=\"data row3 col2\" >0.7930</td>\n",
              "      <td id=\"T_b478f_row3_col3\" class=\"data row3 col3\" >0.1721</td>\n",
              "      <td id=\"T_b478f_row3_col4\" class=\"data row3 col4\" >0.7932</td>\n",
              "      <td id=\"T_b478f_row3_col5\" class=\"data row3 col5\" >0.2739</td>\n",
              "      <td id=\"T_b478f_row3_col6\" class=\"data row3 col6\" >0.1669</td>\n",
              "      <td id=\"T_b478f_row3_col7\" class=\"data row3 col7\" >0.2476</td>\n",
              "      <td id=\"T_b478f_row3_col8\" class=\"data row3 col8\" >0.2480</td>\n",
              "    </tr>\n",
              "    <tr>\n",
              "      <th id=\"T_b478f_level0_row4\" class=\"row_heading level0 row4\" >knn</th>\n",
              "      <td id=\"T_b478f_row4_col0\" class=\"data row4 col0\" >K Neighbors Classifier</td>\n",
              "      <td id=\"T_b478f_row4_col1\" class=\"data row4 col1\" >0.6438</td>\n",
              "      <td id=\"T_b478f_row4_col2\" class=\"data row4 col2\" >0.6246</td>\n",
              "      <td id=\"T_b478f_row4_col3\" class=\"data row4 col3\" >0.4190</td>\n",
              "      <td id=\"T_b478f_row4_col4\" class=\"data row4 col4\" >0.5570</td>\n",
              "      <td id=\"T_b478f_row4_col5\" class=\"data row4 col5\" >0.4704</td>\n",
              "      <td id=\"T_b478f_row4_col6\" class=\"data row4 col6\" >0.2125</td>\n",
              "      <td id=\"T_b478f_row4_col7\" class=\"data row4 col7\" >0.2214</td>\n",
              "      <td id=\"T_b478f_row4_col8\" class=\"data row4 col8\" >0.1650</td>\n",
              "    </tr>\n",
              "    <tr>\n",
              "      <th id=\"T_b478f_level0_row5\" class=\"row_heading level0 row5\" >lda</th>\n",
              "      <td id=\"T_b478f_row5_col0\" class=\"data row5 col0\" >Linear Discriminant Analysis</td>\n",
              "      <td id=\"T_b478f_row5_col1\" class=\"data row5 col1\" >0.6276</td>\n",
              "      <td id=\"T_b478f_row5_col2\" class=\"data row5 col2\" >0.5415</td>\n",
              "      <td id=\"T_b478f_row5_col3\" class=\"data row5 col3\" >0.0478</td>\n",
              "      <td id=\"T_b478f_row5_col4\" class=\"data row5 col4\" >0.0733</td>\n",
              "      <td id=\"T_b478f_row5_col5\" class=\"data row5 col5\" >0.0579</td>\n",
              "      <td id=\"T_b478f_row5_col6\" class=\"data row5 col6\" >0.0405</td>\n",
              "      <td id=\"T_b478f_row5_col7\" class=\"data row5 col7\" >0.0424</td>\n",
              "      <td id=\"T_b478f_row5_col8\" class=\"data row5 col8\" >0.1450</td>\n",
              "    </tr>\n",
              "    <tr>\n",
              "      <th id=\"T_b478f_level0_row6\" class=\"row_heading level0 row6\" >dt</th>\n",
              "      <td id=\"T_b478f_row6_col0\" class=\"data row6 col0\" >Decision Tree Classifier</td>\n",
              "      <td id=\"T_b478f_row6_col1\" class=\"data row6 col1\" >0.6164</td>\n",
              "      <td id=\"T_b478f_row6_col2\" class=\"data row6 col2\" >0.5000</td>\n",
              "      <td id=\"T_b478f_row6_col3\" class=\"data row6 col3\" >0.0000</td>\n",
              "      <td id=\"T_b478f_row6_col4\" class=\"data row6 col4\" >0.0000</td>\n",
              "      <td id=\"T_b478f_row6_col5\" class=\"data row6 col5\" >0.0000</td>\n",
              "      <td id=\"T_b478f_row6_col6\" class=\"data row6 col6\" >0.0000</td>\n",
              "      <td id=\"T_b478f_row6_col7\" class=\"data row6 col7\" >0.0000</td>\n",
              "      <td id=\"T_b478f_row6_col8\" class=\"data row6 col8\" >0.1950</td>\n",
              "    </tr>\n",
              "    <tr>\n",
              "      <th id=\"T_b478f_level0_row7\" class=\"row_heading level0 row7\" >rf</th>\n",
              "      <td id=\"T_b478f_row7_col0\" class=\"data row7 col0\" >Random Forest Classifier</td>\n",
              "      <td id=\"T_b478f_row7_col1\" class=\"data row7 col1\" >0.6164</td>\n",
              "      <td id=\"T_b478f_row7_col2\" class=\"data row7 col2\" >0.8066</td>\n",
              "      <td id=\"T_b478f_row7_col3\" class=\"data row7 col3\" >0.0087</td>\n",
              "      <td id=\"T_b478f_row7_col4\" class=\"data row7 col4\" >0.0500</td>\n",
              "      <td id=\"T_b478f_row7_col5\" class=\"data row7 col5\" >0.0148</td>\n",
              "      <td id=\"T_b478f_row7_col6\" class=\"data row7 col6\" >0.0043</td>\n",
              "      <td id=\"T_b478f_row7_col7\" class=\"data row7 col7\" >0.0070</td>\n",
              "      <td id=\"T_b478f_row7_col8\" class=\"data row7 col8\" >0.3380</td>\n",
              "    </tr>\n",
              "    <tr>\n",
              "      <th id=\"T_b478f_level0_row8\" class=\"row_heading level0 row8\" >qda</th>\n",
              "      <td id=\"T_b478f_row8_col0\" class=\"data row8 col0\" >Quadratic Discriminant Analysis</td>\n",
              "      <td id=\"T_b478f_row8_col1\" class=\"data row8 col1\" >0.6164</td>\n",
              "      <td id=\"T_b478f_row8_col2\" class=\"data row8 col2\" >0.5000</td>\n",
              "      <td id=\"T_b478f_row8_col3\" class=\"data row8 col3\" >0.0000</td>\n",
              "      <td id=\"T_b478f_row8_col4\" class=\"data row8 col4\" >0.0000</td>\n",
              "      <td id=\"T_b478f_row8_col5\" class=\"data row8 col5\" >0.0000</td>\n",
              "      <td id=\"T_b478f_row8_col6\" class=\"data row8 col6\" >0.0000</td>\n",
              "      <td id=\"T_b478f_row8_col7\" class=\"data row8 col7\" >0.0000</td>\n",
              "      <td id=\"T_b478f_row8_col8\" class=\"data row8 col8\" >0.1460</td>\n",
              "    </tr>\n",
              "    <tr>\n",
              "      <th id=\"T_b478f_level0_row9\" class=\"row_heading level0 row9\" >ada</th>\n",
              "      <td id=\"T_b478f_row9_col0\" class=\"data row9 col0\" >Ada Boost Classifier</td>\n",
              "      <td id=\"T_b478f_row9_col1\" class=\"data row9 col1\" >0.6164</td>\n",
              "      <td id=\"T_b478f_row9_col2\" class=\"data row9 col2\" >0.5000</td>\n",
              "      <td id=\"T_b478f_row9_col3\" class=\"data row9 col3\" >0.0000</td>\n",
              "      <td id=\"T_b478f_row9_col4\" class=\"data row9 col4\" >0.0000</td>\n",
              "      <td id=\"T_b478f_row9_col5\" class=\"data row9 col5\" >0.0000</td>\n",
              "      <td id=\"T_b478f_row9_col6\" class=\"data row9 col6\" >0.0000</td>\n",
              "      <td id=\"T_b478f_row9_col7\" class=\"data row9 col7\" >0.0000</td>\n",
              "      <td id=\"T_b478f_row9_col8\" class=\"data row9 col8\" >0.2320</td>\n",
              "    </tr>\n",
              "    <tr>\n",
              "      <th id=\"T_b478f_level0_row10\" class=\"row_heading level0 row10\" >gbc</th>\n",
              "      <td id=\"T_b478f_row10_col0\" class=\"data row10 col0\" >Gradient Boosting Classifier</td>\n",
              "      <td id=\"T_b478f_row10_col1\" class=\"data row10 col1\" >0.6164</td>\n",
              "      <td id=\"T_b478f_row10_col2\" class=\"data row10 col2\" >0.5000</td>\n",
              "      <td id=\"T_b478f_row10_col3\" class=\"data row10 col3\" >0.0000</td>\n",
              "      <td id=\"T_b478f_row10_col4\" class=\"data row10 col4\" >0.0000</td>\n",
              "      <td id=\"T_b478f_row10_col5\" class=\"data row10 col5\" >0.0000</td>\n",
              "      <td id=\"T_b478f_row10_col6\" class=\"data row10 col6\" >0.0000</td>\n",
              "      <td id=\"T_b478f_row10_col7\" class=\"data row10 col7\" >0.0000</td>\n",
              "      <td id=\"T_b478f_row10_col8\" class=\"data row10 col8\" >0.3040</td>\n",
              "    </tr>\n",
              "    <tr>\n",
              "      <th id=\"T_b478f_level0_row11\" class=\"row_heading level0 row11\" >xgboost</th>\n",
              "      <td id=\"T_b478f_row11_col0\" class=\"data row11 col0\" >Extreme Gradient Boosting</td>\n",
              "      <td id=\"T_b478f_row11_col1\" class=\"data row11 col1\" >0.6164</td>\n",
              "      <td id=\"T_b478f_row11_col2\" class=\"data row11 col2\" >0.5000</td>\n",
              "      <td id=\"T_b478f_row11_col3\" class=\"data row11 col3\" >0.0000</td>\n",
              "      <td id=\"T_b478f_row11_col4\" class=\"data row11 col4\" >0.0000</td>\n",
              "      <td id=\"T_b478f_row11_col5\" class=\"data row11 col5\" >0.0000</td>\n",
              "      <td id=\"T_b478f_row11_col6\" class=\"data row11 col6\" >0.0000</td>\n",
              "      <td id=\"T_b478f_row11_col7\" class=\"data row11 col7\" >0.0000</td>\n",
              "      <td id=\"T_b478f_row11_col8\" class=\"data row11 col8\" >0.1710</td>\n",
              "    </tr>\n",
              "    <tr>\n",
              "      <th id=\"T_b478f_level0_row12\" class=\"row_heading level0 row12\" >lightgbm</th>\n",
              "      <td id=\"T_b478f_row12_col0\" class=\"data row12 col0\" >Light Gradient Boosting Machine</td>\n",
              "      <td id=\"T_b478f_row12_col1\" class=\"data row12 col1\" >0.6164</td>\n",
              "      <td id=\"T_b478f_row12_col2\" class=\"data row12 col2\" >0.5260</td>\n",
              "      <td id=\"T_b478f_row12_col3\" class=\"data row12 col3\" >0.0000</td>\n",
              "      <td id=\"T_b478f_row12_col4\" class=\"data row12 col4\" >0.0000</td>\n",
              "      <td id=\"T_b478f_row12_col5\" class=\"data row12 col5\" >0.0000</td>\n",
              "      <td id=\"T_b478f_row12_col6\" class=\"data row12 col6\" >0.0000</td>\n",
              "      <td id=\"T_b478f_row12_col7\" class=\"data row12 col7\" >0.0000</td>\n",
              "      <td id=\"T_b478f_row12_col8\" class=\"data row12 col8\" >0.2470</td>\n",
              "    </tr>\n",
              "    <tr>\n",
              "      <th id=\"T_b478f_level0_row13\" class=\"row_heading level0 row13\" >dummy</th>\n",
              "      <td id=\"T_b478f_row13_col0\" class=\"data row13 col0\" >Dummy Classifier</td>\n",
              "      <td id=\"T_b478f_row13_col1\" class=\"data row13 col1\" >0.6164</td>\n",
              "      <td id=\"T_b478f_row13_col2\" class=\"data row13 col2\" >0.5000</td>\n",
              "      <td id=\"T_b478f_row13_col3\" class=\"data row13 col3\" >0.0000</td>\n",
              "      <td id=\"T_b478f_row13_col4\" class=\"data row13 col4\" >0.0000</td>\n",
              "      <td id=\"T_b478f_row13_col5\" class=\"data row13 col5\" >0.0000</td>\n",
              "      <td id=\"T_b478f_row13_col6\" class=\"data row13 col6\" >0.0000</td>\n",
              "      <td id=\"T_b478f_row13_col7\" class=\"data row13 col7\" >0.0000</td>\n",
              "      <td id=\"T_b478f_row13_col8\" class=\"data row13 col8\" >0.2310</td>\n",
              "    </tr>\n",
              "    <tr>\n",
              "      <th id=\"T_b478f_level0_row14\" class=\"row_heading level0 row14\" >svm</th>\n",
              "      <td id=\"T_b478f_row14_col0\" class=\"data row14 col0\" >SVM - Linear Kernel</td>\n",
              "      <td id=\"T_b478f_row14_col1\" class=\"data row14 col1\" >0.5652</td>\n",
              "      <td id=\"T_b478f_row14_col2\" class=\"data row14 col2\" >0.0000</td>\n",
              "      <td id=\"T_b478f_row14_col3\" class=\"data row14 col3\" >0.4130</td>\n",
              "      <td id=\"T_b478f_row14_col4\" class=\"data row14 col4\" >0.4306</td>\n",
              "      <td id=\"T_b478f_row14_col5\" class=\"data row14 col5\" >0.3182</td>\n",
              "      <td id=\"T_b478f_row14_col6\" class=\"data row14 col6\" >0.0736</td>\n",
              "      <td id=\"T_b478f_row14_col7\" class=\"data row14 col7\" >0.1087</td>\n",
              "      <td id=\"T_b478f_row14_col8\" class=\"data row14 col8\" >0.1560</td>\n",
              "    </tr>\n",
              "  </tbody>\n",
              "</table>\n"
            ]
          },
          "metadata": {}
        },
        {
          "output_type": "display_data",
          "data": {
            "text/plain": [
              "Processing:   0%|          | 0/65 [00:00<?, ?it/s]"
            ],
            "application/vnd.jupyter.widget-view+json": {
              "version_major": 2,
              "version_minor": 0,
              "model_id": "1cbf57c1b6e34d83b48d21d99446e151"
            }
          },
          "metadata": {
            "application/vnd.jupyter.widget-view+json": {
              "colab": {
                "custom_widget_manager": {
                  "url": "https://ssl.gstatic.com/colaboratory-static/widgets/colab-cdn-widget-manager/b3e629b1971e1542/manager.min.js"
                }
              }
            }
          }
        },
        {
          "output_type": "display_data",
          "data": {
            "text/plain": [
              "<IPython.core.display.HTML object>"
            ],
            "text/html": []
          },
          "metadata": {}
        }
      ]
    },
    {
      "cell_type": "code",
      "source": [
        "# Detalhamento do melhor modelo\n",
        "print(best)"
      ],
      "metadata": {
        "colab": {
          "base_uri": "https://localhost:8080/"
        },
        "id": "8JhVGZ_QIPRY",
        "outputId": "5abfe7a1-4d5f-42e3-8b73-10f6782178fe"
      },
      "execution_count": 7,
      "outputs": [
        {
          "output_type": "stream",
          "name": "stdout",
          "text": [
            "LogisticRegression(C=1.0, class_weight=None, dual=False, fit_intercept=True,\n",
            "                   intercept_scaling=1, l1_ratio=None, max_iter=1000,\n",
            "                   multi_class='auto', n_jobs=None, penalty='l2',\n",
            "                   random_state=962, solver='lbfgs', tol=0.0001, verbose=0,\n",
            "                   warm_start=False)\n"
          ]
        }
      ]
    },
    {
      "cell_type": "code",
      "source": [
        "# Análise do melhor modelo\n",
        "evaluate_model(best)"
      ],
      "metadata": {
        "colab": {
          "base_uri": "https://localhost:8080/",
          "height": 597,
          "referenced_widgets": [
            "65f3e4eaccce491cba3d1dbb93180d49",
            "bbfa938cc1e9408d90409c0eb342b407",
            "29ed8fc42c894c11b52d2887f2e60e2f",
            "9b774fd5481d4525a923123d105379ad",
            "e7ec86d6c6bf4e07bab78581dfde1a35",
            "19bdae872be146dd973d60a09481b031",
            "57ba63678769491d922dd96e172baecf"
          ]
        },
        "id": "mzDMUi3DIhT_",
        "outputId": "d69e5435-99ab-4acc-84b6-b7a2c9ec38e5"
      },
      "execution_count": 8,
      "outputs": [
        {
          "output_type": "display_data",
          "data": {
            "text/plain": [
              "interactive(children=(ToggleButtons(description='Plot Type:', icons=('',), options=(('Pipeline Plot', 'pipelin…"
            ],
            "application/vnd.jupyter.widget-view+json": {
              "version_major": 2,
              "version_minor": 0,
              "model_id": "65f3e4eaccce491cba3d1dbb93180d49"
            }
          },
          "metadata": {
            "application/vnd.jupyter.widget-view+json": {
              "colab": {
                "custom_widget_manager": {
                  "url": "https://ssl.gstatic.com/colaboratory-static/widgets/colab-cdn-widget-manager/b3e629b1971e1542/manager.min.js"
                }
              }
            }
          }
        }
      ]
    }
  ]
}