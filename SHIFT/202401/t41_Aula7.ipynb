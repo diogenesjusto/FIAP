{
  "nbformat": 4,
  "nbformat_minor": 0,
  "metadata": {
    "colab": {
      "provenance": [],
      "authorship_tag": "ABX9TyNyn4U3cxB9t2jMA00oef5e",
      "include_colab_link": true
    },
    "kernelspec": {
      "name": "python3",
      "display_name": "Python 3"
    },
    "language_info": {
      "name": "python"
    },
    "widgets": {
      "application/vnd.jupyter.widget-state+json": {
        "ff9ee9e6814d4b909c4da55fc0e0714d": {
          "model_module": "@jupyter-widgets/controls",
          "model_name": "HBoxModel",
          "model_module_version": "1.5.0",
          "state": {
            "_dom_classes": [],
            "_model_module": "@jupyter-widgets/controls",
            "_model_module_version": "1.5.0",
            "_model_name": "HBoxModel",
            "_view_count": null,
            "_view_module": "@jupyter-widgets/controls",
            "_view_module_version": "1.5.0",
            "_view_name": "HBoxView",
            "box_style": "",
            "children": [
              "IPY_MODEL_7104c499f4784fb78f3a133f5bc53ba8",
              "IPY_MODEL_71a9974722ec479f85eddf79443f5144",
              "IPY_MODEL_d473d8ff47d74bd38728a216d3918010"
            ],
            "layout": "IPY_MODEL_d3b324e527ba428eb08b632f029a7efa"
          }
        },
        "7104c499f4784fb78f3a133f5bc53ba8": {
          "model_module": "@jupyter-widgets/controls",
          "model_name": "HTMLModel",
          "model_module_version": "1.5.0",
          "state": {
            "_dom_classes": [],
            "_model_module": "@jupyter-widgets/controls",
            "_model_module_version": "1.5.0",
            "_model_name": "HTMLModel",
            "_view_count": null,
            "_view_module": "@jupyter-widgets/controls",
            "_view_module_version": "1.5.0",
            "_view_name": "HTMLView",
            "description": "",
            "description_tooltip": null,
            "layout": "IPY_MODEL_427b74b409874da9b66efc0bf464db03",
            "placeholder": "​",
            "style": "IPY_MODEL_b3253b3decde46cdafce6bbfb7a32c3b",
            "value": "Processing: 100%"
          }
        },
        "71a9974722ec479f85eddf79443f5144": {
          "model_module": "@jupyter-widgets/controls",
          "model_name": "FloatProgressModel",
          "model_module_version": "1.5.0",
          "state": {
            "_dom_classes": [],
            "_model_module": "@jupyter-widgets/controls",
            "_model_module_version": "1.5.0",
            "_model_name": "FloatProgressModel",
            "_view_count": null,
            "_view_module": "@jupyter-widgets/controls",
            "_view_module_version": "1.5.0",
            "_view_name": "ProgressView",
            "bar_style": "",
            "description": "",
            "description_tooltip": null,
            "layout": "IPY_MODEL_38bd5b576d2340ceb81775f083cd17d0",
            "max": 65,
            "min": 0,
            "orientation": "horizontal",
            "style": "IPY_MODEL_e26164f83d304206903bdee864ee73c9",
            "value": 65
          }
        },
        "d473d8ff47d74bd38728a216d3918010": {
          "model_module": "@jupyter-widgets/controls",
          "model_name": "HTMLModel",
          "model_module_version": "1.5.0",
          "state": {
            "_dom_classes": [],
            "_model_module": "@jupyter-widgets/controls",
            "_model_module_version": "1.5.0",
            "_model_name": "HTMLModel",
            "_view_count": null,
            "_view_module": "@jupyter-widgets/controls",
            "_view_module_version": "1.5.0",
            "_view_name": "HTMLView",
            "description": "",
            "description_tooltip": null,
            "layout": "IPY_MODEL_0e5bfbd0b80c4f3ba42877d279de79ab",
            "placeholder": "​",
            "style": "IPY_MODEL_c70a0952ab1d487196cb15fd055a4577",
            "value": " 65/65 [00:45&lt;00:00,  1.89it/s]"
          }
        },
        "d3b324e527ba428eb08b632f029a7efa": {
          "model_module": "@jupyter-widgets/base",
          "model_name": "LayoutModel",
          "model_module_version": "1.2.0",
          "state": {
            "_model_module": "@jupyter-widgets/base",
            "_model_module_version": "1.2.0",
            "_model_name": "LayoutModel",
            "_view_count": null,
            "_view_module": "@jupyter-widgets/base",
            "_view_module_version": "1.2.0",
            "_view_name": "LayoutView",
            "align_content": null,
            "align_items": null,
            "align_self": null,
            "border": null,
            "bottom": null,
            "display": null,
            "flex": null,
            "flex_flow": null,
            "grid_area": null,
            "grid_auto_columns": null,
            "grid_auto_flow": null,
            "grid_auto_rows": null,
            "grid_column": null,
            "grid_gap": null,
            "grid_row": null,
            "grid_template_areas": null,
            "grid_template_columns": null,
            "grid_template_rows": null,
            "height": null,
            "justify_content": null,
            "justify_items": null,
            "left": null,
            "margin": null,
            "max_height": null,
            "max_width": null,
            "min_height": null,
            "min_width": null,
            "object_fit": null,
            "object_position": null,
            "order": null,
            "overflow": null,
            "overflow_x": null,
            "overflow_y": null,
            "padding": null,
            "right": null,
            "top": null,
            "visibility": "hidden",
            "width": null
          }
        },
        "427b74b409874da9b66efc0bf464db03": {
          "model_module": "@jupyter-widgets/base",
          "model_name": "LayoutModel",
          "model_module_version": "1.2.0",
          "state": {
            "_model_module": "@jupyter-widgets/base",
            "_model_module_version": "1.2.0",
            "_model_name": "LayoutModel",
            "_view_count": null,
            "_view_module": "@jupyter-widgets/base",
            "_view_module_version": "1.2.0",
            "_view_name": "LayoutView",
            "align_content": null,
            "align_items": null,
            "align_self": null,
            "border": null,
            "bottom": null,
            "display": null,
            "flex": null,
            "flex_flow": null,
            "grid_area": null,
            "grid_auto_columns": null,
            "grid_auto_flow": null,
            "grid_auto_rows": null,
            "grid_column": null,
            "grid_gap": null,
            "grid_row": null,
            "grid_template_areas": null,
            "grid_template_columns": null,
            "grid_template_rows": null,
            "height": null,
            "justify_content": null,
            "justify_items": null,
            "left": null,
            "margin": null,
            "max_height": null,
            "max_width": null,
            "min_height": null,
            "min_width": null,
            "object_fit": null,
            "object_position": null,
            "order": null,
            "overflow": null,
            "overflow_x": null,
            "overflow_y": null,
            "padding": null,
            "right": null,
            "top": null,
            "visibility": null,
            "width": null
          }
        },
        "b3253b3decde46cdafce6bbfb7a32c3b": {
          "model_module": "@jupyter-widgets/controls",
          "model_name": "DescriptionStyleModel",
          "model_module_version": "1.5.0",
          "state": {
            "_model_module": "@jupyter-widgets/controls",
            "_model_module_version": "1.5.0",
            "_model_name": "DescriptionStyleModel",
            "_view_count": null,
            "_view_module": "@jupyter-widgets/base",
            "_view_module_version": "1.2.0",
            "_view_name": "StyleView",
            "description_width": ""
          }
        },
        "38bd5b576d2340ceb81775f083cd17d0": {
          "model_module": "@jupyter-widgets/base",
          "model_name": "LayoutModel",
          "model_module_version": "1.2.0",
          "state": {
            "_model_module": "@jupyter-widgets/base",
            "_model_module_version": "1.2.0",
            "_model_name": "LayoutModel",
            "_view_count": null,
            "_view_module": "@jupyter-widgets/base",
            "_view_module_version": "1.2.0",
            "_view_name": "LayoutView",
            "align_content": null,
            "align_items": null,
            "align_self": null,
            "border": null,
            "bottom": null,
            "display": null,
            "flex": null,
            "flex_flow": null,
            "grid_area": null,
            "grid_auto_columns": null,
            "grid_auto_flow": null,
            "grid_auto_rows": null,
            "grid_column": null,
            "grid_gap": null,
            "grid_row": null,
            "grid_template_areas": null,
            "grid_template_columns": null,
            "grid_template_rows": null,
            "height": null,
            "justify_content": null,
            "justify_items": null,
            "left": null,
            "margin": null,
            "max_height": null,
            "max_width": null,
            "min_height": null,
            "min_width": null,
            "object_fit": null,
            "object_position": null,
            "order": null,
            "overflow": null,
            "overflow_x": null,
            "overflow_y": null,
            "padding": null,
            "right": null,
            "top": null,
            "visibility": null,
            "width": null
          }
        },
        "e26164f83d304206903bdee864ee73c9": {
          "model_module": "@jupyter-widgets/controls",
          "model_name": "ProgressStyleModel",
          "model_module_version": "1.5.0",
          "state": {
            "_model_module": "@jupyter-widgets/controls",
            "_model_module_version": "1.5.0",
            "_model_name": "ProgressStyleModel",
            "_view_count": null,
            "_view_module": "@jupyter-widgets/base",
            "_view_module_version": "1.2.0",
            "_view_name": "StyleView",
            "bar_color": null,
            "description_width": ""
          }
        },
        "0e5bfbd0b80c4f3ba42877d279de79ab": {
          "model_module": "@jupyter-widgets/base",
          "model_name": "LayoutModel",
          "model_module_version": "1.2.0",
          "state": {
            "_model_module": "@jupyter-widgets/base",
            "_model_module_version": "1.2.0",
            "_model_name": "LayoutModel",
            "_view_count": null,
            "_view_module": "@jupyter-widgets/base",
            "_view_module_version": "1.2.0",
            "_view_name": "LayoutView",
            "align_content": null,
            "align_items": null,
            "align_self": null,
            "border": null,
            "bottom": null,
            "display": null,
            "flex": null,
            "flex_flow": null,
            "grid_area": null,
            "grid_auto_columns": null,
            "grid_auto_flow": null,
            "grid_auto_rows": null,
            "grid_column": null,
            "grid_gap": null,
            "grid_row": null,
            "grid_template_areas": null,
            "grid_template_columns": null,
            "grid_template_rows": null,
            "height": null,
            "justify_content": null,
            "justify_items": null,
            "left": null,
            "margin": null,
            "max_height": null,
            "max_width": null,
            "min_height": null,
            "min_width": null,
            "object_fit": null,
            "object_position": null,
            "order": null,
            "overflow": null,
            "overflow_x": null,
            "overflow_y": null,
            "padding": null,
            "right": null,
            "top": null,
            "visibility": null,
            "width": null
          }
        },
        "c70a0952ab1d487196cb15fd055a4577": {
          "model_module": "@jupyter-widgets/controls",
          "model_name": "DescriptionStyleModel",
          "model_module_version": "1.5.0",
          "state": {
            "_model_module": "@jupyter-widgets/controls",
            "_model_module_version": "1.5.0",
            "_model_name": "DescriptionStyleModel",
            "_view_count": null,
            "_view_module": "@jupyter-widgets/base",
            "_view_module_version": "1.2.0",
            "_view_name": "StyleView",
            "description_width": ""
          }
        },
        "dfaca915191c43bca25da055214d0410": {
          "model_module": "@jupyter-widgets/controls",
          "model_name": "VBoxModel",
          "model_module_version": "1.5.0",
          "state": {
            "_dom_classes": [
              "widget-interact"
            ],
            "_model_module": "@jupyter-widgets/controls",
            "_model_module_version": "1.5.0",
            "_model_name": "VBoxModel",
            "_view_count": null,
            "_view_module": "@jupyter-widgets/controls",
            "_view_module_version": "1.5.0",
            "_view_name": "VBoxView",
            "box_style": "",
            "children": [
              "IPY_MODEL_c777cfa916dd4d35ac7004883bd5e0df",
              "IPY_MODEL_893e446cb1b840d5a078679373dc7aa3"
            ],
            "layout": "IPY_MODEL_9c1cb25126c040c5a3310f7d9393e422"
          }
        },
        "c777cfa916dd4d35ac7004883bd5e0df": {
          "model_module": "@jupyter-widgets/controls",
          "model_name": "ToggleButtonsModel",
          "model_module_version": "1.5.0",
          "state": {
            "_dom_classes": [],
            "_model_module": "@jupyter-widgets/controls",
            "_model_module_version": "1.5.0",
            "_model_name": "ToggleButtonsModel",
            "_options_labels": [
              "Pipeline Plot",
              "Hyperparameters",
              "AUC",
              "Confusion Matrix",
              "Threshold",
              "Precision Recall",
              "Prediction Error",
              "Class Report",
              "Feature Selection",
              "Learning Curve",
              "Manifold Learning",
              "Calibration Curve",
              "Validation Curve",
              "Dimensions",
              "Feature Importance",
              "Feature Importance (All)",
              "Decision Boundary",
              "Lift Chart",
              "Gain Chart",
              "Decision Tree",
              "KS Statistic Plot"
            ],
            "_view_count": null,
            "_view_module": "@jupyter-widgets/controls",
            "_view_module_version": "1.5.0",
            "_view_name": "ToggleButtonsView",
            "button_style": "",
            "description": "Plot Type:",
            "description_tooltip": null,
            "disabled": false,
            "icons": [
              ""
            ],
            "index": 14,
            "layout": "IPY_MODEL_74d9bdf6cab24309b857b0dc5731695d",
            "style": "IPY_MODEL_f0a4317e2f5043ec978115ee09ef5841",
            "tooltips": []
          }
        },
        "893e446cb1b840d5a078679373dc7aa3": {
          "model_module": "@jupyter-widgets/output",
          "model_name": "OutputModel",
          "model_module_version": "1.0.0",
          "state": {
            "_dom_classes": [],
            "_model_module": "@jupyter-widgets/output",
            "_model_module_version": "1.0.0",
            "_model_name": "OutputModel",
            "_view_count": null,
            "_view_module": "@jupyter-widgets/output",
            "_view_module_version": "1.0.0",
            "_view_name": "OutputView",
            "layout": "IPY_MODEL_be5e878a33a146e2b9324b0c82d9d4da",
            "msg_id": "",
            "outputs": [
              {
                "output_type": "display_data",
                "data": {
                  "text/plain": "<Figure size 800x500 with 1 Axes>",
                  "image/png": "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\n"
                },
                "metadata": {}
              }
            ]
          }
        },
        "9c1cb25126c040c5a3310f7d9393e422": {
          "model_module": "@jupyter-widgets/base",
          "model_name": "LayoutModel",
          "model_module_version": "1.2.0",
          "state": {
            "_model_module": "@jupyter-widgets/base",
            "_model_module_version": "1.2.0",
            "_model_name": "LayoutModel",
            "_view_count": null,
            "_view_module": "@jupyter-widgets/base",
            "_view_module_version": "1.2.0",
            "_view_name": "LayoutView",
            "align_content": null,
            "align_items": null,
            "align_self": null,
            "border": null,
            "bottom": null,
            "display": null,
            "flex": null,
            "flex_flow": null,
            "grid_area": null,
            "grid_auto_columns": null,
            "grid_auto_flow": null,
            "grid_auto_rows": null,
            "grid_column": null,
            "grid_gap": null,
            "grid_row": null,
            "grid_template_areas": null,
            "grid_template_columns": null,
            "grid_template_rows": null,
            "height": null,
            "justify_content": null,
            "justify_items": null,
            "left": null,
            "margin": null,
            "max_height": null,
            "max_width": null,
            "min_height": null,
            "min_width": null,
            "object_fit": null,
            "object_position": null,
            "order": null,
            "overflow": null,
            "overflow_x": null,
            "overflow_y": null,
            "padding": null,
            "right": null,
            "top": null,
            "visibility": null,
            "width": null
          }
        },
        "74d9bdf6cab24309b857b0dc5731695d": {
          "model_module": "@jupyter-widgets/base",
          "model_name": "LayoutModel",
          "model_module_version": "1.2.0",
          "state": {
            "_model_module": "@jupyter-widgets/base",
            "_model_module_version": "1.2.0",
            "_model_name": "LayoutModel",
            "_view_count": null,
            "_view_module": "@jupyter-widgets/base",
            "_view_module_version": "1.2.0",
            "_view_name": "LayoutView",
            "align_content": null,
            "align_items": null,
            "align_self": null,
            "border": null,
            "bottom": null,
            "display": null,
            "flex": null,
            "flex_flow": null,
            "grid_area": null,
            "grid_auto_columns": null,
            "grid_auto_flow": null,
            "grid_auto_rows": null,
            "grid_column": null,
            "grid_gap": null,
            "grid_row": null,
            "grid_template_areas": null,
            "grid_template_columns": null,
            "grid_template_rows": null,
            "height": null,
            "justify_content": null,
            "justify_items": null,
            "left": null,
            "margin": null,
            "max_height": null,
            "max_width": null,
            "min_height": null,
            "min_width": null,
            "object_fit": null,
            "object_position": null,
            "order": null,
            "overflow": null,
            "overflow_x": null,
            "overflow_y": null,
            "padding": null,
            "right": null,
            "top": null,
            "visibility": null,
            "width": null
          }
        },
        "f0a4317e2f5043ec978115ee09ef5841": {
          "model_module": "@jupyter-widgets/controls",
          "model_name": "ToggleButtonsStyleModel",
          "model_module_version": "1.5.0",
          "state": {
            "_model_module": "@jupyter-widgets/controls",
            "_model_module_version": "1.5.0",
            "_model_name": "ToggleButtonsStyleModel",
            "_view_count": null,
            "_view_module": "@jupyter-widgets/base",
            "_view_module_version": "1.2.0",
            "_view_name": "StyleView",
            "button_width": "",
            "description_width": "",
            "font_weight": ""
          }
        },
        "be5e878a33a146e2b9324b0c82d9d4da": {
          "model_module": "@jupyter-widgets/base",
          "model_name": "LayoutModel",
          "model_module_version": "1.2.0",
          "state": {
            "_model_module": "@jupyter-widgets/base",
            "_model_module_version": "1.2.0",
            "_model_name": "LayoutModel",
            "_view_count": null,
            "_view_module": "@jupyter-widgets/base",
            "_view_module_version": "1.2.0",
            "_view_name": "LayoutView",
            "align_content": null,
            "align_items": null,
            "align_self": null,
            "border": null,
            "bottom": null,
            "display": null,
            "flex": null,
            "flex_flow": null,
            "grid_area": null,
            "grid_auto_columns": null,
            "grid_auto_flow": null,
            "grid_auto_rows": null,
            "grid_column": null,
            "grid_gap": null,
            "grid_row": null,
            "grid_template_areas": null,
            "grid_template_columns": null,
            "grid_template_rows": null,
            "height": null,
            "justify_content": null,
            "justify_items": null,
            "left": null,
            "margin": null,
            "max_height": null,
            "max_width": null,
            "min_height": null,
            "min_width": null,
            "object_fit": null,
            "object_position": null,
            "order": null,
            "overflow": null,
            "overflow_x": null,
            "overflow_y": null,
            "padding": null,
            "right": null,
            "top": null,
            "visibility": null,
            "width": null
          }
        }
      }
    }
  },
  "cells": [
    {
      "cell_type": "markdown",
      "metadata": {
        "id": "view-in-github",
        "colab_type": "text"
      },
      "source": [
        "<a href=\"https://colab.research.google.com/github/diogenesjusto/FIAP/blob/master/SHIFT/202401/t41_Aula7.ipynb\" target=\"_parent\"><img src=\"https://colab.research.google.com/assets/colab-badge.svg\" alt=\"Open In Colab\"/></a>"
      ]
    },
    {
      "cell_type": "markdown",
      "source": [
        "### Aprendizagem Não Supervisionada\n",
        "Aula 7 - 1a Parte - Clusterização - K-Means"
      ],
      "metadata": {
        "id": "OCnpfqbxcKyd"
      }
    },
    {
      "cell_type": "code",
      "execution_count": 31,
      "metadata": {
        "id": "stl58enoH-4E"
      },
      "outputs": [],
      "source": [
        "# Carga de bibliotecas\n",
        "import pandas as pd\n",
        "from sklearn.cluster import KMeans\n",
        "from sklearn.preprocessing import MinMaxScaler"
      ]
    },
    {
      "cell_type": "code",
      "source": [
        "df = pd.read_csv(\"https://raw.githubusercontent.com/diogenesjusto/FIAP-On-Line-Graduation/main/datasets/%20mtcars.csv\")"
      ],
      "metadata": {
        "id": "VPAqL1U1IOsV"
      },
      "execution_count": 2,
      "outputs": []
    },
    {
      "cell_type": "code",
      "source": [
        "df.plot.scatter(x=\"wt\", y=\"mpg\")"
      ],
      "metadata": {
        "colab": {
          "base_uri": "https://localhost:8080/",
          "height": 471
        },
        "id": "rJdprsbcIcxF",
        "outputId": "85ef459e-0bb1-4d76-f59c-949c848b4984"
      },
      "execution_count": 3,
      "outputs": [
        {
          "output_type": "execute_result",
          "data": {
            "text/plain": [
              "<Axes: xlabel='wt', ylabel='mpg'>"
            ]
          },
          "metadata": {},
          "execution_count": 3
        },
        {
          "output_type": "display_data",
          "data": {
            "text/plain": [
              "<Figure size 640x480 with 1 Axes>"
            ],
            "image/png": "[encoded data removed]"
          },
          "metadata": {}
        }
      ]
    },
    {
      "cell_type": "code",
      "source": [
        "# Tratamento de dados - normalização/ajuste de escala min-max\n",
        "scaler = MinMaxScaler(feature_range=(0,1))\n",
        "df['mpg01'], df['wt01'] = scaler.fit_transform(df[['mpg']]), scaler.fit_transform(df[['wt']])"
      ],
      "metadata": {
        "id": "tUYZ8v77SYNi"
      },
      "execution_count": 38,
      "outputs": []
    },
    {
      "cell_type": "code",
      "source": [
        "# Execução do K-Means\n",
        "k = KMeans(n_clusters=4, random_state=1).fit(df[['mpg01','wt01']])"
      ],
      "metadata": {
        "colab": {
          "base_uri": "https://localhost:8080/"
        },
        "id": "BnBNQLFjNEae",
        "outputId": "bba90e02-e48e-458f-83ab-1a7aaa18fa82"
      },
      "execution_count": 40,
      "outputs": [
        {
          "output_type": "stream",
          "name": "stderr",
          "text": [
            "/usr/local/lib/python3.10/dist-packages/sklearn/cluster/_kmeans.py:870: FutureWarning: The default value of `n_init` will change from 10 to 'auto' in 1.4. Set the value of `n_init` explicitly to suppress the warning\n",
            "  warnings.warn(\n"
          ]
        }
      ]
    },
    {
      "cell_type": "code",
      "source": [
        "df['cluster'] = k.labels_\n",
        "df.plot.scatter(x=\"wt\", y=\"mpg\", c='cluster', colormap='plasma')"
      ],
      "metadata": {
        "colab": {
          "base_uri": "https://localhost:8080/",
          "height": 472
        },
        "id": "FKFp7j2oNkkY",
        "outputId": "3544804b-db7b-481b-e76b-8efaaf130256"
      },
      "execution_count": 41,
      "outputs": [
        {
          "output_type": "execute_result",
          "data": {
            "text/plain": [
              "<Axes: xlabel='wt', ylabel='mpg'>"
            ]
          },
          "metadata": {},
          "execution_count": 41
        },
        {
          "output_type": "display_data",
          "data": {
            "text/plain": [
              "<Figure size 640x480 with 2 Axes>"
            ],
            "image/png": "[encoded data removed]"
          },
          "metadata": {}
        }
      ]
    },
    {
      "cell_type": "markdown",
      "source": [
        "### Aprendizagem Supervisionada\n",
        "Aula 7 - 2a Parte - Outros Algoritmos\n"
      ],
      "metadata": {
        "id": "UBhHViJjcTiw"
      }
    },
    {
      "cell_type": "code",
      "source": [
        "# 0. Carga de bibliotecas\n",
        "import pandas as pd\n",
        "from sklearn.model_selection import train_test_split\n",
        "from sklearn import tree\n",
        "from sklearn.ensemble import RandomForestClassifier\n",
        "from sklearn import svm\n",
        "from sklearn.metrics import accuracy_score\n",
        "from sklearn.metrics import precision_score\n",
        "from sklearn.metrics import recall_score"
      ],
      "metadata": {
        "id": "CIJdjRABcjAL"
      },
      "execution_count": 86,
      "outputs": []
    },
    {
      "cell_type": "code",
      "source": [
        "# 1. Carga de dados\n",
        "dfTit = pd.read_csv('https://raw.githubusercontent.com/diogenesjusto/FIAP/master/Gradua%C3%A7%C3%A3o/dados/dados_arvore_titanic.csv')\n",
        "\n",
        "# 2. Transformações de variáveis (feature engineering)\n",
        "# Criação de variável Dummy\n",
        "dummy_sex = pd.get_dummies(dfTit['Sex'])\n",
        "dfTit['SexFemale'] = dummy_sex['female']\n",
        "\n",
        "dummy_pclass = pd.get_dummies(dfTit['Pclass'], prefix= \"Classe\")\n",
        "dfTit['Classe_1'] = dummy_pclass['Classe_1']\n",
        "dfTit['Classe_2'] = dummy_pclass['Classe_2']\n",
        "\n",
        "# Preenchimento de nulos para idades\n",
        "ageMed = dfTit['Age'].mean()\n",
        "dfTit['AgeNullTrat'] = dfTit['Age'].fillna(ageMed)\n",
        "\n",
        "# 3. Separação de treino e teste\n",
        "x_treino, x_teste, y_treino, y_teste = train_test_split(dfTit[['SexFemale','Classe_1', 'Classe_2', 'AgeNullTrat']], dfTit['Survived'], test_size=0.25, random_state=1)\n",
        "\n",
        "# 4. Construir modelo de árvore\n",
        "#modTit = tree.DecisionTreeClassifier()\n",
        "# 4. Construir modelo RandomForest\n",
        "#modTit = RandomForestClassifier(random_state=2, n_estimators=2000)\n",
        "# RandomForest Variable Importance\n",
        "#modTit.feature_importances\n",
        "# 4. Construir modelo SVM\n",
        "modTit = svm.SVC()\n",
        "\n",
        "modTit.fit(x_treino, y_treino)"
      ],
      "metadata": {
        "colab": {
          "base_uri": "https://localhost:8080/",
          "height": 74
        },
        "id": "YfN-hhBEcsOP",
        "outputId": "78b1facd-79b4-49ff-d834-6b599e2de838"
      },
      "execution_count": 87,
      "outputs": [
        {
          "output_type": "execute_result",
          "data": {
            "text/plain": [
              "SVC()"
            ],
            "text/html": [
              "<style>#sk-container-id-21 {color: black;background-color: white;}#sk-container-id-21 pre{padding: 0;}#sk-container-id-21 div.sk-toggleable {background-color: white;}#sk-container-id-21 label.sk-toggleable__label {cursor: pointer;display: block;width: 100%;margin-bottom: 0;padding: 0.3em;box-sizing: border-box;text-align: center;}#sk-container-id-21 label.sk-toggleable__label-arrow:before {content: \"▸\";float: left;margin-right: 0.25em;color: #696969;}#sk-container-id-21 label.sk-toggleable__label-arrow:hover:before {color: black;}#sk-container-id-21 div.sk-estimator:hover label.sk-toggleable__label-arrow:before {color: black;}#sk-container-id-21 div.sk-toggleable__content {max-height: 0;max-width: 0;overflow: hidden;text-align: left;background-color: #f0f8ff;}#sk-container-id-21 div.sk-toggleable__content pre {margin: 0.2em;color: black;border-radius: 0.25em;background-color: #f0f8ff;}#sk-container-id-21 input.sk-toggleable__control:checked~div.sk-toggleable__content {max-height: 200px;max-width: 100%;overflow: auto;}#sk-container-id-21 input.sk-toggleable__control:checked~label.sk-toggleable__label-arrow:before {content: \"▾\";}#sk-container-id-21 div.sk-estimator input.sk-toggleable__control:checked~label.sk-toggleable__label {background-color: #d4ebff;}#sk-container-id-21 div.sk-label input.sk-toggleable__control:checked~label.sk-toggleable__label {background-color: #d4ebff;}#sk-container-id-21 input.sk-hidden--visually {border: 0;clip: rect(1px 1px 1px 1px);clip: rect(1px, 1px, 1px, 1px);height: 1px;margin: -1px;overflow: hidden;padding: 0;position: absolute;width: 1px;}#sk-container-id-21 div.sk-estimator {font-family: monospace;background-color: #f0f8ff;border: 1px dotted black;border-radius: 0.25em;box-sizing: border-box;margin-bottom: 0.5em;}#sk-container-id-21 div.sk-estimator:hover {background-color: #d4ebff;}#sk-container-id-21 div.sk-parallel-item::after {content: \"\";width: 100%;border-bottom: 1px solid gray;flex-grow: 1;}#sk-container-id-21 div.sk-label:hover label.sk-toggleable__label {background-color: #d4ebff;}#sk-container-id-21 div.sk-serial::before {content: \"\";position: absolute;border-left: 1px solid gray;box-sizing: border-box;top: 0;bottom: 0;left: 50%;z-index: 0;}#sk-container-id-21 div.sk-serial {display: flex;flex-direction: column;align-items: center;background-color: white;padding-right: 0.2em;padding-left: 0.2em;position: relative;}#sk-container-id-21 div.sk-item {position: relative;z-index: 1;}#sk-container-id-21 div.sk-parallel {display: flex;align-items: stretch;justify-content: center;background-color: white;position: relative;}#sk-container-id-21 div.sk-item::before, #sk-container-id-21 div.sk-parallel-item::before {content: \"\";position: absolute;border-left: 1px solid gray;box-sizing: border-box;top: 0;bottom: 0;left: 50%;z-index: -1;}#sk-container-id-21 div.sk-parallel-item {display: flex;flex-direction: column;z-index: 1;position: relative;background-color: white;}#sk-container-id-21 div.sk-parallel-item:first-child::after {align-self: flex-end;width: 50%;}#sk-container-id-21 div.sk-parallel-item:last-child::after {align-self: flex-start;width: 50%;}#sk-container-id-21 div.sk-parallel-item:only-child::after {width: 0;}#sk-container-id-21 div.sk-dashed-wrapped {border: 1px dashed gray;margin: 0 0.4em 0.5em 0.4em;box-sizing: border-box;padding-bottom: 0.4em;background-color: white;}#sk-container-id-21 div.sk-label label {font-family: monospace;font-weight: bold;display: inline-block;line-height: 1.2em;}#sk-container-id-21 div.sk-label-container {text-align: center;}#sk-container-id-21 div.sk-container {/* jupyter's `normalize.less` sets `[hidden] { display: none; }` but bootstrap.min.css set `[hidden] { display: none !important; }` so we also need the `!important` here to be able to override the default hidden behavior on the sphinx rendered scikit-learn.org. See: https://github.com/scikit-learn/scikit-learn/issues/21755 */display: inline-block !important;position: relative;}#sk-container-id-21 div.sk-text-repr-fallback {display: none;}</style><div id=\"sk-container-id-21\" class=\"sk-top-container\"><div class=\"sk-text-repr-fallback\"><pre>SVC()</pre><b>In a Jupyter environment, please rerun this cell to show the HTML representation or trust the notebook. <br />On GitHub, the HTML representation is unable to render, please try loading this page with nbviewer.org.</b></div><div class=\"sk-container\" hidden><div class=\"sk-item\"><div class=\"sk-estimator sk-toggleable\"><input class=\"sk-toggleable__control sk-hidden--visually\" id=\"sk-estimator-id-21\" type=\"checkbox\" checked><label for=\"sk-estimator-id-21\" class=\"sk-toggleable__label sk-toggleable__label-arrow\">SVC</label><div class=\"sk-toggleable__content\"><pre>SVC()</pre></div></div></div></div></div>"
            ]
          },
          "metadata": {},
          "execution_count": 87
        }
      ]
    },
    {
      "cell_type": "code",
      "source": [
        "# 5. Previsão em teste\n",
        "y_prev = modTit.predict(x_teste)\n",
        "\n",
        "# Métricas de erro de classificadores\n",
        "print(accuracy_score(y_teste, y_prev))\n",
        "print(precision_score(y_teste, y_prev))\n",
        "print(recall_score(y_teste, y_prev))"
      ],
      "metadata": {
        "colab": {
          "base_uri": "https://localhost:8080/"
        },
        "id": "0r16f1aPc0th",
        "outputId": "ffba061d-3495-449c-b335-379aaeafafa8"
      },
      "execution_count": 88,
      "outputs": [
        {
          "output_type": "stream",
          "name": "stdout",
          "text": [
            "0.5650224215246636\n",
            "0.42857142857142855\n",
            "0.06315789473684211\n"
          ]
        }
      ]
    },
    {
      "cell_type": "markdown",
      "source": [
        "# Aula 7 - 3a Parte - AutoML (automatização de etapas de ML)"
      ],
      "metadata": {
        "id": "kzoDOguEoi3t"
      }
    },
    {
      "cell_type": "code",
      "source": [
        "!pip install pycaret"
      ],
      "metadata": {
        "colab": {
          "base_uri": "https://localhost:8080/",
          "height": 1000
        },
        "id": "2XBx5EA4oW02",
        "outputId": "34cdb734-b812-49e3-cb88-c042cb4129eb"
      },
      "execution_count": 89,
      "outputs": [
        {
          "output_type": "stream",
          "name": "stdout",
          "text": [
            "Collecting pycaret\n",
            "  Downloading pycaret-3.3.0-py3-none-any.whl (485 kB)\n",
            "\u001b[?25l     \u001b[90m━━━━━━━━━━━━━━━━━━━━━━━━━━━━━━━━━━━━━━━━\u001b[0m \u001b[32m0.0/485.9 kB\u001b[0m \u001b[31m?\u001b[0m eta \u001b[36m-:--:--\u001b[0m\r\u001b[2K     \u001b[91m━━━━━━\u001b[0m\u001b[91m╸\u001b[0m\u001b[90m━━━━━━━━━━━━━━━━━━━━━━━━━━━━━━━━━\u001b[0m \u001b[32m81.9/485.9 kB\u001b[0m \u001b[31m2.1 MB/s\u001b[0m eta \u001b[36m0:00:01\u001b[0m\r\u001b[2K     \u001b[90m━━━━━━━━━━━━━━━━━━━━━━━━━━━━━━━━━━━━━━━━\u001b[0m \u001b[32m485.9/485.9 kB\u001b[0m \u001b[31m7.5 MB/s\u001b[0m eta \u001b[36m0:00:00\u001b[0m\n",
            "\u001b[?25hRequirement already satisfied: ipython>=5.5.0 in /usr/local/lib/python3.10/dist-packages (from pycaret) (7.34.0)\n",
            "Requirement already satisfied: ipywidgets>=7.6.5 in /usr/local/lib/python3.10/dist-packages (from pycaret) (7.7.1)\n",
            "Requirement already satisfied: tqdm>=4.62.0 in /usr/local/lib/python3.10/dist-packages (from pycaret) (4.66.2)\n",
            "Requirement already satisfied: numpy<1.27,>=1.21 in /usr/local/lib/python3.10/dist-packages (from pycaret) (1.25.2)\n",
            "Requirement already satisfied: pandas<2.2.0 in /usr/local/lib/python3.10/dist-packages (from pycaret) (1.5.3)\n",
            "Requirement already satisfied: jinja2>=3 in /usr/local/lib/python3.10/dist-packages (from pycaret) (3.1.3)\n",
            "Requirement already satisfied: scipy<=1.11.4,>=1.6.1 in /usr/local/lib/python3.10/dist-packages (from pycaret) (1.11.4)\n",
            "Requirement already satisfied: joblib>=1.2.0 in /usr/local/lib/python3.10/dist-packages (from pycaret) (1.3.2)\n",
            "Collecting scikit-learn>1.4.0 (from pycaret)\n",
            "  Downloading scikit_learn-1.4.1.post1-cp310-cp310-manylinux_2_17_x86_64.manylinux2014_x86_64.whl (12.1 MB)\n",
            "\u001b[2K     \u001b[90m━━━━━━━━━━━━━━━━━━━━━━━━━━━━━━━━━━━━━━━━\u001b[0m \u001b[32m12.1/12.1 MB\u001b[0m \u001b[31m55.6 MB/s\u001b[0m eta \u001b[36m0:00:00\u001b[0m\n",
            "\u001b[?25hCollecting pyod>=1.1.3 (from pycaret)\n",
            "  Downloading pyod-1.1.3.tar.gz (160 kB)\n",
            "\u001b[2K     \u001b[90m━━━━━━━━━━━━━━━━━━━━━━━━━━━━━━━━━━━━━━━━\u001b[0m \u001b[32m160.5/160.5 kB\u001b[0m \u001b[31m18.3 MB/s\u001b[0m eta \u001b[36m0:00:00\u001b[0m\n",
            "\u001b[?25h  Preparing metadata (setup.py) ... \u001b[?25l\u001b[?25hdone\n",
            "Collecting imbalanced-learn>=0.12.0 (from pycaret)\n",
            "  Downloading imbalanced_learn-0.12.0-py3-none-any.whl (257 kB)\n",
            "\u001b[2K     \u001b[90m━━━━━━━━━━━━━━━━━━━━━━━━━━━━━━━━━━━━━━━━\u001b[0m \u001b[32m257.7/257.7 kB\u001b[0m \u001b[31m30.0 MB/s\u001b[0m eta \u001b[36m0:00:00\u001b[0m\n",
            "\u001b[?25hCollecting category-encoders>=2.4.0 (from pycaret)\n",
            "  Downloading category_encoders-2.6.3-py2.py3-none-any.whl (81 kB)\n",
            "\u001b[2K     \u001b[90m━━━━━━━━━━━━━━━━━━━━━━━━━━━━━━━━━━━━━━━━\u001b[0m \u001b[32m81.9/81.9 kB\u001b[0m \u001b[31m11.5 MB/s\u001b[0m eta \u001b[36m0:00:00\u001b[0m\n",
            "\u001b[?25hRequirement already satisfied: lightgbm>=3.0.0 in /usr/local/lib/python3.10/dist-packages (from pycaret) (4.1.0)\n",
            "Requirement already satisfied: numba>=0.55.0 in /usr/local/lib/python3.10/dist-packages (from pycaret) (0.58.1)\n",
            "Requirement already satisfied: requests>=2.27.1 in /usr/local/lib/python3.10/dist-packages (from pycaret) (2.31.0)\n",
            "Requirement already satisfied: psutil>=5.9.0 in /usr/local/lib/python3.10/dist-packages (from pycaret) (5.9.5)\n",
            "Requirement already satisfied: markupsafe>=2.0.1 in /usr/local/lib/python3.10/dist-packages (from pycaret) (2.1.5)\n",
            "Requirement already satisfied: importlib-metadata>=4.12.0 in /usr/local/lib/python3.10/dist-packages (from pycaret) (7.0.1)\n",
            "Requirement already satisfied: nbformat>=4.2.0 in /usr/local/lib/python3.10/dist-packages (from pycaret) (5.9.2)\n",
            "Requirement already satisfied: cloudpickle in /usr/local/lib/python3.10/dist-packages (from pycaret) (2.2.1)\n",
            "Collecting deprecation>=2.1.0 (from pycaret)\n",
            "  Downloading deprecation-2.1.0-py2.py3-none-any.whl (11 kB)\n",
            "Requirement already satisfied: xxhash in /usr/local/lib/python3.10/dist-packages (from pycaret) (3.4.1)\n",
            "Requirement already satisfied: matplotlib<3.8.0 in /usr/local/lib/python3.10/dist-packages (from pycaret) (3.7.1)\n",
            "Collecting scikit-plot>=0.3.7 (from pycaret)\n",
            "  Downloading scikit_plot-0.3.7-py3-none-any.whl (33 kB)\n",
            "Requirement already satisfied: yellowbrick>=1.4 in /usr/local/lib/python3.10/dist-packages (from pycaret) (1.5)\n",
            "Requirement already satisfied: plotly>=5.14.0 in /usr/local/lib/python3.10/dist-packages (from pycaret) (5.15.0)\n",
            "Collecting kaleido>=0.2.1 (from pycaret)\n",
            "  Downloading kaleido-0.2.1-py2.py3-none-manylinux1_x86_64.whl (79.9 MB)\n",
            "\u001b[2K     \u001b[90m━━━━━━━━━━━━━━━━━━━━━━━━━━━━━━━━━━━━━━━━\u001b[0m \u001b[32m79.9/79.9 MB\u001b[0m \u001b[31m9.8 MB/s\u001b[0m eta \u001b[36m0:00:00\u001b[0m\n",
            "\u001b[?25hCollecting schemdraw==0.15 (from pycaret)\n",
            "  Downloading schemdraw-0.15-py3-none-any.whl (106 kB)\n",
            "\u001b[2K     \u001b[90m━━━━━━━━━━━━━━━━━━━━━━━━━━━━━━━━━━━━━━━━\u001b[0m \u001b[32m106.8/106.8 kB\u001b[0m \u001b[31m13.7 MB/s\u001b[0m eta \u001b[36m0:00:00\u001b[0m\n",
            "\u001b[?25hCollecting plotly-resampler>=0.8.3.1 (from pycaret)\n",
            "  Downloading plotly_resampler-0.9.2-py3-none-any.whl (81 kB)\n",
            "\u001b[2K     \u001b[90m━━━━━━━━━━━━━━━━━━━━━━━━━━━━━━━━━━━━━━━━\u001b[0m \u001b[32m81.1/81.1 kB\u001b[0m \u001b[31m10.2 MB/s\u001b[0m eta \u001b[36m0:00:00\u001b[0m\n",
            "\u001b[?25hRequirement already satisfied: statsmodels>=0.12.1 in /usr/local/lib/python3.10/dist-packages (from pycaret) (0.14.1)\n",
            "Collecting sktime>=0.26.0 (from pycaret)\n",
            "  Downloading sktime-0.27.0-py3-none-any.whl (21.9 MB)\n",
            "\u001b[2K     \u001b[90m━━━━━━━━━━━━━━━━━━━━━━━━━━━━━━━━━━━━━━━━\u001b[0m \u001b[32m21.9/21.9 MB\u001b[0m \u001b[31m49.3 MB/s\u001b[0m eta \u001b[36m0:00:00\u001b[0m\n",
            "\u001b[?25hCollecting tbats>=1.1.3 (from pycaret)\n",
            "  Downloading tbats-1.1.3-py3-none-any.whl (44 kB)\n",
            "\u001b[2K     \u001b[90m━━━━━━━━━━━━━━━━━━━━━━━━━━━━━━━━━━━━━━━━\u001b[0m \u001b[32m44.0/44.0 kB\u001b[0m \u001b[31m5.5 MB/s\u001b[0m eta \u001b[36m0:00:00\u001b[0m\n",
            "\u001b[?25hCollecting pmdarima>=2.0.4 (from pycaret)\n",
            "  Downloading pmdarima-2.0.4-cp310-cp310-manylinux_2_17_x86_64.manylinux2014_x86_64.manylinux_2_28_x86_64.whl (2.1 MB)\n",
            "\u001b[2K     \u001b[90m━━━━━━━━━━━━━━━━━━━━━━━━━━━━━━━━━━━━━━━━\u001b[0m \u001b[32m2.1/2.1 MB\u001b[0m \u001b[31m81.7 MB/s\u001b[0m eta \u001b[36m0:00:00\u001b[0m\n",
            "\u001b[?25hCollecting wurlitzer (from pycaret)\n",
            "  Downloading wurlitzer-3.0.3-py3-none-any.whl (7.3 kB)\n",
            "Requirement already satisfied: patsy>=0.5.1 in /usr/local/lib/python3.10/dist-packages (from category-encoders>=2.4.0->pycaret) (0.5.6)\n",
            "Requirement already satisfied: packaging in /usr/local/lib/python3.10/dist-packages (from deprecation>=2.1.0->pycaret) (23.2)\n",
            "Requirement already satisfied: threadpoolctl>=2.0.0 in /usr/local/lib/python3.10/dist-packages (from imbalanced-learn>=0.12.0->pycaret) (3.3.0)\n",
            "Requirement already satisfied: zipp>=0.5 in /usr/local/lib/python3.10/dist-packages (from importlib-metadata>=4.12.0->pycaret) (3.17.0)\n",
            "Requirement already satisfied: setuptools>=18.5 in /usr/local/lib/python3.10/dist-packages (from ipython>=5.5.0->pycaret) (67.7.2)\n",
            "Collecting jedi>=0.16 (from ipython>=5.5.0->pycaret)\n",
            "  Downloading jedi-0.19.1-py2.py3-none-any.whl (1.6 MB)\n",
            "\u001b[2K     \u001b[90m━━━━━━━━━━━━━━━━━━━━━━━━━━━━━━━━━━━━━━━━\u001b[0m \u001b[32m1.6/1.6 MB\u001b[0m \u001b[31m81.0 MB/s\u001b[0m eta \u001b[36m0:00:00\u001b[0m\n",
            "\u001b[?25hRequirement already satisfied: decorator in /usr/local/lib/python3.10/dist-packages (from ipython>=5.5.0->pycaret) (4.4.2)\n",
            "Requirement already satisfied: pickleshare in /usr/local/lib/python3.10/dist-packages (from ipython>=5.5.0->pycaret) (0.7.5)\n",
            "Requirement already satisfied: traitlets>=4.2 in /usr/local/lib/python3.10/dist-packages (from ipython>=5.5.0->pycaret) (5.7.1)\n",
            "Requirement already satisfied: prompt-toolkit!=3.0.0,!=3.0.1,<3.1.0,>=2.0.0 in /usr/local/lib/python3.10/dist-packages (from ipython>=5.5.0->pycaret) (3.0.43)\n",
            "Requirement already satisfied: pygments in /usr/local/lib/python3.10/dist-packages (from ipython>=5.5.0->pycaret) (2.16.1)\n",
            "Requirement already satisfied: backcall in /usr/local/lib/python3.10/dist-packages (from ipython>=5.5.0->pycaret) (0.2.0)\n",
            "Requirement already satisfied: matplotlib-inline in /usr/local/lib/python3.10/dist-packages (from ipython>=5.5.0->pycaret) (0.1.6)\n",
            "Requirement already satisfied: pexpect>4.3 in /usr/local/lib/python3.10/dist-packages (from ipython>=5.5.0->pycaret) (4.9.0)\n",
            "Requirement already satisfied: ipykernel>=4.5.1 in /usr/local/lib/python3.10/dist-packages (from ipywidgets>=7.6.5->pycaret) (5.5.6)\n",
            "Requirement already satisfied: ipython-genutils~=0.2.0 in /usr/local/lib/python3.10/dist-packages (from ipywidgets>=7.6.5->pycaret) (0.2.0)\n",
            "Requirement already satisfied: widgetsnbextension~=3.6.0 in /usr/local/lib/python3.10/dist-packages (from ipywidgets>=7.6.5->pycaret) (3.6.6)\n",
            "Requirement already satisfied: jupyterlab-widgets>=1.0.0 in /usr/local/lib/python3.10/dist-packages (from ipywidgets>=7.6.5->pycaret) (3.0.10)\n",
            "Requirement already satisfied: contourpy>=1.0.1 in /usr/local/lib/python3.10/dist-packages (from matplotlib<3.8.0->pycaret) (1.2.0)\n",
            "Requirement already satisfied: cycler>=0.10 in /usr/local/lib/python3.10/dist-packages (from matplotlib<3.8.0->pycaret) (0.12.1)\n",
            "Requirement already satisfied: fonttools>=4.22.0 in /usr/local/lib/python3.10/dist-packages (from matplotlib<3.8.0->pycaret) (4.49.0)\n",
            "Requirement already satisfied: kiwisolver>=1.0.1 in /usr/local/lib/python3.10/dist-packages (from matplotlib<3.8.0->pycaret) (1.4.5)\n",
            "Requirement already satisfied: pillow>=6.2.0 in /usr/local/lib/python3.10/dist-packages (from matplotlib<3.8.0->pycaret) (9.4.0)\n",
            "Requirement already satisfied: pyparsing>=2.3.1 in /usr/local/lib/python3.10/dist-packages (from matplotlib<3.8.0->pycaret) (3.1.1)\n",
            "Requirement already satisfied: python-dateutil>=2.7 in /usr/local/lib/python3.10/dist-packages (from matplotlib<3.8.0->pycaret) (2.8.2)\n",
            "Requirement already satisfied: fastjsonschema in /usr/local/lib/python3.10/dist-packages (from nbformat>=4.2.0->pycaret) (2.19.1)\n",
            "Requirement already satisfied: jsonschema>=2.6 in /usr/local/lib/python3.10/dist-packages (from nbformat>=4.2.0->pycaret) (4.19.2)\n",
            "Requirement already satisfied: jupyter-core in /usr/local/lib/python3.10/dist-packages (from nbformat>=4.2.0->pycaret) (5.7.1)\n",
            "Requirement already satisfied: llvmlite<0.42,>=0.41.0dev0 in /usr/local/lib/python3.10/dist-packages (from numba>=0.55.0->pycaret) (0.41.1)\n",
            "Requirement already satisfied: pytz>=2020.1 in /usr/local/lib/python3.10/dist-packages (from pandas<2.2.0->pycaret) (2023.4)\n",
            "Requirement already satisfied: tenacity>=6.2.0 in /usr/local/lib/python3.10/dist-packages (from plotly>=5.14.0->pycaret) (8.2.3)\n",
            "Collecting dash>=2.9.0 (from plotly-resampler>=0.8.3.1->pycaret)\n",
            "  Downloading dash-2.15.0-py3-none-any.whl (10.2 MB)\n",
            "\u001b[2K     \u001b[90m━━━━━━━━━━━━━━━━━━━━━━━━━━━━━━━━━━━━━━━━\u001b[0m \u001b[32m10.2/10.2 MB\u001b[0m \u001b[31m56.3 MB/s\u001b[0m eta \u001b[36m0:00:00\u001b[0m\n",
            "\u001b[?25hCollecting orjson<4.0.0,>=3.8.0 (from plotly-resampler>=0.8.3.1->pycaret)\n",
            "  Downloading orjson-3.9.15-cp310-cp310-manylinux_2_17_x86_64.manylinux2014_x86_64.whl (138 kB)\n",
            "\u001b[2K     \u001b[90m━━━━━━━━━━━━━━━━━━━━━━━━━━━━━━━━━━━━━━━━\u001b[0m \u001b[32m138.5/138.5 kB\u001b[0m \u001b[31m14.9 MB/s\u001b[0m eta \u001b[36m0:00:00\u001b[0m\n",
            "\u001b[?25hCollecting tsdownsample==0.1.2 (from plotly-resampler>=0.8.3.1->pycaret)\n",
            "  Downloading tsdownsample-0.1.2-cp310-cp310-manylinux_2_17_x86_64.manylinux2014_x86_64.whl (2.3 MB)\n",
            "\u001b[2K     \u001b[90m━━━━━━━━━━━━━━━━━━━━━━━━━━━━━━━━━━━━━━━━\u001b[0m \u001b[32m2.3/2.3 MB\u001b[0m \u001b[31m73.2 MB/s\u001b[0m eta \u001b[36m0:00:00\u001b[0m\n",
            "\u001b[?25hRequirement already satisfied: Cython!=0.29.18,!=0.29.31,>=0.29 in /usr/local/lib/python3.10/dist-packages (from pmdarima>=2.0.4->pycaret) (3.0.8)\n",
            "Requirement already satisfied: urllib3 in /usr/local/lib/python3.10/dist-packages (from pmdarima>=2.0.4->pycaret) (2.0.7)\n",
            "Requirement already satisfied: six in /usr/local/lib/python3.10/dist-packages (from pyod>=1.1.3->pycaret) (1.16.0)\n",
            "Requirement already satisfied: charset-normalizer<4,>=2 in /usr/local/lib/python3.10/dist-packages (from requests>=2.27.1->pycaret) (3.3.2)\n",
            "Requirement already satisfied: idna<4,>=2.5 in /usr/local/lib/python3.10/dist-packages (from requests>=2.27.1->pycaret) (3.6)\n",
            "Requirement already satisfied: certifi>=2017.4.17 in /usr/local/lib/python3.10/dist-packages (from requests>=2.27.1->pycaret) (2024.2.2)\n",
            "Collecting scikit-base<0.8.0 (from sktime>=0.26.0->pycaret)\n",
            "  Downloading scikit_base-0.7.2-py3-none-any.whl (127 kB)\n",
            "\u001b[2K     \u001b[90m━━━━━━━━━━━━━━━━━━━━━━━━━━━━━━━━━━━━━━━━\u001b[0m \u001b[32m127.2/127.2 kB\u001b[0m \u001b[31m15.1 MB/s\u001b[0m eta \u001b[36m0:00:00\u001b[0m\n",
            "\u001b[?25hRequirement already satisfied: Flask<3.1,>=1.0.4 in /usr/local/lib/python3.10/dist-packages (from dash>=2.9.0->plotly-resampler>=0.8.3.1->pycaret) (2.2.5)\n",
            "Requirement already satisfied: Werkzeug<3.1 in /usr/local/lib/python3.10/dist-packages (from dash>=2.9.0->plotly-resampler>=0.8.3.1->pycaret) (3.0.1)\n",
            "Collecting dash-html-components==2.0.0 (from dash>=2.9.0->plotly-resampler>=0.8.3.1->pycaret)\n",
            "  Downloading dash_html_components-2.0.0-py3-none-any.whl (4.1 kB)\n",
            "Collecting dash-core-components==2.0.0 (from dash>=2.9.0->plotly-resampler>=0.8.3.1->pycaret)\n",
            "  Downloading dash_core_components-2.0.0-py3-none-any.whl (3.8 kB)\n",
            "Collecting dash-table==5.0.0 (from dash>=2.9.0->plotly-resampler>=0.8.3.1->pycaret)\n",
            "  Downloading dash_table-5.0.0-py3-none-any.whl (3.9 kB)\n",
            "Requirement already satisfied: typing-extensions>=4.1.1 in /usr/local/lib/python3.10/dist-packages (from dash>=2.9.0->plotly-resampler>=0.8.3.1->pycaret) (4.10.0)\n",
            "Collecting retrying (from dash>=2.9.0->plotly-resampler>=0.8.3.1->pycaret)\n",
            "  Downloading retrying-1.3.4-py3-none-any.whl (11 kB)\n",
            "Requirement already satisfied: nest-asyncio in /usr/local/lib/python3.10/dist-packages (from dash>=2.9.0->plotly-resampler>=0.8.3.1->pycaret) (1.6.0)\n",
            "Requirement already satisfied: jupyter-client in /usr/local/lib/python3.10/dist-packages (from ipykernel>=4.5.1->ipywidgets>=7.6.5->pycaret) (6.1.12)\n",
            "Requirement already satisfied: tornado>=4.2 in /usr/local/lib/python3.10/dist-packages (from ipykernel>=4.5.1->ipywidgets>=7.6.5->pycaret) (6.3.2)\n",
            "Requirement already satisfied: parso<0.9.0,>=0.8.3 in /usr/local/lib/python3.10/dist-packages (from jedi>=0.16->ipython>=5.5.0->pycaret) (0.8.3)\n",
            "Requirement already satisfied: attrs>=22.2.0 in /usr/local/lib/python3.10/dist-packages (from jsonschema>=2.6->nbformat>=4.2.0->pycaret) (23.2.0)\n",
            "Requirement already satisfied: jsonschema-specifications>=2023.03.6 in /usr/local/lib/python3.10/dist-packages (from jsonschema>=2.6->nbformat>=4.2.0->pycaret) (2023.12.1)\n",
            "Requirement already satisfied: referencing>=0.28.4 in /usr/local/lib/python3.10/dist-packages (from jsonschema>=2.6->nbformat>=4.2.0->pycaret) (0.33.0)\n",
            "Requirement already satisfied: rpds-py>=0.7.1 in /usr/local/lib/python3.10/dist-packages (from jsonschema>=2.6->nbformat>=4.2.0->pycaret) (0.18.0)\n",
            "Requirement already satisfied: ptyprocess>=0.5 in /usr/local/lib/python3.10/dist-packages (from pexpect>4.3->ipython>=5.5.0->pycaret) (0.7.0)\n",
            "Requirement already satisfied: wcwidth in /usr/local/lib/python3.10/dist-packages (from prompt-toolkit!=3.0.0,!=3.0.1,<3.1.0,>=2.0.0->ipython>=5.5.0->pycaret) (0.2.13)\n",
            "Requirement already satisfied: notebook>=4.4.1 in /usr/local/lib/python3.10/dist-packages (from widgetsnbextension~=3.6.0->ipywidgets>=7.6.5->pycaret) (6.5.5)\n",
            "Requirement already satisfied: platformdirs>=2.5 in /usr/local/lib/python3.10/dist-packages (from jupyter-core->nbformat>=4.2.0->pycaret) (4.2.0)\n",
            "Requirement already satisfied: itsdangerous>=2.0 in /usr/local/lib/python3.10/dist-packages (from Flask<3.1,>=1.0.4->dash>=2.9.0->plotly-resampler>=0.8.3.1->pycaret) (2.1.2)\n",
            "Requirement already satisfied: click>=8.0 in /usr/local/lib/python3.10/dist-packages (from Flask<3.1,>=1.0.4->dash>=2.9.0->plotly-resampler>=0.8.3.1->pycaret) (8.1.7)\n",
            "Requirement already satisfied: pyzmq<25,>=17 in /usr/local/lib/python3.10/dist-packages (from notebook>=4.4.1->widgetsnbextension~=3.6.0->ipywidgets>=7.6.5->pycaret) (23.2.1)\n",
            "Requirement already satisfied: argon2-cffi in /usr/local/lib/python3.10/dist-packages (from notebook>=4.4.1->widgetsnbextension~=3.6.0->ipywidgets>=7.6.5->pycaret) (23.1.0)\n",
            "Requirement already satisfied: nbconvert>=5 in /usr/local/lib/python3.10/dist-packages (from notebook>=4.4.1->widgetsnbextension~=3.6.0->ipywidgets>=7.6.5->pycaret) (6.5.4)\n",
            "Requirement already satisfied: Send2Trash>=1.8.0 in /usr/local/lib/python3.10/dist-packages (from notebook>=4.4.1->widgetsnbextension~=3.6.0->ipywidgets>=7.6.5->pycaret) (1.8.2)\n",
            "Requirement already satisfied: terminado>=0.8.3 in /usr/local/lib/python3.10/dist-packages (from notebook>=4.4.1->widgetsnbextension~=3.6.0->ipywidgets>=7.6.5->pycaret) (0.18.0)\n",
            "Requirement already satisfied: prometheus-client in /usr/local/lib/python3.10/dist-packages (from notebook>=4.4.1->widgetsnbextension~=3.6.0->ipywidgets>=7.6.5->pycaret) (0.20.0)\n",
            "Requirement already satisfied: nbclassic>=0.4.7 in /usr/local/lib/python3.10/dist-packages (from notebook>=4.4.1->widgetsnbextension~=3.6.0->ipywidgets>=7.6.5->pycaret) (1.0.0)\n",
            "Requirement already satisfied: jupyter-server>=1.8 in /usr/local/lib/python3.10/dist-packages (from nbclassic>=0.4.7->notebook>=4.4.1->widgetsnbextension~=3.6.0->ipywidgets>=7.6.5->pycaret) (1.24.0)\n",
            "Requirement already satisfied: notebook-shim>=0.2.3 in /usr/local/lib/python3.10/dist-packages (from nbclassic>=0.4.7->notebook>=4.4.1->widgetsnbextension~=3.6.0->ipywidgets>=7.6.5->pycaret) (0.2.4)\n",
            "Requirement already satisfied: lxml in /usr/local/lib/python3.10/dist-packages (from nbconvert>=5->notebook>=4.4.1->widgetsnbextension~=3.6.0->ipywidgets>=7.6.5->pycaret) (4.9.4)\n",
            "Requirement already satisfied: beautifulsoup4 in /usr/local/lib/python3.10/dist-packages (from nbconvert>=5->notebook>=4.4.1->widgetsnbextension~=3.6.0->ipywidgets>=7.6.5->pycaret) (4.12.3)\n",
            "Requirement already satisfied: bleach in /usr/local/lib/python3.10/dist-packages (from nbconvert>=5->notebook>=4.4.1->widgetsnbextension~=3.6.0->ipywidgets>=7.6.5->pycaret) (6.1.0)\n",
            "Requirement already satisfied: defusedxml in /usr/local/lib/python3.10/dist-packages (from nbconvert>=5->notebook>=4.4.1->widgetsnbextension~=3.6.0->ipywidgets>=7.6.5->pycaret) (0.7.1)\n",
            "Requirement already satisfied: entrypoints>=0.2.2 in /usr/local/lib/python3.10/dist-packages (from nbconvert>=5->notebook>=4.4.1->widgetsnbextension~=3.6.0->ipywidgets>=7.6.5->pycaret) (0.4)\n",
            "Requirement already satisfied: jupyterlab-pygments in /usr/local/lib/python3.10/dist-packages (from nbconvert>=5->notebook>=4.4.1->widgetsnbextension~=3.6.0->ipywidgets>=7.6.5->pycaret) (0.3.0)\n",
            "Requirement already satisfied: mistune<2,>=0.8.1 in /usr/local/lib/python3.10/dist-packages (from nbconvert>=5->notebook>=4.4.1->widgetsnbextension~=3.6.0->ipywidgets>=7.6.5->pycaret) (0.8.4)\n",
            "Requirement already satisfied: nbclient>=0.5.0 in /usr/local/lib/python3.10/dist-packages (from nbconvert>=5->notebook>=4.4.1->widgetsnbextension~=3.6.0->ipywidgets>=7.6.5->pycaret) (0.9.0)\n",
            "Requirement already satisfied: pandocfilters>=1.4.1 in /usr/local/lib/python3.10/dist-packages (from nbconvert>=5->notebook>=4.4.1->widgetsnbextension~=3.6.0->ipywidgets>=7.6.5->pycaret) (1.5.1)\n",
            "Requirement already satisfied: tinycss2 in /usr/local/lib/python3.10/dist-packages (from nbconvert>=5->notebook>=4.4.1->widgetsnbextension~=3.6.0->ipywidgets>=7.6.5->pycaret) (1.2.1)\n",
            "Requirement already satisfied: argon2-cffi-bindings in /usr/local/lib/python3.10/dist-packages (from argon2-cffi->notebook>=4.4.1->widgetsnbextension~=3.6.0->ipywidgets>=7.6.5->pycaret) (21.2.0)\n",
            "Requirement already satisfied: anyio<4,>=3.1.0 in /usr/local/lib/python3.10/dist-packages (from jupyter-server>=1.8->nbclassic>=0.4.7->notebook>=4.4.1->widgetsnbextension~=3.6.0->ipywidgets>=7.6.5->pycaret) (3.7.1)\n",
            "Requirement already satisfied: websocket-client in /usr/local/lib/python3.10/dist-packages (from jupyter-server>=1.8->nbclassic>=0.4.7->notebook>=4.4.1->widgetsnbextension~=3.6.0->ipywidgets>=7.6.5->pycaret) (1.7.0)\n",
            "Requirement already satisfied: cffi>=1.0.1 in /usr/local/lib/python3.10/dist-packages (from argon2-cffi-bindings->argon2-cffi->notebook>=4.4.1->widgetsnbextension~=3.6.0->ipywidgets>=7.6.5->pycaret) (1.16.0)\n",
            "Requirement already satisfied: soupsieve>1.2 in /usr/local/lib/python3.10/dist-packages (from beautifulsoup4->nbconvert>=5->notebook>=4.4.1->widgetsnbextension~=3.6.0->ipywidgets>=7.6.5->pycaret) (2.5)\n",
            "Requirement already satisfied: webencodings in /usr/local/lib/python3.10/dist-packages (from bleach->nbconvert>=5->notebook>=4.4.1->widgetsnbextension~=3.6.0->ipywidgets>=7.6.5->pycaret) (0.5.1)\n",
            "Requirement already satisfied: sniffio>=1.1 in /usr/local/lib/python3.10/dist-packages (from anyio<4,>=3.1.0->jupyter-server>=1.8->nbclassic>=0.4.7->notebook>=4.4.1->widgetsnbextension~=3.6.0->ipywidgets>=7.6.5->pycaret) (1.3.1)\n",
            "Requirement already satisfied: exceptiongroup in /usr/local/lib/python3.10/dist-packages (from anyio<4,>=3.1.0->jupyter-server>=1.8->nbclassic>=0.4.7->notebook>=4.4.1->widgetsnbextension~=3.6.0->ipywidgets>=7.6.5->pycaret) (1.2.0)\n",
            "Requirement already satisfied: pycparser in /usr/local/lib/python3.10/dist-packages (from cffi>=1.0.1->argon2-cffi-bindings->argon2-cffi->notebook>=4.4.1->widgetsnbextension~=3.6.0->ipywidgets>=7.6.5->pycaret) (2.21)\n",
            "Building wheels for collected packages: pyod\n",
            "  Building wheel for pyod (setup.py) ... \u001b[?25l\u001b[?25hdone\n",
            "  Created wheel for pyod: filename=pyod-1.1.3-py3-none-any.whl size=190251 sha256=fd3af5adb0eaa7717648149a67264a8e1e6f0ffe031e52d16eba0123ba1ee209\n",
            "  Stored in directory: /root/.cache/pip/wheels/05/f8/db/124d43bec122d6ec0ab3713fadfe25ebed8af52ec561682b4e\n",
            "Successfully built pyod\n",
            "Installing collected packages: kaleido, dash-table, dash-html-components, dash-core-components, wurlitzer, tsdownsample, scikit-base, schemdraw, retrying, orjson, jedi, deprecation, scikit-learn, sktime, scikit-plot, pyod, imbalanced-learn, dash, pmdarima, plotly-resampler, category-encoders, tbats, pycaret\n",
            "  Attempting uninstall: scikit-learn\n",
            "    Found existing installation: scikit-learn 1.2.2\n",
            "    Uninstalling scikit-learn-1.2.2:\n",
            "      Successfully uninstalled scikit-learn-1.2.2\n",
            "  Attempting uninstall: imbalanced-learn\n",
            "    Found existing installation: imbalanced-learn 0.10.1\n",
            "    Uninstalling imbalanced-learn-0.10.1:\n",
            "      Successfully uninstalled imbalanced-learn-0.10.1\n",
            "Successfully installed category-encoders-2.6.3 dash-2.15.0 dash-core-components-2.0.0 dash-html-components-2.0.0 dash-table-5.0.0 deprecation-2.1.0 imbalanced-learn-0.12.0 jedi-0.19.1 kaleido-0.2.1 orjson-3.9.15 plotly-resampler-0.9.2 pmdarima-2.0.4 pycaret-3.3.0 pyod-1.1.3 retrying-1.3.4 schemdraw-0.15 scikit-base-0.7.2 scikit-learn-1.4.1.post1 scikit-plot-0.3.7 sktime-0.27.0 tbats-1.1.3 tsdownsample-0.1.2 wurlitzer-3.0.3\n"
          ]
        },
        {
          "output_type": "display_data",
          "data": {
            "application/vnd.colab-display-data+json": {
              "pip_warning": {
                "packages": [
                  "sklearn"
                ]
              },
              "id": "a43bc88c6cdb498284516ac23a4b2305"
            }
          },
          "metadata": {}
        }
      ]
    },
    {
      "cell_type": "code",
      "source": [
        "# Importar biblioteca pycaret\n",
        "from pycaret.classification import *\n",
        "import pandas as pd"
      ],
      "metadata": {
        "id": "7aFojdnmph7a"
      },
      "execution_count": 1,
      "outputs": []
    },
    {
      "cell_type": "code",
      "source": [
        "# 1. Carga de dados\n",
        "dfTit = pd.read_csv('https://raw.githubusercontent.com/diogenesjusto/FIAP/master/Gradua%C3%A7%C3%A3o/dados/dados_arvore_titanic.csv')\n"
      ],
      "metadata": {
        "id": "DCIQGnLFqS5Y"
      },
      "execution_count": 2,
      "outputs": []
    },
    {
      "cell_type": "code",
      "source": [
        "# 2. Configuração do pycaret\n",
        "s = setup(dfTit, target='Survived')"
      ],
      "metadata": {
        "colab": {
          "base_uri": "https://localhost:8080/",
          "height": 825
        },
        "id": "My6uE7WPqZsn",
        "outputId": "79bf936a-192a-46c0-9a6d-bc3a325425f1"
      },
      "execution_count": 3,
      "outputs": [
        {
          "output_type": "display_data",
          "data": {
            "text/plain": [
              "<pandas.io.formats.style.Styler at 0x7870c5177fd0>"
            ],
            "text/html": [
              "<style type=\"text/css\">\n",
              "#T_f8dc6_row10_col1 {\n",
              "  background-color: lightgreen;\n",
              "}\n",
              "</style>\n",
              "<table id=\"T_f8dc6\" class=\"dataframe\">\n",
              "  <thead>\n",
              "    <tr>\n",
              "      <th class=\"blank level0\" >&nbsp;</th>\n",
              "      <th id=\"T_f8dc6_level0_col0\" class=\"col_heading level0 col0\" >Description</th>\n",
              "      <th id=\"T_f8dc6_level0_col1\" class=\"col_heading level0 col1\" >Value</th>\n",
              "    </tr>\n",
              "  </thead>\n",
              "  <tbody>\n",
              "    <tr>\n",
              "      <th id=\"T_f8dc6_level0_row0\" class=\"row_heading level0 row0\" >0</th>\n",
              "      <td id=\"T_f8dc6_row0_col0\" class=\"data row0 col0\" >Session id</td>\n",
              "      <td id=\"T_f8dc6_row0_col1\" class=\"data row0 col1\" >1394</td>\n",
              "    </tr>\n",
              "    <tr>\n",
              "      <th id=\"T_f8dc6_level0_row1\" class=\"row_heading level0 row1\" >1</th>\n",
              "      <td id=\"T_f8dc6_row1_col0\" class=\"data row1 col0\" >Target</td>\n",
              "      <td id=\"T_f8dc6_row1_col1\" class=\"data row1 col1\" >Survived</td>\n",
              "    </tr>\n",
              "    <tr>\n",
              "      <th id=\"T_f8dc6_level0_row2\" class=\"row_heading level0 row2\" >2</th>\n",
              "      <td id=\"T_f8dc6_row2_col0\" class=\"data row2 col0\" >Target type</td>\n",
              "      <td id=\"T_f8dc6_row2_col1\" class=\"data row2 col1\" >Binary</td>\n",
              "    </tr>\n",
              "    <tr>\n",
              "      <th id=\"T_f8dc6_level0_row3\" class=\"row_heading level0 row3\" >3</th>\n",
              "      <td id=\"T_f8dc6_row3_col0\" class=\"data row3 col0\" >Original data shape</td>\n",
              "      <td id=\"T_f8dc6_row3_col1\" class=\"data row3 col1\" >(891, 12)</td>\n",
              "    </tr>\n",
              "    <tr>\n",
              "      <th id=\"T_f8dc6_level0_row4\" class=\"row_heading level0 row4\" >4</th>\n",
              "      <td id=\"T_f8dc6_row4_col0\" class=\"data row4 col0\" >Transformed data shape</td>\n",
              "      <td id=\"T_f8dc6_row4_col1\" class=\"data row4 col1\" >(891, 14)</td>\n",
              "    </tr>\n",
              "    <tr>\n",
              "      <th id=\"T_f8dc6_level0_row5\" class=\"row_heading level0 row5\" >5</th>\n",
              "      <td id=\"T_f8dc6_row5_col0\" class=\"data row5 col0\" >Transformed train set shape</td>\n",
              "      <td id=\"T_f8dc6_row5_col1\" class=\"data row5 col1\" >(623, 14)</td>\n",
              "    </tr>\n",
              "    <tr>\n",
              "      <th id=\"T_f8dc6_level0_row6\" class=\"row_heading level0 row6\" >6</th>\n",
              "      <td id=\"T_f8dc6_row6_col0\" class=\"data row6 col0\" >Transformed test set shape</td>\n",
              "      <td id=\"T_f8dc6_row6_col1\" class=\"data row6 col1\" >(268, 14)</td>\n",
              "    </tr>\n",
              "    <tr>\n",
              "      <th id=\"T_f8dc6_level0_row7\" class=\"row_heading level0 row7\" >7</th>\n",
              "      <td id=\"T_f8dc6_row7_col0\" class=\"data row7 col0\" >Numeric features</td>\n",
              "      <td id=\"T_f8dc6_row7_col1\" class=\"data row7 col1\" >6</td>\n",
              "    </tr>\n",
              "    <tr>\n",
              "      <th id=\"T_f8dc6_level0_row8\" class=\"row_heading level0 row8\" >8</th>\n",
              "      <td id=\"T_f8dc6_row8_col0\" class=\"data row8 col0\" >Categorical features</td>\n",
              "      <td id=\"T_f8dc6_row8_col1\" class=\"data row8 col1\" >5</td>\n",
              "    </tr>\n",
              "    <tr>\n",
              "      <th id=\"T_f8dc6_level0_row9\" class=\"row_heading level0 row9\" >9</th>\n",
              "      <td id=\"T_f8dc6_row9_col0\" class=\"data row9 col0\" >Rows with missing values</td>\n",
              "      <td id=\"T_f8dc6_row9_col1\" class=\"data row9 col1\" >79.5%</td>\n",
              "    </tr>\n",
              "    <tr>\n",
              "      <th id=\"T_f8dc6_level0_row10\" class=\"row_heading level0 row10\" >10</th>\n",
              "      <td id=\"T_f8dc6_row10_col0\" class=\"data row10 col0\" >Preprocess</td>\n",
              "      <td id=\"T_f8dc6_row10_col1\" class=\"data row10 col1\" >True</td>\n",
              "    </tr>\n",
              "    <tr>\n",
              "      <th id=\"T_f8dc6_level0_row11\" class=\"row_heading level0 row11\" >11</th>\n",
              "      <td id=\"T_f8dc6_row11_col0\" class=\"data row11 col0\" >Imputation type</td>\n",
              "      <td id=\"T_f8dc6_row11_col1\" class=\"data row11 col1\" >simple</td>\n",
              "    </tr>\n",
              "    <tr>\n",
              "      <th id=\"T_f8dc6_level0_row12\" class=\"row_heading level0 row12\" >12</th>\n",
              "      <td id=\"T_f8dc6_row12_col0\" class=\"data row12 col0\" >Numeric imputation</td>\n",
              "      <td id=\"T_f8dc6_row12_col1\" class=\"data row12 col1\" >mean</td>\n",
              "    </tr>\n",
              "    <tr>\n",
              "      <th id=\"T_f8dc6_level0_row13\" class=\"row_heading level0 row13\" >13</th>\n",
              "      <td id=\"T_f8dc6_row13_col0\" class=\"data row13 col0\" >Categorical imputation</td>\n",
              "      <td id=\"T_f8dc6_row13_col1\" class=\"data row13 col1\" >mode</td>\n",
              "    </tr>\n",
              "    <tr>\n",
              "      <th id=\"T_f8dc6_level0_row14\" class=\"row_heading level0 row14\" >14</th>\n",
              "      <td id=\"T_f8dc6_row14_col0\" class=\"data row14 col0\" >Maximum one-hot encoding</td>\n",
              "      <td id=\"T_f8dc6_row14_col1\" class=\"data row14 col1\" >25</td>\n",
              "    </tr>\n",
              "    <tr>\n",
              "      <th id=\"T_f8dc6_level0_row15\" class=\"row_heading level0 row15\" >15</th>\n",
              "      <td id=\"T_f8dc6_row15_col0\" class=\"data row15 col0\" >Encoding method</td>\n",
              "      <td id=\"T_f8dc6_row15_col1\" class=\"data row15 col1\" >None</td>\n",
              "    </tr>\n",
              "    <tr>\n",
              "      <th id=\"T_f8dc6_level0_row16\" class=\"row_heading level0 row16\" >16</th>\n",
              "      <td id=\"T_f8dc6_row16_col0\" class=\"data row16 col0\" >Fold Generator</td>\n",
              "      <td id=\"T_f8dc6_row16_col1\" class=\"data row16 col1\" >StratifiedKFold</td>\n",
              "    </tr>\n",
              "    <tr>\n",
              "      <th id=\"T_f8dc6_level0_row17\" class=\"row_heading level0 row17\" >17</th>\n",
              "      <td id=\"T_f8dc6_row17_col0\" class=\"data row17 col0\" >Fold Number</td>\n",
              "      <td id=\"T_f8dc6_row17_col1\" class=\"data row17 col1\" >10</td>\n",
              "    </tr>\n",
              "    <tr>\n",
              "      <th id=\"T_f8dc6_level0_row18\" class=\"row_heading level0 row18\" >18</th>\n",
              "      <td id=\"T_f8dc6_row18_col0\" class=\"data row18 col0\" >CPU Jobs</td>\n",
              "      <td id=\"T_f8dc6_row18_col1\" class=\"data row18 col1\" >-1</td>\n",
              "    </tr>\n",
              "    <tr>\n",
              "      <th id=\"T_f8dc6_level0_row19\" class=\"row_heading level0 row19\" >19</th>\n",
              "      <td id=\"T_f8dc6_row19_col0\" class=\"data row19 col0\" >Use GPU</td>\n",
              "      <td id=\"T_f8dc6_row19_col1\" class=\"data row19 col1\" >False</td>\n",
              "    </tr>\n",
              "    <tr>\n",
              "      <th id=\"T_f8dc6_level0_row20\" class=\"row_heading level0 row20\" >20</th>\n",
              "      <td id=\"T_f8dc6_row20_col0\" class=\"data row20 col0\" >Log Experiment</td>\n",
              "      <td id=\"T_f8dc6_row20_col1\" class=\"data row20 col1\" >False</td>\n",
              "    </tr>\n",
              "    <tr>\n",
              "      <th id=\"T_f8dc6_level0_row21\" class=\"row_heading level0 row21\" >21</th>\n",
              "      <td id=\"T_f8dc6_row21_col0\" class=\"data row21 col0\" >Experiment Name</td>\n",
              "      <td id=\"T_f8dc6_row21_col1\" class=\"data row21 col1\" >clf-default-name</td>\n",
              "    </tr>\n",
              "    <tr>\n",
              "      <th id=\"T_f8dc6_level0_row22\" class=\"row_heading level0 row22\" >22</th>\n",
              "      <td id=\"T_f8dc6_row22_col0\" class=\"data row22 col0\" >USI</td>\n",
              "      <td id=\"T_f8dc6_row22_col1\" class=\"data row22 col1\" >4523</td>\n",
              "    </tr>\n",
              "  </tbody>\n",
              "</table>\n"
            ]
          },
          "metadata": {}
        },
        {
          "output_type": "stream",
          "name": "stderr",
          "text": [
            "/usr/local/lib/python3.10/dist-packages/pycaret/internal/metrics.py:51: FutureWarning: The `needs_threshold` and `needs_proba` parameter are deprecated in version 1.4 and will be removed in 1.6. You can either let `response_method` be `None` or set it to `predict` to preserve the same behaviour.\n",
            "  warnings.warn(\n"
          ]
        }
      ]
    },
    {
      "cell_type": "code",
      "source": [
        "# Execução e comparação de modelos\n",
        "best = compare_models()"
      ],
      "metadata": {
        "colab": {
          "base_uri": "https://localhost:8080/",
          "height": 519,
          "referenced_widgets": [
            "ff9ee9e6814d4b909c4da55fc0e0714d",
            "7104c499f4784fb78f3a133f5bc53ba8",
            "71a9974722ec479f85eddf79443f5144",
            "d473d8ff47d74bd38728a216d3918010",
            "d3b324e527ba428eb08b632f029a7efa",
            "427b74b409874da9b66efc0bf464db03",
            "b3253b3decde46cdafce6bbfb7a32c3b",
            "38bd5b576d2340ceb81775f083cd17d0",
            "e26164f83d304206903bdee864ee73c9",
            "0e5bfbd0b80c4f3ba42877d279de79ab",
            "c70a0952ab1d487196cb15fd055a4577"
          ]
        },
        "id": "pIGER3YArUnO",
        "outputId": "46986f01-0495-4178-fb5d-7e56ba8c088f"
      },
      "execution_count": 4,
      "outputs": [
        {
          "output_type": "display_data",
          "data": {
            "text/plain": [
              "<IPython.core.display.HTML object>"
            ],
            "text/html": []
          },
          "metadata": {}
        },
        {
          "output_type": "display_data",
          "data": {
            "text/plain": [
              "<pandas.io.formats.style.Styler at 0x7870dfa7b970>"
            ],
            "text/html": [
              "<style type=\"text/css\">\n",
              "#T_64407 th {\n",
              "  text-align: left;\n",
              "}\n",
              "#T_64407_row0_col0, #T_64407_row0_col4, #T_64407_row1_col0, #T_64407_row1_col1, #T_64407_row1_col3, #T_64407_row1_col5, #T_64407_row1_col6, #T_64407_row1_col7, #T_64407_row2_col0, #T_64407_row2_col1, #T_64407_row2_col3, #T_64407_row2_col4, #T_64407_row2_col5, #T_64407_row2_col6, #T_64407_row2_col7, #T_64407_row3_col0, #T_64407_row3_col1, #T_64407_row3_col3, #T_64407_row3_col4, #T_64407_row3_col5, #T_64407_row3_col6, #T_64407_row3_col7, #T_64407_row4_col0, #T_64407_row4_col1, #T_64407_row4_col3, #T_64407_row4_col4, #T_64407_row4_col5, #T_64407_row4_col6, #T_64407_row4_col7, #T_64407_row5_col0, #T_64407_row5_col1, #T_64407_row5_col3, #T_64407_row5_col4, #T_64407_row5_col5, #T_64407_row5_col6, #T_64407_row5_col7, #T_64407_row6_col0, #T_64407_row6_col1, #T_64407_row6_col3, #T_64407_row6_col4, #T_64407_row6_col5, #T_64407_row6_col6, #T_64407_row6_col7, #T_64407_row7_col0, #T_64407_row7_col1, #T_64407_row7_col3, #T_64407_row7_col4, #T_64407_row7_col5, #T_64407_row7_col6, #T_64407_row7_col7, #T_64407_row8_col0, #T_64407_row8_col1, #T_64407_row8_col3, #T_64407_row8_col4, #T_64407_row8_col5, #T_64407_row8_col6, #T_64407_row8_col7, #T_64407_row9_col0, #T_64407_row9_col1, #T_64407_row9_col3, #T_64407_row9_col4, #T_64407_row9_col5, #T_64407_row9_col6, #T_64407_row9_col7, #T_64407_row10_col0, #T_64407_row10_col1, #T_64407_row10_col3, #T_64407_row10_col4, #T_64407_row10_col5, #T_64407_row10_col6, #T_64407_row10_col7, #T_64407_row11_col0, #T_64407_row11_col1, #T_64407_row11_col3, #T_64407_row11_col4, #T_64407_row11_col5, #T_64407_row11_col6, #T_64407_row11_col7, #T_64407_row12_col0, #T_64407_row12_col1, #T_64407_row12_col3, #T_64407_row12_col4, #T_64407_row12_col5, #T_64407_row12_col6, #T_64407_row12_col7, #T_64407_row13_col0, #T_64407_row13_col1, #T_64407_row13_col3, #T_64407_row13_col4, #T_64407_row13_col5, #T_64407_row13_col6, #T_64407_row13_col7, #T_64407_row14_col0, #T_64407_row14_col1, #T_64407_row14_col3, #T_64407_row14_col4, #T_64407_row14_col5, #T_64407_row14_col6, #T_64407_row14_col7 {\n",
              "  text-align: left;\n",
              "}\n",
              "#T_64407_row0_col1, #T_64407_row0_col2, #T_64407_row0_col3, #T_64407_row0_col5, #T_64407_row0_col6, #T_64407_row0_col7, #T_64407_row1_col2, #T_64407_row1_col4, #T_64407_row2_col2, #T_64407_row3_col2, #T_64407_row4_col2, #T_64407_row5_col2, #T_64407_row6_col2, #T_64407_row7_col2, #T_64407_row8_col2, #T_64407_row9_col2, #T_64407_row10_col2, #T_64407_row11_col2, #T_64407_row12_col2, #T_64407_row13_col2, #T_64407_row14_col2 {\n",
              "  text-align: left;\n",
              "  background-color: yellow;\n",
              "}\n",
              "#T_64407_row0_col8, #T_64407_row1_col8, #T_64407_row2_col8, #T_64407_row3_col8, #T_64407_row4_col8, #T_64407_row5_col8, #T_64407_row6_col8, #T_64407_row7_col8, #T_64407_row8_col8, #T_64407_row9_col8, #T_64407_row10_col8, #T_64407_row11_col8, #T_64407_row12_col8, #T_64407_row13_col8 {\n",
              "  text-align: left;\n",
              "  background-color: lightgrey;\n",
              "}\n",
              "#T_64407_row14_col8 {\n",
              "  text-align: left;\n",
              "  background-color: yellow;\n",
              "  background-color: lightgrey;\n",
              "}\n",
              "</style>\n",
              "<table id=\"T_64407\" class=\"dataframe\">\n",
              "  <thead>\n",
              "    <tr>\n",
              "      <th class=\"blank level0\" >&nbsp;</th>\n",
              "      <th id=\"T_64407_level0_col0\" class=\"col_heading level0 col0\" >Model</th>\n",
              "      <th id=\"T_64407_level0_col1\" class=\"col_heading level0 col1\" >Accuracy</th>\n",
              "      <th id=\"T_64407_level0_col2\" class=\"col_heading level0 col2\" >AUC</th>\n",
              "      <th id=\"T_64407_level0_col3\" class=\"col_heading level0 col3\" >Recall</th>\n",
              "      <th id=\"T_64407_level0_col4\" class=\"col_heading level0 col4\" >Prec.</th>\n",
              "      <th id=\"T_64407_level0_col5\" class=\"col_heading level0 col5\" >F1</th>\n",
              "      <th id=\"T_64407_level0_col6\" class=\"col_heading level0 col6\" >Kappa</th>\n",
              "      <th id=\"T_64407_level0_col7\" class=\"col_heading level0 col7\" >MCC</th>\n",
              "      <th id=\"T_64407_level0_col8\" class=\"col_heading level0 col8\" >TT (Sec)</th>\n",
              "    </tr>\n",
              "  </thead>\n",
              "  <tbody>\n",
              "    <tr>\n",
              "      <th id=\"T_64407_level0_row0\" class=\"row_heading level0 row0\" >lr</th>\n",
              "      <td id=\"T_64407_row0_col0\" class=\"data row0 col0\" >Logistic Regression</td>\n",
              "      <td id=\"T_64407_row0_col1\" class=\"data row0 col1\" >0.7930</td>\n",
              "      <td id=\"T_64407_row0_col2\" class=\"data row0 col2\" >0.0000</td>\n",
              "      <td id=\"T_64407_row0_col3\" class=\"data row0 col3\" >0.6362</td>\n",
              "      <td id=\"T_64407_row0_col4\" class=\"data row0 col4\" >0.7863</td>\n",
              "      <td id=\"T_64407_row0_col5\" class=\"data row0 col5\" >0.6988</td>\n",
              "      <td id=\"T_64407_row0_col6\" class=\"data row0 col6\" >0.5450</td>\n",
              "      <td id=\"T_64407_row0_col7\" class=\"data row0 col7\" >0.5552</td>\n",
              "      <td id=\"T_64407_row0_col8\" class=\"data row0 col8\" >1.1280</td>\n",
              "    </tr>\n",
              "    <tr>\n",
              "      <th id=\"T_64407_level0_row1\" class=\"row_heading level0 row1\" >ridge</th>\n",
              "      <td id=\"T_64407_row1_col0\" class=\"data row1 col0\" >Ridge Classifier</td>\n",
              "      <td id=\"T_64407_row1_col1\" class=\"data row1 col1\" >0.7192</td>\n",
              "      <td id=\"T_64407_row1_col2\" class=\"data row1 col2\" >0.0000</td>\n",
              "      <td id=\"T_64407_row1_col3\" class=\"data row1 col3\" >0.3558</td>\n",
              "      <td id=\"T_64407_row1_col4\" class=\"data row1 col4\" >0.8040</td>\n",
              "      <td id=\"T_64407_row1_col5\" class=\"data row1 col5\" >0.4884</td>\n",
              "      <td id=\"T_64407_row1_col6\" class=\"data row1 col6\" >0.3355</td>\n",
              "      <td id=\"T_64407_row1_col7\" class=\"data row1 col7\" >0.3896</td>\n",
              "      <td id=\"T_64407_row1_col8\" class=\"data row1 col8\" >0.2220</td>\n",
              "    </tr>\n",
              "    <tr>\n",
              "      <th id=\"T_64407_level0_row2\" class=\"row_heading level0 row2\" >et</th>\n",
              "      <td id=\"T_64407_row2_col0\" class=\"data row2 col0\" >Extra Trees Classifier</td>\n",
              "      <td id=\"T_64407_row2_col1\" class=\"data row2 col1\" >0.6436</td>\n",
              "      <td id=\"T_64407_row2_col2\" class=\"data row2 col2\" >0.0000</td>\n",
              "      <td id=\"T_64407_row2_col3\" class=\"data row2 col3\" >0.1005</td>\n",
              "      <td id=\"T_64407_row2_col4\" class=\"data row2 col4\" >0.6850</td>\n",
              "      <td id=\"T_64407_row2_col5\" class=\"data row2 col5\" >0.1707</td>\n",
              "      <td id=\"T_64407_row2_col6\" class=\"data row2 col6\" >0.0974</td>\n",
              "      <td id=\"T_64407_row2_col7\" class=\"data row2 col7\" >0.1664</td>\n",
              "      <td id=\"T_64407_row2_col8\" class=\"data row2 col8\" >0.3440</td>\n",
              "    </tr>\n",
              "    <tr>\n",
              "      <th id=\"T_64407_level0_row3\" class=\"row_heading level0 row3\" >nb</th>\n",
              "      <td id=\"T_64407_row3_col0\" class=\"data row3 col0\" >Naive Bayes</td>\n",
              "      <td id=\"T_64407_row3_col1\" class=\"data row3 col1\" >0.6405</td>\n",
              "      <td id=\"T_64407_row3_col2\" class=\"data row3 col2\" >0.0000</td>\n",
              "      <td id=\"T_64407_row3_col3\" class=\"data row3 col3\" >0.1047</td>\n",
              "      <td id=\"T_64407_row3_col4\" class=\"data row3 col4\" >0.6900</td>\n",
              "      <td id=\"T_64407_row3_col5\" class=\"data row3 col5\" >0.1803</td>\n",
              "      <td id=\"T_64407_row3_col6\" class=\"data row3 col6\" >0.0934</td>\n",
              "      <td id=\"T_64407_row3_col7\" class=\"data row3 col7\" >0.1593</td>\n",
              "      <td id=\"T_64407_row3_col8\" class=\"data row3 col8\" >0.1470</td>\n",
              "    </tr>\n",
              "    <tr>\n",
              "      <th id=\"T_64407_level0_row4\" class=\"row_heading level0 row4\" >knn</th>\n",
              "      <td id=\"T_64407_row4_col0\" class=\"data row4 col0\" >K Neighbors Classifier</td>\n",
              "      <td id=\"T_64407_row4_col1\" class=\"data row4 col1\" >0.6198</td>\n",
              "      <td id=\"T_64407_row4_col2\" class=\"data row4 col2\" >0.0000</td>\n",
              "      <td id=\"T_64407_row4_col3\" class=\"data row4 col3\" >0.4101</td>\n",
              "      <td id=\"T_64407_row4_col4\" class=\"data row4 col4\" >0.5147</td>\n",
              "      <td id=\"T_64407_row4_col5\" class=\"data row4 col5\" >0.4539</td>\n",
              "      <td id=\"T_64407_row4_col6\" class=\"data row4 col6\" >0.1679</td>\n",
              "      <td id=\"T_64407_row4_col7\" class=\"data row4 col7\" >0.1723</td>\n",
              "      <td id=\"T_64407_row4_col8\" class=\"data row4 col8\" >0.1500</td>\n",
              "    </tr>\n",
              "    <tr>\n",
              "      <th id=\"T_64407_level0_row5\" class=\"row_heading level0 row5\" >rf</th>\n",
              "      <td id=\"T_64407_row5_col0\" class=\"data row5 col0\" >Random Forest Classifier</td>\n",
              "      <td id=\"T_64407_row5_col1\" class=\"data row5 col1\" >0.6180</td>\n",
              "      <td id=\"T_64407_row5_col2\" class=\"data row5 col2\" >0.0000</td>\n",
              "      <td id=\"T_64407_row5_col3\" class=\"data row5 col3\" >0.0043</td>\n",
              "      <td id=\"T_64407_row5_col4\" class=\"data row5 col4\" >0.1000</td>\n",
              "      <td id=\"T_64407_row5_col5\" class=\"data row5 col5\" >0.0083</td>\n",
              "      <td id=\"T_64407_row5_col6\" class=\"data row5 col6\" >0.0054</td>\n",
              "      <td id=\"T_64407_row5_col7\" class=\"data row5 col7\" >0.0167</td>\n",
              "      <td id=\"T_64407_row5_col8\" class=\"data row5 col8\" >0.2840</td>\n",
              "    </tr>\n",
              "    <tr>\n",
              "      <th id=\"T_64407_level0_row6\" class=\"row_heading level0 row6\" >lda</th>\n",
              "      <td id=\"T_64407_row6_col0\" class=\"data row6 col0\" >Linear Discriminant Analysis</td>\n",
              "      <td id=\"T_64407_row6_col1\" class=\"data row6 col1\" >0.6180</td>\n",
              "      <td id=\"T_64407_row6_col2\" class=\"data row6 col2\" >0.0000</td>\n",
              "      <td id=\"T_64407_row6_col3\" class=\"data row6 col3\" >0.0261</td>\n",
              "      <td id=\"T_64407_row6_col4\" class=\"data row6 col4\" >0.0545</td>\n",
              "      <td id=\"T_64407_row6_col5\" class=\"data row6 col5\" >0.0353</td>\n",
              "      <td id=\"T_64407_row6_col6\" class=\"data row6 col6\" >0.0149</td>\n",
              "      <td id=\"T_64407_row6_col7\" class=\"data row6 col7\" >0.0168</td>\n",
              "      <td id=\"T_64407_row6_col8\" class=\"data row6 col8\" >0.1560</td>\n",
              "    </tr>\n",
              "    <tr>\n",
              "      <th id=\"T_64407_level0_row7\" class=\"row_heading level0 row7\" >dt</th>\n",
              "      <td id=\"T_64407_row7_col0\" class=\"data row7 col0\" >Decision Tree Classifier</td>\n",
              "      <td id=\"T_64407_row7_col1\" class=\"data row7 col1\" >0.6164</td>\n",
              "      <td id=\"T_64407_row7_col2\" class=\"data row7 col2\" >0.0000</td>\n",
              "      <td id=\"T_64407_row7_col3\" class=\"data row7 col3\" >0.0000</td>\n",
              "      <td id=\"T_64407_row7_col4\" class=\"data row7 col4\" >0.0000</td>\n",
              "      <td id=\"T_64407_row7_col5\" class=\"data row7 col5\" >0.0000</td>\n",
              "      <td id=\"T_64407_row7_col6\" class=\"data row7 col6\" >0.0000</td>\n",
              "      <td id=\"T_64407_row7_col7\" class=\"data row7 col7\" >0.0000</td>\n",
              "      <td id=\"T_64407_row7_col8\" class=\"data row7 col8\" >0.1480</td>\n",
              "    </tr>\n",
              "    <tr>\n",
              "      <th id=\"T_64407_level0_row8\" class=\"row_heading level0 row8\" >ada</th>\n",
              "      <td id=\"T_64407_row8_col0\" class=\"data row8 col0\" >Ada Boost Classifier</td>\n",
              "      <td id=\"T_64407_row8_col1\" class=\"data row8 col1\" >0.6164</td>\n",
              "      <td id=\"T_64407_row8_col2\" class=\"data row8 col2\" >0.0000</td>\n",
              "      <td id=\"T_64407_row8_col3\" class=\"data row8 col3\" >0.0000</td>\n",
              "      <td id=\"T_64407_row8_col4\" class=\"data row8 col4\" >0.0000</td>\n",
              "      <td id=\"T_64407_row8_col5\" class=\"data row8 col5\" >0.0000</td>\n",
              "      <td id=\"T_64407_row8_col6\" class=\"data row8 col6\" >0.0000</td>\n",
              "      <td id=\"T_64407_row8_col7\" class=\"data row8 col7\" >0.0000</td>\n",
              "      <td id=\"T_64407_row8_col8\" class=\"data row8 col8\" >0.1400</td>\n",
              "    </tr>\n",
              "    <tr>\n",
              "      <th id=\"T_64407_level0_row9\" class=\"row_heading level0 row9\" >gbc</th>\n",
              "      <td id=\"T_64407_row9_col0\" class=\"data row9 col0\" >Gradient Boosting Classifier</td>\n",
              "      <td id=\"T_64407_row9_col1\" class=\"data row9 col1\" >0.6164</td>\n",
              "      <td id=\"T_64407_row9_col2\" class=\"data row9 col2\" >0.0000</td>\n",
              "      <td id=\"T_64407_row9_col3\" class=\"data row9 col3\" >0.0000</td>\n",
              "      <td id=\"T_64407_row9_col4\" class=\"data row9 col4\" >0.0000</td>\n",
              "      <td id=\"T_64407_row9_col5\" class=\"data row9 col5\" >0.0000</td>\n",
              "      <td id=\"T_64407_row9_col6\" class=\"data row9 col6\" >0.0000</td>\n",
              "      <td id=\"T_64407_row9_col7\" class=\"data row9 col7\" >0.0000</td>\n",
              "      <td id=\"T_64407_row9_col8\" class=\"data row9 col8\" >0.2160</td>\n",
              "    </tr>\n",
              "    <tr>\n",
              "      <th id=\"T_64407_level0_row10\" class=\"row_heading level0 row10\" >xgboost</th>\n",
              "      <td id=\"T_64407_row10_col0\" class=\"data row10 col0\" >Extreme Gradient Boosting</td>\n",
              "      <td id=\"T_64407_row10_col1\" class=\"data row10 col1\" >0.6164</td>\n",
              "      <td id=\"T_64407_row10_col2\" class=\"data row10 col2\" >0.0000</td>\n",
              "      <td id=\"T_64407_row10_col3\" class=\"data row10 col3\" >0.0000</td>\n",
              "      <td id=\"T_64407_row10_col4\" class=\"data row10 col4\" >0.0000</td>\n",
              "      <td id=\"T_64407_row10_col5\" class=\"data row10 col5\" >0.0000</td>\n",
              "      <td id=\"T_64407_row10_col6\" class=\"data row10 col6\" >0.0000</td>\n",
              "      <td id=\"T_64407_row10_col7\" class=\"data row10 col7\" >0.0000</td>\n",
              "      <td id=\"T_64407_row10_col8\" class=\"data row10 col8\" >0.1660</td>\n",
              "    </tr>\n",
              "    <tr>\n",
              "      <th id=\"T_64407_level0_row11\" class=\"row_heading level0 row11\" >lightgbm</th>\n",
              "      <td id=\"T_64407_row11_col0\" class=\"data row11 col0\" >Light Gradient Boosting Machine</td>\n",
              "      <td id=\"T_64407_row11_col1\" class=\"data row11 col1\" >0.6164</td>\n",
              "      <td id=\"T_64407_row11_col2\" class=\"data row11 col2\" >0.0000</td>\n",
              "      <td id=\"T_64407_row11_col3\" class=\"data row11 col3\" >0.0000</td>\n",
              "      <td id=\"T_64407_row11_col4\" class=\"data row11 col4\" >0.0000</td>\n",
              "      <td id=\"T_64407_row11_col5\" class=\"data row11 col5\" >0.0000</td>\n",
              "      <td id=\"T_64407_row11_col6\" class=\"data row11 col6\" >0.0000</td>\n",
              "      <td id=\"T_64407_row11_col7\" class=\"data row11 col7\" >0.0000</td>\n",
              "      <td id=\"T_64407_row11_col8\" class=\"data row11 col8\" >0.5380</td>\n",
              "    </tr>\n",
              "    <tr>\n",
              "      <th id=\"T_64407_level0_row12\" class=\"row_heading level0 row12\" >dummy</th>\n",
              "      <td id=\"T_64407_row12_col0\" class=\"data row12 col0\" >Dummy Classifier</td>\n",
              "      <td id=\"T_64407_row12_col1\" class=\"data row12 col1\" >0.6164</td>\n",
              "      <td id=\"T_64407_row12_col2\" class=\"data row12 col2\" >0.0000</td>\n",
              "      <td id=\"T_64407_row12_col3\" class=\"data row12 col3\" >0.0000</td>\n",
              "      <td id=\"T_64407_row12_col4\" class=\"data row12 col4\" >0.0000</td>\n",
              "      <td id=\"T_64407_row12_col5\" class=\"data row12 col5\" >0.0000</td>\n",
              "      <td id=\"T_64407_row12_col6\" class=\"data row12 col6\" >0.0000</td>\n",
              "      <td id=\"T_64407_row12_col7\" class=\"data row12 col7\" >0.0000</td>\n",
              "      <td id=\"T_64407_row12_col8\" class=\"data row12 col8\" >0.1540</td>\n",
              "    </tr>\n",
              "    <tr>\n",
              "      <th id=\"T_64407_level0_row13\" class=\"row_heading level0 row13\" >svm</th>\n",
              "      <td id=\"T_64407_row13_col0\" class=\"data row13 col0\" >SVM - Linear Kernel</td>\n",
              "      <td id=\"T_64407_row13_col1\" class=\"data row13 col1\" >0.5968</td>\n",
              "      <td id=\"T_64407_row13_col2\" class=\"data row13 col2\" >0.0000</td>\n",
              "      <td id=\"T_64407_row13_col3\" class=\"data row13 col3\" >0.3583</td>\n",
              "      <td id=\"T_64407_row13_col4\" class=\"data row13 col4\" >0.5207</td>\n",
              "      <td id=\"T_64407_row13_col5\" class=\"data row13 col5\" >0.3163</td>\n",
              "      <td id=\"T_64407_row13_col6\" class=\"data row13 col6\" >0.1060</td>\n",
              "      <td id=\"T_64407_row13_col7\" class=\"data row13 col7\" >0.1304</td>\n",
              "      <td id=\"T_64407_row13_col8\" class=\"data row13 col8\" >0.1430</td>\n",
              "    </tr>\n",
              "    <tr>\n",
              "      <th id=\"T_64407_level0_row14\" class=\"row_heading level0 row14\" >qda</th>\n",
              "      <td id=\"T_64407_row14_col0\" class=\"data row14 col0\" >Quadratic Discriminant Analysis</td>\n",
              "      <td id=\"T_64407_row14_col1\" class=\"data row14 col1\" >0.5938</td>\n",
              "      <td id=\"T_64407_row14_col2\" class=\"data row14 col2\" >0.0000</td>\n",
              "      <td id=\"T_64407_row14_col3\" class=\"data row14 col3\" >0.1000</td>\n",
              "      <td id=\"T_64407_row14_col4\" class=\"data row14 col4\" >0.0387</td>\n",
              "      <td id=\"T_64407_row14_col5\" class=\"data row14 col5\" >0.0558</td>\n",
              "      <td id=\"T_64407_row14_col6\" class=\"data row14 col6\" >0.0000</td>\n",
              "      <td id=\"T_64407_row14_col7\" class=\"data row14 col7\" >0.0000</td>\n",
              "      <td id=\"T_64407_row14_col8\" class=\"data row14 col8\" >0.1390</td>\n",
              "    </tr>\n",
              "  </tbody>\n",
              "</table>\n"
            ]
          },
          "metadata": {}
        },
        {
          "output_type": "display_data",
          "data": {
            "text/plain": [
              "Processing:   0%|          | 0/65 [00:00<?, ?it/s]"
            ],
            "application/vnd.jupyter.widget-view+json": {
              "version_major": 2,
              "version_minor": 0,
              "model_id": "ff9ee9e6814d4b909c4da55fc0e0714d"
            }
          },
          "metadata": {
            "application/vnd.jupyter.widget-view+json": {
              "colab": {
                "custom_widget_manager": {
                  "url": "https://ssl.gstatic.com/colaboratory-static/widgets/colab-cdn-widget-manager/2b70e893a8ba7c0f/manager.min.js"
                }
              }
            }
          }
        },
        {
          "output_type": "display_data",
          "data": {
            "text/plain": [
              "<IPython.core.display.HTML object>"
            ],
            "text/html": []
          },
          "metadata": {}
        }
      ]
    },
    {
      "cell_type": "code",
      "source": [
        "# Detalhamento melhor modelo\n",
        "print(best)"
      ],
      "metadata": {
        "colab": {
          "base_uri": "https://localhost:8080/"
        },
        "id": "9IdEuFRGsBtN",
        "outputId": "4ca22b60-c238-4cf7-f3e0-dbad55edc9f3"
      },
      "execution_count": 5,
      "outputs": [
        {
          "output_type": "stream",
          "name": "stdout",
          "text": [
            "LogisticRegression(C=1.0, class_weight=None, dual=False, fit_intercept=True,\n",
            "                   intercept_scaling=1, l1_ratio=None, max_iter=1000,\n",
            "                   multi_class='auto', n_jobs=None, penalty='l2',\n",
            "                   random_state=1394, solver='lbfgs', tol=0.0001, verbose=0,\n",
            "                   warm_start=False)\n"
          ]
        }
      ]
    },
    {
      "cell_type": "code",
      "source": [
        "# Análise do melhor modelo\n",
        "evaluate_model(best)"
      ],
      "metadata": {
        "colab": {
          "base_uri": "https://localhost:8080/",
          "height": 628,
          "referenced_widgets": [
            "dfaca915191c43bca25da055214d0410",
            "c777cfa916dd4d35ac7004883bd5e0df",
            "893e446cb1b840d5a078679373dc7aa3",
            "9c1cb25126c040c5a3310f7d9393e422",
            "74d9bdf6cab24309b857b0dc5731695d",
            "f0a4317e2f5043ec978115ee09ef5841",
            "be5e878a33a146e2b9324b0c82d9d4da"
          ]
        },
        "id": "mhjTucTysUmy",
        "outputId": "897b3299-d758-41a2-d5f9-5d87305a733c"
      },
      "execution_count": 8,
      "outputs": [
        {
          "output_type": "display_data",
          "data": {
            "text/plain": [
              "interactive(children=(ToggleButtons(description='Plot Type:', icons=('',), options=(('Pipeline Plot', 'pipelin…"
            ],
            "application/vnd.jupyter.widget-view+json": {
              "version_major": 2,
              "version_minor": 0,
              "model_id": "dfaca915191c43bca25da055214d0410"
            }
          },
          "metadata": {
            "application/vnd.jupyter.widget-view+json": {
              "colab": {
                "custom_widget_manager": {
                  "url": "https://ssl.gstatic.com/colaboratory-static/widgets/colab-cdn-widget-manager/2b70e893a8ba7c0f/manager.min.js"
                }
              }
            }
          }
        }
      ]
    }
  ]
}